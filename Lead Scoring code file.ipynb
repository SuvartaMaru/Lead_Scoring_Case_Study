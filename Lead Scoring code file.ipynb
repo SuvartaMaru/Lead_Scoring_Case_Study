{
 "cells": [
  {
   "cell_type": "markdown",
   "id": "1ec2a49d",
   "metadata": {},
   "source": [
    "### Importing the necessary libraries:"
   ]
  },
  {
   "cell_type": "code",
   "execution_count": 1,
   "id": "49e0b797",
   "metadata": {},
   "outputs": [],
   "source": [
    "import pandas as pd\n",
    "import numpy as np\n",
    "import matplotlib.pyplot as plt\n",
    "import seaborn as sns\n",
    "import warnings\n",
    "warnings.filterwarnings('ignore')\n",
    "\n",
    "import statsmodels.api as sm\n",
    "from statsmodels.stats.outliers_influence import variance_inflation_factor\n",
    "\n",
    "import sklearn\n",
    "from sklearn.metrics import precision_recall_curve\n",
    "from sklearn import metrics\n",
    "from sklearn.metrics import precision_score, recall_score\n",
    "from sklearn.model_selection import train_test_split\n",
    "from sklearn.preprocessing import StandardScaler\n",
    "from sklearn.linear_model import LogisticRegression\n",
    "from sklearn.feature_selection import RFE\n",
    "from sklearn.metrics import confusion_matrix"
   ]
  },
  {
   "cell_type": "markdown",
   "id": "8b984e0f",
   "metadata": {},
   "source": [
    "###   Importing and reading the data"
   ]
  },
  {
   "cell_type": "code",
   "execution_count": 2,
   "id": "668007ac",
   "metadata": {},
   "outputs": [
    {
     "data": {
      "text/html": [
       "<div>\n",
       "<style scoped>\n",
       "    .dataframe tbody tr th:only-of-type {\n",
       "        vertical-align: middle;\n",
       "    }\n",
       "\n",
       "    .dataframe tbody tr th {\n",
       "        vertical-align: top;\n",
       "    }\n",
       "\n",
       "    .dataframe thead th {\n",
       "        text-align: right;\n",
       "    }\n",
       "</style>\n",
       "<table border=\"1\" class=\"dataframe\">\n",
       "  <thead>\n",
       "    <tr style=\"text-align: right;\">\n",
       "      <th></th>\n",
       "      <th>Prospect ID</th>\n",
       "      <th>Lead Number</th>\n",
       "      <th>Lead Origin</th>\n",
       "      <th>Lead Source</th>\n",
       "      <th>Do Not Email</th>\n",
       "      <th>Do Not Call</th>\n",
       "      <th>Converted</th>\n",
       "      <th>TotalVisits</th>\n",
       "      <th>Total Time Spent on Website</th>\n",
       "      <th>Page Views Per Visit</th>\n",
       "      <th>...</th>\n",
       "      <th>Get updates on DM Content</th>\n",
       "      <th>Lead Profile</th>\n",
       "      <th>City</th>\n",
       "      <th>Asymmetrique Activity Index</th>\n",
       "      <th>Asymmetrique Profile Index</th>\n",
       "      <th>Asymmetrique Activity Score</th>\n",
       "      <th>Asymmetrique Profile Score</th>\n",
       "      <th>I agree to pay the amount through cheque</th>\n",
       "      <th>A free copy of Mastering The Interview</th>\n",
       "      <th>Last Notable Activity</th>\n",
       "    </tr>\n",
       "  </thead>\n",
       "  <tbody>\n",
       "    <tr>\n",
       "      <th>0</th>\n",
       "      <td>7927b2df-8bba-4d29-b9a2-b6e0beafe620</td>\n",
       "      <td>660737</td>\n",
       "      <td>API</td>\n",
       "      <td>Olark Chat</td>\n",
       "      <td>No</td>\n",
       "      <td>No</td>\n",
       "      <td>0</td>\n",
       "      <td>0.0</td>\n",
       "      <td>0</td>\n",
       "      <td>0.0</td>\n",
       "      <td>...</td>\n",
       "      <td>No</td>\n",
       "      <td>Select</td>\n",
       "      <td>Select</td>\n",
       "      <td>02.Medium</td>\n",
       "      <td>02.Medium</td>\n",
       "      <td>15.0</td>\n",
       "      <td>15.0</td>\n",
       "      <td>No</td>\n",
       "      <td>No</td>\n",
       "      <td>Modified</td>\n",
       "    </tr>\n",
       "    <tr>\n",
       "      <th>1</th>\n",
       "      <td>2a272436-5132-4136-86fa-dcc88c88f482</td>\n",
       "      <td>660728</td>\n",
       "      <td>API</td>\n",
       "      <td>Organic Search</td>\n",
       "      <td>No</td>\n",
       "      <td>No</td>\n",
       "      <td>0</td>\n",
       "      <td>5.0</td>\n",
       "      <td>674</td>\n",
       "      <td>2.5</td>\n",
       "      <td>...</td>\n",
       "      <td>No</td>\n",
       "      <td>Select</td>\n",
       "      <td>Select</td>\n",
       "      <td>02.Medium</td>\n",
       "      <td>02.Medium</td>\n",
       "      <td>15.0</td>\n",
       "      <td>15.0</td>\n",
       "      <td>No</td>\n",
       "      <td>No</td>\n",
       "      <td>Email Opened</td>\n",
       "    </tr>\n",
       "    <tr>\n",
       "      <th>2</th>\n",
       "      <td>8cc8c611-a219-4f35-ad23-fdfd2656bd8a</td>\n",
       "      <td>660727</td>\n",
       "      <td>Landing Page Submission</td>\n",
       "      <td>Direct Traffic</td>\n",
       "      <td>No</td>\n",
       "      <td>No</td>\n",
       "      <td>1</td>\n",
       "      <td>2.0</td>\n",
       "      <td>1532</td>\n",
       "      <td>2.0</td>\n",
       "      <td>...</td>\n",
       "      <td>No</td>\n",
       "      <td>Potential Lead</td>\n",
       "      <td>Mumbai</td>\n",
       "      <td>02.Medium</td>\n",
       "      <td>01.High</td>\n",
       "      <td>14.0</td>\n",
       "      <td>20.0</td>\n",
       "      <td>No</td>\n",
       "      <td>Yes</td>\n",
       "      <td>Email Opened</td>\n",
       "    </tr>\n",
       "    <tr>\n",
       "      <th>3</th>\n",
       "      <td>0cc2df48-7cf4-4e39-9de9-19797f9b38cc</td>\n",
       "      <td>660719</td>\n",
       "      <td>Landing Page Submission</td>\n",
       "      <td>Direct Traffic</td>\n",
       "      <td>No</td>\n",
       "      <td>No</td>\n",
       "      <td>0</td>\n",
       "      <td>1.0</td>\n",
       "      <td>305</td>\n",
       "      <td>1.0</td>\n",
       "      <td>...</td>\n",
       "      <td>No</td>\n",
       "      <td>Select</td>\n",
       "      <td>Mumbai</td>\n",
       "      <td>02.Medium</td>\n",
       "      <td>01.High</td>\n",
       "      <td>13.0</td>\n",
       "      <td>17.0</td>\n",
       "      <td>No</td>\n",
       "      <td>No</td>\n",
       "      <td>Modified</td>\n",
       "    </tr>\n",
       "    <tr>\n",
       "      <th>4</th>\n",
       "      <td>3256f628-e534-4826-9d63-4a8b88782852</td>\n",
       "      <td>660681</td>\n",
       "      <td>Landing Page Submission</td>\n",
       "      <td>Google</td>\n",
       "      <td>No</td>\n",
       "      <td>No</td>\n",
       "      <td>1</td>\n",
       "      <td>2.0</td>\n",
       "      <td>1428</td>\n",
       "      <td>1.0</td>\n",
       "      <td>...</td>\n",
       "      <td>No</td>\n",
       "      <td>Select</td>\n",
       "      <td>Mumbai</td>\n",
       "      <td>02.Medium</td>\n",
       "      <td>01.High</td>\n",
       "      <td>15.0</td>\n",
       "      <td>18.0</td>\n",
       "      <td>No</td>\n",
       "      <td>No</td>\n",
       "      <td>Modified</td>\n",
       "    </tr>\n",
       "  </tbody>\n",
       "</table>\n",
       "<p>5 rows × 37 columns</p>\n",
       "</div>"
      ],
      "text/plain": [
       "                            Prospect ID  Lead Number              Lead Origin  \\\n",
       "0  7927b2df-8bba-4d29-b9a2-b6e0beafe620       660737                      API   \n",
       "1  2a272436-5132-4136-86fa-dcc88c88f482       660728                      API   \n",
       "2  8cc8c611-a219-4f35-ad23-fdfd2656bd8a       660727  Landing Page Submission   \n",
       "3  0cc2df48-7cf4-4e39-9de9-19797f9b38cc       660719  Landing Page Submission   \n",
       "4  3256f628-e534-4826-9d63-4a8b88782852       660681  Landing Page Submission   \n",
       "\n",
       "      Lead Source Do Not Email Do Not Call  Converted  TotalVisits  \\\n",
       "0      Olark Chat           No          No          0          0.0   \n",
       "1  Organic Search           No          No          0          5.0   \n",
       "2  Direct Traffic           No          No          1          2.0   \n",
       "3  Direct Traffic           No          No          0          1.0   \n",
       "4          Google           No          No          1          2.0   \n",
       "\n",
       "   Total Time Spent on Website  Page Views Per Visit  ...  \\\n",
       "0                            0                   0.0  ...   \n",
       "1                          674                   2.5  ...   \n",
       "2                         1532                   2.0  ...   \n",
       "3                          305                   1.0  ...   \n",
       "4                         1428                   1.0  ...   \n",
       "\n",
       "  Get updates on DM Content    Lead Profile    City  \\\n",
       "0                        No          Select  Select   \n",
       "1                        No          Select  Select   \n",
       "2                        No  Potential Lead  Mumbai   \n",
       "3                        No          Select  Mumbai   \n",
       "4                        No          Select  Mumbai   \n",
       "\n",
       "  Asymmetrique Activity Index Asymmetrique Profile Index  \\\n",
       "0                   02.Medium                  02.Medium   \n",
       "1                   02.Medium                  02.Medium   \n",
       "2                   02.Medium                    01.High   \n",
       "3                   02.Medium                    01.High   \n",
       "4                   02.Medium                    01.High   \n",
       "\n",
       "  Asymmetrique Activity Score Asymmetrique Profile Score  \\\n",
       "0                        15.0                       15.0   \n",
       "1                        15.0                       15.0   \n",
       "2                        14.0                       20.0   \n",
       "3                        13.0                       17.0   \n",
       "4                        15.0                       18.0   \n",
       "\n",
       "  I agree to pay the amount through cheque  \\\n",
       "0                                       No   \n",
       "1                                       No   \n",
       "2                                       No   \n",
       "3                                       No   \n",
       "4                                       No   \n",
       "\n",
       "  A free copy of Mastering The Interview Last Notable Activity  \n",
       "0                                     No              Modified  \n",
       "1                                     No          Email Opened  \n",
       "2                                    Yes          Email Opened  \n",
       "3                                     No              Modified  \n",
       "4                                     No              Modified  \n",
       "\n",
       "[5 rows x 37 columns]"
      ]
     },
     "execution_count": 2,
     "metadata": {},
     "output_type": "execute_result"
    }
   ],
   "source": [
    "df_leads = pd.read_csv(\"Leads.csv\")\n",
    "# Reading the data\n",
    "df_leads.head()"
   ]
  },
  {
   "cell_type": "markdown",
   "id": "1736cebe",
   "metadata": {},
   "source": [
    "### Checking the number of rows and columns by using len"
   ]
  },
  {
   "cell_type": "code",
   "execution_count": 3,
   "id": "bb309c29",
   "metadata": {},
   "outputs": [
    {
     "name": "stdout",
     "output_type": "stream",
     "text": [
      "Number of Rows: 9240\n",
      "Number of Columns: 37\n"
     ]
    }
   ],
   "source": [
    "rows = len(df_leads.axes[0])\n",
    "cols = len(df_leads\n",
    "           .axes[1])\n",
    "  \n",
    "# Print the number of rows and columns\n",
    "print(\"Number of Rows: \" + str(rows))\n",
    "print(\"Number of Columns: \" + str(cols))"
   ]
  },
  {
   "cell_type": "markdown",
   "id": "7700ff99",
   "metadata": {},
   "source": [
    "### We can also check number of rows and columns also by using shape¶"
   ]
  },
  {
   "cell_type": "code",
   "execution_count": 4,
   "id": "5f3abb67",
   "metadata": {},
   "outputs": [
    {
     "data": {
      "text/plain": [
       "(9240, 37)"
      ]
     },
     "execution_count": 4,
     "metadata": {},
     "output_type": "execute_result"
    }
   ],
   "source": [
    "df_leads.shape"
   ]
  },
  {
   "cell_type": "markdown",
   "id": "7e7d78d7",
   "metadata": {},
   "source": [
    "### Checking the data type for analysis"
   ]
  },
  {
   "cell_type": "code",
   "execution_count": 5,
   "id": "3dc5663c",
   "metadata": {},
   "outputs": [
    {
     "data": {
      "text/html": [
       "<div>\n",
       "<style scoped>\n",
       "    .dataframe tbody tr th:only-of-type {\n",
       "        vertical-align: middle;\n",
       "    }\n",
       "\n",
       "    .dataframe tbody tr th {\n",
       "        vertical-align: top;\n",
       "    }\n",
       "\n",
       "    .dataframe thead th {\n",
       "        text-align: right;\n",
       "    }\n",
       "</style>\n",
       "<table border=\"1\" class=\"dataframe\">\n",
       "  <thead>\n",
       "    <tr style=\"text-align: right;\">\n",
       "      <th></th>\n",
       "      <th>Lead Number</th>\n",
       "      <th>Converted</th>\n",
       "      <th>TotalVisits</th>\n",
       "      <th>Total Time Spent on Website</th>\n",
       "      <th>Page Views Per Visit</th>\n",
       "      <th>Asymmetrique Activity Score</th>\n",
       "      <th>Asymmetrique Profile Score</th>\n",
       "    </tr>\n",
       "  </thead>\n",
       "  <tbody>\n",
       "    <tr>\n",
       "      <th>count</th>\n",
       "      <td>9240.000000</td>\n",
       "      <td>9240.000000</td>\n",
       "      <td>9103.000000</td>\n",
       "      <td>9240.000000</td>\n",
       "      <td>9103.000000</td>\n",
       "      <td>5022.000000</td>\n",
       "      <td>5022.000000</td>\n",
       "    </tr>\n",
       "    <tr>\n",
       "      <th>mean</th>\n",
       "      <td>617188.435606</td>\n",
       "      <td>0.385390</td>\n",
       "      <td>3.445238</td>\n",
       "      <td>487.698268</td>\n",
       "      <td>2.362820</td>\n",
       "      <td>14.306252</td>\n",
       "      <td>16.344883</td>\n",
       "    </tr>\n",
       "    <tr>\n",
       "      <th>std</th>\n",
       "      <td>23405.995698</td>\n",
       "      <td>0.486714</td>\n",
       "      <td>4.854853</td>\n",
       "      <td>548.021466</td>\n",
       "      <td>2.161418</td>\n",
       "      <td>1.386694</td>\n",
       "      <td>1.811395</td>\n",
       "    </tr>\n",
       "    <tr>\n",
       "      <th>min</th>\n",
       "      <td>579533.000000</td>\n",
       "      <td>0.000000</td>\n",
       "      <td>0.000000</td>\n",
       "      <td>0.000000</td>\n",
       "      <td>0.000000</td>\n",
       "      <td>7.000000</td>\n",
       "      <td>11.000000</td>\n",
       "    </tr>\n",
       "    <tr>\n",
       "      <th>25%</th>\n",
       "      <td>596484.500000</td>\n",
       "      <td>0.000000</td>\n",
       "      <td>1.000000</td>\n",
       "      <td>12.000000</td>\n",
       "      <td>1.000000</td>\n",
       "      <td>14.000000</td>\n",
       "      <td>15.000000</td>\n",
       "    </tr>\n",
       "    <tr>\n",
       "      <th>50%</th>\n",
       "      <td>615479.000000</td>\n",
       "      <td>0.000000</td>\n",
       "      <td>3.000000</td>\n",
       "      <td>248.000000</td>\n",
       "      <td>2.000000</td>\n",
       "      <td>14.000000</td>\n",
       "      <td>16.000000</td>\n",
       "    </tr>\n",
       "    <tr>\n",
       "      <th>75%</th>\n",
       "      <td>637387.250000</td>\n",
       "      <td>1.000000</td>\n",
       "      <td>5.000000</td>\n",
       "      <td>936.000000</td>\n",
       "      <td>3.000000</td>\n",
       "      <td>15.000000</td>\n",
       "      <td>18.000000</td>\n",
       "    </tr>\n",
       "    <tr>\n",
       "      <th>max</th>\n",
       "      <td>660737.000000</td>\n",
       "      <td>1.000000</td>\n",
       "      <td>251.000000</td>\n",
       "      <td>2272.000000</td>\n",
       "      <td>55.000000</td>\n",
       "      <td>18.000000</td>\n",
       "      <td>20.000000</td>\n",
       "    </tr>\n",
       "  </tbody>\n",
       "</table>\n",
       "</div>"
      ],
      "text/plain": [
       "         Lead Number    Converted  TotalVisits  Total Time Spent on Website  \\\n",
       "count    9240.000000  9240.000000  9103.000000                  9240.000000   \n",
       "mean   617188.435606     0.385390     3.445238                   487.698268   \n",
       "std     23405.995698     0.486714     4.854853                   548.021466   \n",
       "min    579533.000000     0.000000     0.000000                     0.000000   \n",
       "25%    596484.500000     0.000000     1.000000                    12.000000   \n",
       "50%    615479.000000     0.000000     3.000000                   248.000000   \n",
       "75%    637387.250000     1.000000     5.000000                   936.000000   \n",
       "max    660737.000000     1.000000   251.000000                  2272.000000   \n",
       "\n",
       "       Page Views Per Visit  Asymmetrique Activity Score  \\\n",
       "count           9103.000000                  5022.000000   \n",
       "mean               2.362820                    14.306252   \n",
       "std                2.161418                     1.386694   \n",
       "min                0.000000                     7.000000   \n",
       "25%                1.000000                    14.000000   \n",
       "50%                2.000000                    14.000000   \n",
       "75%                3.000000                    15.000000   \n",
       "max               55.000000                    18.000000   \n",
       "\n",
       "       Asymmetrique Profile Score  \n",
       "count                 5022.000000  \n",
       "mean                    16.344883  \n",
       "std                      1.811395  \n",
       "min                     11.000000  \n",
       "25%                     15.000000  \n",
       "50%                     16.000000  \n",
       "75%                     18.000000  \n",
       "max                     20.000000  "
      ]
     },
     "execution_count": 5,
     "metadata": {},
     "output_type": "execute_result"
    }
   ],
   "source": [
    "df_leads.describe()"
   ]
  },
  {
   "cell_type": "code",
   "execution_count": 6,
   "id": "eb931121",
   "metadata": {},
   "outputs": [
    {
     "name": "stdout",
     "output_type": "stream",
     "text": [
      "<class 'pandas.core.frame.DataFrame'>\n",
      "RangeIndex: 9240 entries, 0 to 9239\n",
      "Data columns (total 37 columns):\n",
      " #   Column                                         Non-Null Count  Dtype  \n",
      "---  ------                                         --------------  -----  \n",
      " 0   Prospect ID                                    9240 non-null   object \n",
      " 1   Lead Number                                    9240 non-null   int64  \n",
      " 2   Lead Origin                                    9240 non-null   object \n",
      " 3   Lead Source                                    9204 non-null   object \n",
      " 4   Do Not Email                                   9240 non-null   object \n",
      " 5   Do Not Call                                    9240 non-null   object \n",
      " 6   Converted                                      9240 non-null   int64  \n",
      " 7   TotalVisits                                    9103 non-null   float64\n",
      " 8   Total Time Spent on Website                    9240 non-null   int64  \n",
      " 9   Page Views Per Visit                           9103 non-null   float64\n",
      " 10  Last Activity                                  9137 non-null   object \n",
      " 11  Country                                        6779 non-null   object \n",
      " 12  Specialization                                 7802 non-null   object \n",
      " 13  How did you hear about X Education             7033 non-null   object \n",
      " 14  What is your current occupation                6550 non-null   object \n",
      " 15  What matters most to you in choosing a course  6531 non-null   object \n",
      " 16  Search                                         9240 non-null   object \n",
      " 17  Magazine                                       9240 non-null   object \n",
      " 18  Newspaper Article                              9240 non-null   object \n",
      " 19  X Education Forums                             9240 non-null   object \n",
      " 20  Newspaper                                      9240 non-null   object \n",
      " 21  Digital Advertisement                          9240 non-null   object \n",
      " 22  Through Recommendations                        9240 non-null   object \n",
      " 23  Receive More Updates About Our Courses         9240 non-null   object \n",
      " 24  Tags                                           5887 non-null   object \n",
      " 25  Lead Quality                                   4473 non-null   object \n",
      " 26  Update me on Supply Chain Content              9240 non-null   object \n",
      " 27  Get updates on DM Content                      9240 non-null   object \n",
      " 28  Lead Profile                                   6531 non-null   object \n",
      " 29  City                                           7820 non-null   object \n",
      " 30  Asymmetrique Activity Index                    5022 non-null   object \n",
      " 31  Asymmetrique Profile Index                     5022 non-null   object \n",
      " 32  Asymmetrique Activity Score                    5022 non-null   float64\n",
      " 33  Asymmetrique Profile Score                     5022 non-null   float64\n",
      " 34  I agree to pay the amount through cheque       9240 non-null   object \n",
      " 35  A free copy of Mastering The Interview         9240 non-null   object \n",
      " 36  Last Notable Activity                          9240 non-null   object \n",
      "dtypes: float64(4), int64(3), object(30)\n",
      "memory usage: 2.6+ MB\n"
     ]
    }
   ],
   "source": [
    "df_leads.info()"
   ]
  },
  {
   "cell_type": "code",
   "execution_count": 7,
   "id": "6fd958a8",
   "metadata": {},
   "outputs": [
    {
     "data": {
      "text/plain": [
       "0"
      ]
     },
     "execution_count": 7,
     "metadata": {},
     "output_type": "execute_result"
    }
   ],
   "source": [
    "# Duplicates check in Prospect ID columns and Lead Number:\n",
    "df_leads.duplicated(subset = ['Prospect ID'], keep = False).sum()"
   ]
  },
  {
   "cell_type": "code",
   "execution_count": 8,
   "id": "bd9c2189",
   "metadata": {},
   "outputs": [
    {
     "data": {
      "text/plain": [
       "0"
      ]
     },
     "execution_count": 8,
     "metadata": {},
     "output_type": "execute_result"
    }
   ],
   "source": [
    "df_leads.duplicated(subset = ['Lead Number'], keep = False).sum()"
   ]
  },
  {
   "cell_type": "markdown",
   "id": "46c9b9ee",
   "metadata": {},
   "source": [
    "#### Insights: Since there are no duplicates in both the columns, these columns can be dropped as they only indicate the ID number of the people who were contacted and can be dropped"
   ]
  },
  {
   "cell_type": "markdown",
   "id": "3fe53a6d",
   "metadata": {},
   "source": [
    "#### Checking the missing values"
   ]
  },
  {
   "cell_type": "code",
   "execution_count": 9,
   "id": "db1cdf83",
   "metadata": {},
   "outputs": [],
   "source": [
    "# Dropping Lead Number and Prospect ID as they have unique values:\n",
    "df_leads.drop(['Prospect ID','Lead Number'], axis=1, inplace=True)"
   ]
  },
  {
   "cell_type": "code",
   "execution_count": 10,
   "id": "faf65e22",
   "metadata": {},
   "outputs": [],
   "source": [
    "# Converting select values to 'NaN':\n",
    "df_leads= df_leads.replace('Select', np.nan)"
   ]
  },
  {
   "cell_type": "code",
   "execution_count": 11,
   "id": "fe73c6db",
   "metadata": {},
   "outputs": [
    {
     "data": {
      "text/plain": [
       "Lead Origin                                         0\n",
       "Lead Source                                        36\n",
       "Do Not Email                                        0\n",
       "Do Not Call                                         0\n",
       "Converted                                           0\n",
       "TotalVisits                                       137\n",
       "Total Time Spent on Website                         0\n",
       "Page Views Per Visit                              137\n",
       "Last Activity                                     103\n",
       "Country                                          2461\n",
       "Specialization                                   3380\n",
       "How did you hear about X Education               7250\n",
       "What is your current occupation                  2690\n",
       "What matters most to you in choosing a course    2709\n",
       "Search                                              0\n",
       "Magazine                                            0\n",
       "Newspaper Article                                   0\n",
       "X Education Forums                                  0\n",
       "Newspaper                                           0\n",
       "Digital Advertisement                               0\n",
       "Through Recommendations                             0\n",
       "Receive More Updates About Our Courses              0\n",
       "Tags                                             3353\n",
       "Lead Quality                                     4767\n",
       "Update me on Supply Chain Content                   0\n",
       "Get updates on DM Content                           0\n",
       "Lead Profile                                     6855\n",
       "City                                             3669\n",
       "Asymmetrique Activity Index                      4218\n",
       "Asymmetrique Profile Index                       4218\n",
       "Asymmetrique Activity Score                      4218\n",
       "Asymmetrique Profile Score                       4218\n",
       "I agree to pay the amount through cheque            0\n",
       "A free copy of Mastering The Interview              0\n",
       "Last Notable Activity                               0\n",
       "dtype: int64"
      ]
     },
     "execution_count": 11,
     "metadata": {},
     "output_type": "execute_result"
    }
   ],
   "source": [
    "# Null values check:\n",
    "df_leads.isnull().sum()"
   ]
  },
  {
   "cell_type": "code",
   "execution_count": 12,
   "id": "8a95ac6a",
   "metadata": {},
   "outputs": [
    {
     "data": {
      "text/plain": [
       "Lead Origin                                       0.00\n",
       "Lead Source                                       0.39\n",
       "Do Not Email                                      0.00\n",
       "Do Not Call                                       0.00\n",
       "Converted                                         0.00\n",
       "TotalVisits                                       1.48\n",
       "Total Time Spent on Website                       0.00\n",
       "Page Views Per Visit                              1.48\n",
       "Last Activity                                     1.11\n",
       "Country                                          26.63\n",
       "Specialization                                   36.58\n",
       "How did you hear about X Education               78.46\n",
       "What is your current occupation                  29.11\n",
       "What matters most to you in choosing a course    29.32\n",
       "Search                                            0.00\n",
       "Magazine                                          0.00\n",
       "Newspaper Article                                 0.00\n",
       "X Education Forums                                0.00\n",
       "Newspaper                                         0.00\n",
       "Digital Advertisement                             0.00\n",
       "Through Recommendations                           0.00\n",
       "Receive More Updates About Our Courses            0.00\n",
       "Tags                                             36.29\n",
       "Lead Quality                                     51.59\n",
       "Update me on Supply Chain Content                 0.00\n",
       "Get updates on DM Content                         0.00\n",
       "Lead Profile                                     74.19\n",
       "City                                             39.71\n",
       "Asymmetrique Activity Index                      45.65\n",
       "Asymmetrique Profile Index                       45.65\n",
       "Asymmetrique Activity Score                      45.65\n",
       "Asymmetrique Profile Score                       45.65\n",
       "I agree to pay the amount through cheque          0.00\n",
       "A free copy of Mastering The Interview            0.00\n",
       "Last Notable Activity                             0.00\n",
       "dtype: float64"
      ]
     },
     "execution_count": 12,
     "metadata": {},
     "output_type": "execute_result"
    }
   ],
   "source": [
    "# Converting nulls in percentage:\n",
    "round(100*(df_leads.isnull().sum())/len(df_leads.index),2)"
   ]
  },
  {
   "cell_type": "code",
   "execution_count": 13,
   "id": "90092e88",
   "metadata": {},
   "outputs": [],
   "source": [
    "# Dropping all the columns with more than 40% as null percentage:\n",
    "df_leads.drop(['How did you hear about X Education','Lead Quality','Lead Profile','Asymmetrique Activity Index','Asymmetrique Profile Index','Asymmetrique Activity Score','Asymmetrique Profile Score'],axis=1,inplace=True)"
   ]
  },
  {
   "cell_type": "code",
   "execution_count": 14,
   "id": "9077c58c",
   "metadata": {},
   "outputs": [
    {
     "data": {
      "text/plain": [
       "Lead Origin                                       0.00\n",
       "Lead Source                                       0.39\n",
       "Do Not Email                                      0.00\n",
       "Do Not Call                                       0.00\n",
       "Converted                                         0.00\n",
       "TotalVisits                                       1.48\n",
       "Total Time Spent on Website                       0.00\n",
       "Page Views Per Visit                              1.48\n",
       "Last Activity                                     1.11\n",
       "Country                                          26.63\n",
       "Specialization                                   36.58\n",
       "What is your current occupation                  29.11\n",
       "What matters most to you in choosing a course    29.32\n",
       "Search                                            0.00\n",
       "Magazine                                          0.00\n",
       "Newspaper Article                                 0.00\n",
       "X Education Forums                                0.00\n",
       "Newspaper                                         0.00\n",
       "Digital Advertisement                             0.00\n",
       "Through Recommendations                           0.00\n",
       "Receive More Updates About Our Courses            0.00\n",
       "Tags                                             36.29\n",
       "Update me on Supply Chain Content                 0.00\n",
       "Get updates on DM Content                         0.00\n",
       "City                                             39.71\n",
       "I agree to pay the amount through cheque          0.00\n",
       "A free copy of Mastering The Interview            0.00\n",
       "Last Notable Activity                             0.00\n",
       "dtype: float64"
      ]
     },
     "execution_count": 14,
     "metadata": {},
     "output_type": "execute_result"
    }
   ],
   "source": [
    "# Checking of null counts percentage again:\n",
    "round(100*(df_leads.isnull().sum())/len(df_leads.index),2)"
   ]
  },
  {
   "cell_type": "code",
   "execution_count": 15,
   "id": "914edb83",
   "metadata": {},
   "outputs": [
    {
     "data": {
      "text/plain": [
       "Lead Origin                                         5\n",
       "Lead Source                                        21\n",
       "Do Not Email                                        2\n",
       "Do Not Call                                         2\n",
       "Converted                                           2\n",
       "TotalVisits                                        41\n",
       "Total Time Spent on Website                      1731\n",
       "Page Views Per Visit                              114\n",
       "Last Activity                                      17\n",
       "Country                                            38\n",
       "Specialization                                     18\n",
       "What is your current occupation                     6\n",
       "What matters most to you in choosing a course       3\n",
       "Search                                              2\n",
       "Magazine                                            1\n",
       "Newspaper Article                                   2\n",
       "X Education Forums                                  2\n",
       "Newspaper                                           2\n",
       "Digital Advertisement                               2\n",
       "Through Recommendations                             2\n",
       "Receive More Updates About Our Courses              1\n",
       "Tags                                               26\n",
       "Update me on Supply Chain Content                   1\n",
       "Get updates on DM Content                           1\n",
       "City                                                6\n",
       "I agree to pay the amount through cheque            1\n",
       "A free copy of Mastering The Interview              2\n",
       "Last Notable Activity                              16\n",
       "dtype: int64"
      ]
     },
     "execution_count": 15,
     "metadata": {},
     "output_type": "execute_result"
    }
   ],
   "source": [
    "#Checking unique data:\n",
    "df_leads.nunique()"
   ]
  },
  {
   "cell_type": "code",
   "execution_count": 16,
   "id": "6de7e367",
   "metadata": {},
   "outputs": [],
   "source": [
    "# Dropping unique valued columns:\n",
    "df_leads.drop(['Magazine','Receive More Updates About Our Courses','Update me on Supply Chain Content','Get updates on DM Content','I agree to pay the amount through cheque'],axis=1,inplace=True)\n"
   ]
  },
  {
   "cell_type": "code",
   "execution_count": 17,
   "id": "e1d905b2",
   "metadata": {},
   "outputs": [
    {
     "data": {
      "text/plain": [
       "Lead Origin                                       0.00\n",
       "Lead Source                                       0.39\n",
       "Do Not Email                                      0.00\n",
       "Do Not Call                                       0.00\n",
       "Converted                                         0.00\n",
       "TotalVisits                                       1.48\n",
       "Total Time Spent on Website                       0.00\n",
       "Page Views Per Visit                              1.48\n",
       "Last Activity                                     1.11\n",
       "Country                                          26.63\n",
       "Specialization                                   36.58\n",
       "What is your current occupation                  29.11\n",
       "What matters most to you in choosing a course    29.32\n",
       "Search                                            0.00\n",
       "Newspaper Article                                 0.00\n",
       "X Education Forums                                0.00\n",
       "Newspaper                                         0.00\n",
       "Digital Advertisement                             0.00\n",
       "Through Recommendations                           0.00\n",
       "Tags                                             36.29\n",
       "City                                             39.71\n",
       "A free copy of Mastering The Interview            0.00\n",
       "Last Notable Activity                             0.00\n",
       "dtype: float64"
      ]
     },
     "execution_count": 17,
     "metadata": {},
     "output_type": "execute_result"
    }
   ],
   "source": [
    "# Percentage of Null:\n",
    "round(100*(df_leads.isnull().sum())/len(df_leads.index),2)"
   ]
  },
  {
   "cell_type": "markdown",
   "id": "1aee65e1",
   "metadata": {},
   "source": [
    "## Data Preparation"
   ]
  },
  {
   "cell_type": "markdown",
   "id": "090680f7",
   "metadata": {},
   "source": [
    "#### Variable analysis"
   ]
  },
  {
   "cell_type": "code",
   "execution_count": 18,
   "id": "dce1e18f",
   "metadata": {},
   "outputs": [
    {
     "data": {
      "text/plain": [
       "NaN                            3669\n",
       "Mumbai                         3222\n",
       "Thane & Outskirts               752\n",
       "Other Cities                    686\n",
       "Other Cities of Maharashtra     457\n",
       "Other Metro Cities              380\n",
       "Tier II Cities                   74\n",
       "Name: City, dtype: int64"
      ]
     },
     "execution_count": 18,
     "metadata": {},
     "output_type": "execute_result"
    }
   ],
   "source": [
    "# Analyzing the City variable:\n",
    "df_leads.City.value_counts(dropna=False)"
   ]
  },
  {
   "cell_type": "code",
   "execution_count": 19,
   "id": "2573a481",
   "metadata": {},
   "outputs": [],
   "source": [
    "# Dropping the City column as most of the entries are of Mumbai.\n",
    "cols_to_drop =['City']"
   ]
  },
  {
   "cell_type": "code",
   "execution_count": 20,
   "id": "d0f61dc7",
   "metadata": {},
   "outputs": [
    {
     "data": {
      "text/plain": [
       "NaN                                  3380\n",
       "Finance Management                    976\n",
       "Human Resource Management             848\n",
       "Marketing Management                  838\n",
       "Operations Management                 503\n",
       "Business Administration               403\n",
       "IT Projects Management                366\n",
       "Supply Chain Management               349\n",
       "Banking, Investment And Insurance     338\n",
       "Travel and Tourism                    203\n",
       "Media and Advertising                 203\n",
       "International Business                178\n",
       "Healthcare Management                 159\n",
       "Hospitality Management                114\n",
       "E-COMMERCE                            112\n",
       "Retail Management                     100\n",
       "Rural and Agribusiness                 73\n",
       "E-Business                             57\n",
       "Services Excellence                    40\n",
       "Name: Specialization, dtype: int64"
      ]
     },
     "execution_count": 20,
     "metadata": {},
     "output_type": "execute_result"
    }
   ],
   "source": [
    "# Specialization:\n",
    "df_leads.Specialization.value_counts(dropna=False)"
   ]
  },
  {
   "cell_type": "code",
   "execution_count": 21,
   "id": "385957b2",
   "metadata": {},
   "outputs": [],
   "source": [
    "# Grouping all Management specializations together because they show similar trends:\n",
    "df_leads['Specialization'] = df_leads['Specialization'].replace(['Supply Chain Management','IT Projects Management',\n",
    "                                                                     'Finance Management','Human Resource Management',\n",
    "                                                                    'Marketing Management','Operations Management','Retail Management',\n",
    "                                                                     'Hospitality Management','Healthcare Management'],'Management Specializations')\n",
    "df_leads['Specialization'] = df_leads['Specialization'].replace(np.nan,'Not Specified')"
   ]
  },
  {
   "cell_type": "code",
   "execution_count": 22,
   "id": "b97a763f",
   "metadata": {},
   "outputs": [
    {
     "data": {
      "text/plain": [
       "NaN                                                  3353\n",
       "Will revert after reading the email                  2072\n",
       "Ringing                                              1203\n",
       "Interested in other courses                           513\n",
       "Already a student                                     465\n",
       "Closed by Horizzon                                    358\n",
       "switched off                                          240\n",
       "Busy                                                  186\n",
       "Lost to EINS                                          175\n",
       "Not doing further education                           145\n",
       "Interested  in full time MBA                          117\n",
       "Graduation in progress                                111\n",
       "invalid number                                         83\n",
       "Diploma holder (Not Eligible)                          63\n",
       "wrong number given                                     47\n",
       "opp hangup                                             33\n",
       "number not provided                                    27\n",
       "in touch with EINS                                     12\n",
       "Lost to Others                                          7\n",
       "Still Thinking                                          6\n",
       "Want to take admission but has financial problems       6\n",
       "In confusion whether part time or DLP                   5\n",
       "Interested in Next batch                                5\n",
       "Lateral student                                         3\n",
       "Shall take in the next coming month                     2\n",
       "University not recognized                               2\n",
       "Recognition issue (DEC approval)                        1\n",
       "Name: Tags, dtype: int64"
      ]
     },
     "execution_count": 22,
     "metadata": {},
     "output_type": "execute_result"
    }
   ],
   "source": [
    "# Tags:\n",
    "df_leads['Tags'].value_counts(dropna=False)"
   ]
  },
  {
   "cell_type": "code",
   "execution_count": 23,
   "id": "df47dadc",
   "metadata": {},
   "outputs": [],
   "source": [
    "# Grouping values with low count in order to remove bias\n",
    "df_leads['Tags'] =df_leads['Tags'].replace(np.nan,'Not Specified')\n",
    "df_leads['Tags'] = df_leads['Tags'].replace(['Recognition issue (DEC approval)', 'Shall take in the next coming month', \n",
    "                                      'University not recognized', 'Lateral student',\n",
    "                                       'In confusion whether part time or DLP', 'Interested in Next batch, Still Thinking',\n",
    "                                       'Want to take admission but has financial problems', 'Lost to Others',\n",
    "                                      'in touch with EINS', 'number not provided', 'opp hangup', 'wrong number given',\n",
    "                                      'Diploma holder (Not Eligible)', 'invalid number', 'Graduation in progress',\n",
    "                                      'Interested  in full time MBA', 'Not doing further education', 'Lost to EINS', 'Busy',\n",
    "                                      'switched off'], 'Other Tags')"
   ]
  },
  {
   "cell_type": "code",
   "execution_count": 24,
   "id": "a932d637",
   "metadata": {},
   "outputs": [
    {
     "data": {
      "text/plain": [
       "Better Career Prospects      6528\n",
       "NaN                          2709\n",
       "Flexibility & Convenience       2\n",
       "Other                           1\n",
       "Name: What matters most to you in choosing a course, dtype: int64"
      ]
     },
     "execution_count": 24,
     "metadata": {},
     "output_type": "execute_result"
    }
   ],
   "source": [
    "# What matters most to you in choosing a course:\n",
    "df_leads['What matters most to you in choosing a course'].value_counts(dropna=False)"
   ]
  },
  {
   "cell_type": "code",
   "execution_count": 25,
   "id": "63ff5160",
   "metadata": {},
   "outputs": [],
   "source": [
    "# Dropping What matters most to you in choosing a course column since it has high null values and majority of them are Better Career Prospects.\n",
    "cols_to_drop.append('What matters most to you in choosing a course')"
   ]
  },
  {
   "cell_type": "code",
   "execution_count": 26,
   "id": "4b991c30",
   "metadata": {},
   "outputs": [
    {
     "data": {
      "text/plain": [
       "Unemployed              5600\n",
       "NaN                     2690\n",
       "Working Professional     706\n",
       "Student                  210\n",
       "Other                     16\n",
       "Housewife                 10\n",
       "Businessman                8\n",
       "Name: What is your current occupation, dtype: int64"
      ]
     },
     "execution_count": 26,
     "metadata": {},
     "output_type": "execute_result"
    }
   ],
   "source": [
    "\n",
    "# What is your current occupation:\n",
    "df_leads['What is your current occupation'].value_counts(dropna=False)"
   ]
  },
  {
   "cell_type": "code",
   "execution_count": 27,
   "id": "779bb472",
   "metadata": {},
   "outputs": [],
   "source": [
    "# Grouping all the low frequency data as Others and \n",
    "df_leads['What is your current occupation'] = df_leads['What is your current occupation'].replace(np.nan,'Not Specified')\n",
    "df_leads['What is your current occupation'] = df_leads['What is your current occupation'].replace(['Housewife', 'Businessman'],\n",
    "                                                                                           'Other')"
   ]
  },
  {
   "cell_type": "code",
   "execution_count": 28,
   "id": "fc0e7257",
   "metadata": {},
   "outputs": [
    {
     "data": {
      "text/plain": [
       "India                   6492\n",
       "NaN                     2461\n",
       "United States             69\n",
       "United Arab Emirates      53\n",
       "Singapore                 24\n",
       "Saudi Arabia              21\n",
       "United Kingdom            15\n",
       "Australia                 13\n",
       "Qatar                     10\n",
       "Bahrain                    7\n",
       "Hong Kong                  7\n",
       "Oman                       6\n",
       "France                     6\n",
       "unknown                    5\n",
       "Kuwait                     4\n",
       "South Africa               4\n",
       "Canada                     4\n",
       "Nigeria                    4\n",
       "Germany                    4\n",
       "Sweden                     3\n",
       "Philippines                2\n",
       "Uganda                     2\n",
       "Italy                      2\n",
       "Bangladesh                 2\n",
       "Netherlands                2\n",
       "Asia/Pacific Region        2\n",
       "China                      2\n",
       "Belgium                    2\n",
       "Ghana                      2\n",
       "Kenya                      1\n",
       "Sri Lanka                  1\n",
       "Tanzania                   1\n",
       "Malaysia                   1\n",
       "Liberia                    1\n",
       "Switzerland                1\n",
       "Denmark                    1\n",
       "Russia                     1\n",
       "Vietnam                    1\n",
       "Indonesia                  1\n",
       "Name: Country, dtype: int64"
      ]
     },
     "execution_count": 28,
     "metadata": {},
     "output_type": "execute_result"
    }
   ],
   "source": [
    "# Country:\n",
    "df_leads['Country'].value_counts(dropna=False)"
   ]
  },
  {
   "cell_type": "code",
   "execution_count": 29,
   "id": "0d4aaf5d",
   "metadata": {},
   "outputs": [],
   "source": [
    "# Dropping Country column since, more than 90% values are India or NA only:\n",
    "cols_to_drop.append('Country')"
   ]
  },
  {
   "cell_type": "code",
   "execution_count": 30,
   "id": "a4c179e1",
   "metadata": {},
   "outputs": [
    {
     "data": {
      "text/plain": [
       "Google               2868\n",
       "Direct Traffic       2543\n",
       "Olark Chat           1755\n",
       "Organic Search       1154\n",
       "Reference             534\n",
       "Welingak Website      142\n",
       "Referral Sites        125\n",
       "Facebook               55\n",
       "NaN                    36\n",
       "bing                    6\n",
       "google                  5\n",
       "Click2call              4\n",
       "Press_Release           2\n",
       "Social Media            2\n",
       "Live Chat               2\n",
       "youtubechannel          1\n",
       "testone                 1\n",
       "Pay per Click Ads       1\n",
       "welearnblog_Home        1\n",
       "WeLearn                 1\n",
       "blog                    1\n",
       "NC_EDM                  1\n",
       "Name: Lead Source, dtype: int64"
      ]
     },
     "execution_count": 30,
     "metadata": {},
     "output_type": "execute_result"
    }
   ],
   "source": [
    "# Lead Source:\n",
    "df_leads['Lead Source'].value_counts(dropna=False)"
   ]
  },
  {
   "cell_type": "code",
   "execution_count": 31,
   "id": "b51998c2",
   "metadata": {},
   "outputs": [],
   "source": [
    " # Grouping the data:\n",
    "df_leads['Lead Source'] = df_leads['Lead Source'].replace([np.nan,'google'], 'Google')\n",
    "df_leads['Lead Source'] = df_leads['Lead Source'].replace('Facebook','Social Media')\n",
    "df_leads['Lead Source'] = df_leads['Lead Source'].replace(['bing','Click2call','Press_Release','Social Media','Live Chat',\n",
    "                                                             'youtubechannel','testone','Pay per Click Ads','welearnblog_Home',\n",
    "                                                             'WeLearn','blog','NC_EDM'],'Others')"
   ]
  },
  {
   "cell_type": "code",
   "execution_count": 32,
   "id": "f5110610",
   "metadata": {},
   "outputs": [
    {
     "data": {
      "text/plain": [
       "Email Opened                    3437\n",
       "SMS Sent                        2745\n",
       "Olark Chat Conversation          973\n",
       "Page Visited on Website          640\n",
       "Converted to Lead                428\n",
       "Email Bounced                    326\n",
       "Email Link Clicked               267\n",
       "Form Submitted on Website        116\n",
       "NaN                              103\n",
       "Unreachable                       93\n",
       "Unsubscribed                      61\n",
       "Had a Phone Conversation          30\n",
       "Approached upfront                 9\n",
       "View in browser link Clicked       6\n",
       "Email Received                     2\n",
       "Email Marked Spam                  2\n",
       "Visited Booth in Tradeshow         1\n",
       "Resubscribed to emails             1\n",
       "Name: Last Activity, dtype: int64"
      ]
     },
     "execution_count": 32,
     "metadata": {},
     "output_type": "execute_result"
    }
   ],
   "source": [
    "# Last Activity\n",
    "df_leads['Last Activity'].value_counts(dropna=False)"
   ]
  },
  {
   "cell_type": "code",
   "execution_count": 33,
   "id": "0cd2eaf3",
   "metadata": {},
   "outputs": [
    {
     "data": {
      "text/plain": [
       "No     9238\n",
       "Yes       2\n",
       "Name: Do Not Call, dtype: int64"
      ]
     },
     "execution_count": 33,
     "metadata": {},
     "output_type": "execute_result"
    }
   ],
   "source": [
    "# Do not call:\n",
    "df_leads['Do Not Call'].value_counts()"
   ]
  },
  {
   "cell_type": "code",
   "execution_count": 34,
   "id": "9978863b",
   "metadata": {},
   "outputs": [],
   "source": [
    "#Dropping the column Do Not Call as it has more No's than yes abd it might hamper our analysis.\n",
    "cols_to_drop.append('Do Not Call')"
   ]
  },
  {
   "cell_type": "code",
   "execution_count": 35,
   "id": "0b7b13ac",
   "metadata": {},
   "outputs": [
    {
     "data": {
      "text/plain": [
       "Email Opened                    3437\n",
       "SMS Sent                        2745\n",
       "Olark Chat Conversation          973\n",
       "Page Visited on Website          640\n",
       "Converted to Lead                428\n",
       "Email Bounced                    326\n",
       "Email Link Clicked               267\n",
       "Form Submitted on Website        116\n",
       "NaN                              103\n",
       "Unreachable                       93\n",
       "Unsubscribed                      61\n",
       "Had a Phone Conversation          30\n",
       "Approached upfront                 9\n",
       "View in browser link Clicked       6\n",
       "Email Received                     2\n",
       "Email Marked Spam                  2\n",
       "Visited Booth in Tradeshow         1\n",
       "Resubscribed to emails             1\n",
       "Name: Last Activity, dtype: int64"
      ]
     },
     "execution_count": 35,
     "metadata": {},
     "output_type": "execute_result"
    }
   ],
   "source": [
    "# Last Activity\n",
    "df_leads['Last Activity'].value_counts(dropna=False)"
   ]
  },
  {
   "cell_type": "code",
   "execution_count": 36,
   "id": "2f52dc0c",
   "metadata": {},
   "outputs": [],
   "source": [
    "# Replacing the NA values and other less occuring entries as Others:\n",
    "df_leads['Last Activity'] = df_leads['Last Activity'].replace(np.nan, 'Email Opened')\n",
    "df_leads['Last Activity'] = df_leads['Last Activity'].replace(['Visited Booth in Tradeshow', 'Resubscribed to emails',\n",
    "                                                        'Email Marked Spam', 'Email Received',\n",
    "                                                         'View in browser link Clicked', 'Approached upfront',\n",
    "                                                         'Had a Phone Conversation', 'Unsubscribed', 'Unreachable'],\n",
    "                                                        'Others')"
   ]
  },
  {
   "cell_type": "code",
   "execution_count": 37,
   "id": "464608da",
   "metadata": {},
   "outputs": [
    {
     "data": {
      "text/plain": [
       "No     8506\n",
       "Yes     734\n",
       "Name: Do Not Email, dtype: int64"
      ]
     },
     "execution_count": 37,
     "metadata": {},
     "output_type": "execute_result"
    }
   ],
   "source": [
    "# Do Not Email:\n",
    "df_leads['Do Not Email'].value_counts()"
   ]
  },
  {
   "cell_type": "code",
   "execution_count": 38,
   "id": "adcfd171",
   "metadata": {},
   "outputs": [
    {
     "data": {
      "text/plain": [
       "No     9226\n",
       "Yes      14\n",
       "Name: Search, dtype: int64"
      ]
     },
     "execution_count": 38,
     "metadata": {},
     "output_type": "execute_result"
    }
   ],
   "source": [
    "# Search:\n",
    "df_leads.Search.value_counts()"
   ]
  },
  {
   "cell_type": "code",
   "execution_count": 39,
   "id": "f93a768a",
   "metadata": {},
   "outputs": [],
   "source": [
    "# Adding the column to our drop column list:\n",
    "cols_to_drop.append('Search')"
   ]
  },
  {
   "cell_type": "code",
   "execution_count": 40,
   "id": "da701db9",
   "metadata": {},
   "outputs": [
    {
     "data": {
      "text/plain": [
       "No     9238\n",
       "Yes       2\n",
       "Name: Newspaper Article, dtype: int64"
      ]
     },
     "execution_count": 40,
     "metadata": {},
     "output_type": "execute_result"
    }
   ],
   "source": [
    "# Newspaper Article:\n",
    "df_leads['Newspaper Article'].value_counts()"
   ]
  },
  {
   "cell_type": "code",
   "execution_count": 41,
   "id": "42c6ad27",
   "metadata": {},
   "outputs": [],
   "source": [
    "# Adding the column to our drop column list:\n",
    "cols_to_drop.append('Newspaper Article')"
   ]
  },
  {
   "cell_type": "code",
   "execution_count": 42,
   "id": "e04bb795",
   "metadata": {},
   "outputs": [
    {
     "data": {
      "text/plain": [
       "No     9239\n",
       "Yes       1\n",
       "Name: X Education Forums, dtype: int64"
      ]
     },
     "execution_count": 42,
     "metadata": {},
     "output_type": "execute_result"
    }
   ],
   "source": [
    "# X Education Forums:\n",
    "df_leads['X Education Forums'].value_counts()"
   ]
  },
  {
   "cell_type": "code",
   "execution_count": 43,
   "id": "4fd64011",
   "metadata": {},
   "outputs": [],
   "source": [
    "# Adding the column to our drop columns list:\n",
    "cols_to_drop.append('X Education Forums')"
   ]
  },
  {
   "cell_type": "code",
   "execution_count": 44,
   "id": "d9b0a382",
   "metadata": {},
   "outputs": [
    {
     "data": {
      "text/plain": [
       "No     9239\n",
       "Yes       1\n",
       "Name: Newspaper, dtype: int64"
      ]
     },
     "execution_count": 44,
     "metadata": {},
     "output_type": "execute_result"
    }
   ],
   "source": [
    "# Newspaper:\n",
    "df_leads.Newspaper.value_counts()"
   ]
  },
  {
   "cell_type": "code",
   "execution_count": 45,
   "id": "795a622f",
   "metadata": {},
   "outputs": [],
   "source": [
    "# Adding the column to out drop column list:\n",
    "cols_to_drop.append('Newspaper')"
   ]
  },
  {
   "cell_type": "code",
   "execution_count": 46,
   "id": "0bcdf496",
   "metadata": {},
   "outputs": [
    {
     "data": {
      "text/plain": [
       "No     9236\n",
       "Yes       4\n",
       "Name: Digital Advertisement, dtype: int64"
      ]
     },
     "execution_count": 46,
     "metadata": {},
     "output_type": "execute_result"
    }
   ],
   "source": [
    "# Digital Advertisement:\n",
    "df_leads['Digital Advertisement'].value_counts()"
   ]
  },
  {
   "cell_type": "code",
   "execution_count": 47,
   "id": "14c4e2e4",
   "metadata": {},
   "outputs": [],
   "source": [
    "# Adding the column to our drop column list:\n",
    "cols_to_drop.append('Digital Advertisement')"
   ]
  },
  {
   "cell_type": "code",
   "execution_count": 48,
   "id": "e2672b80",
   "metadata": {},
   "outputs": [
    {
     "data": {
      "text/plain": [
       "No     9233\n",
       "Yes       7\n",
       "Name: Through Recommendations, dtype: int64"
      ]
     },
     "execution_count": 48,
     "metadata": {},
     "output_type": "execute_result"
    }
   ],
   "source": [
    "# Through Recommendations:\n",
    "df_leads['Through Recommendations'].value_counts()"
   ]
  },
  {
   "cell_type": "code",
   "execution_count": 49,
   "id": "f987a401",
   "metadata": {},
   "outputs": [],
   "source": [
    "# Adding the column to our drop columns list:\n",
    "cols_to_drop.append('Through Recommendations')"
   ]
  },
  {
   "cell_type": "code",
   "execution_count": 50,
   "id": "692307d7",
   "metadata": {},
   "outputs": [
    {
     "data": {
      "text/plain": [
       "No     6352\n",
       "Yes    2888\n",
       "Name: A free copy of Mastering The Interview, dtype: int64"
      ]
     },
     "execution_count": 50,
     "metadata": {},
     "output_type": "execute_result"
    }
   ],
   "source": [
    "# A free copy of Mastering The Interview:\n",
    "df_leads['A free copy of Mastering The Interview'].value_counts()"
   ]
  },
  {
   "cell_type": "code",
   "execution_count": 51,
   "id": "fb4c0256",
   "metadata": {},
   "outputs": [
    {
     "data": {
      "text/plain": [
       "Modified                        3407\n",
       "Email Opened                    2827\n",
       "SMS Sent                        2172\n",
       "Page Visited on Website          318\n",
       "Olark Chat Conversation          183\n",
       "Email Link Clicked               173\n",
       "Email Bounced                     60\n",
       "Unsubscribed                      47\n",
       "Unreachable                       32\n",
       "Had a Phone Conversation          14\n",
       "Email Marked Spam                  2\n",
       "Approached upfront                 1\n",
       "Resubscribed to emails             1\n",
       "View in browser link Clicked       1\n",
       "Form Submitted on Website          1\n",
       "Email Received                     1\n",
       "Name: Last Notable Activity, dtype: int64"
      ]
     },
     "execution_count": 51,
     "metadata": {},
     "output_type": "execute_result"
    }
   ],
   "source": [
    "# Last Notable Activity:\n",
    "df_leads['Last Notable Activity'].value_counts()"
   ]
  },
  {
   "cell_type": "code",
   "execution_count": 52,
   "id": "559dd7e4",
   "metadata": {},
   "outputs": [],
   "source": [
    "# Grouping all the low frequency groups together as Others:\n",
    "df_leads['Last Notable Activity'] = df_leads['Last Notable Activity'].replace(['Email Marked Spam','Approached upfront',\n",
    "                                                                                  'Resubscribed to emails','View in browser link Clicked',\n",
    "                                                                                  'Form Submitted on Website','Email Received'],'Others')"
   ]
  },
  {
   "cell_type": "code",
   "execution_count": 53,
   "id": "2ee0646e",
   "metadata": {},
   "outputs": [
    {
     "data": {
      "text/plain": [
       "count    9103.000000\n",
       "mean        3.445238\n",
       "std         4.854853\n",
       "min         0.000000\n",
       "25%         1.000000\n",
       "50%         3.000000\n",
       "75%         5.000000\n",
       "max       251.000000\n",
       "Name: TotalVisits, dtype: float64"
      ]
     },
     "execution_count": 53,
     "metadata": {},
     "output_type": "execute_result"
    }
   ],
   "source": [
    "# Total Visits:\n",
    "df_leads.TotalVisits.describe()"
   ]
  },
  {
   "cell_type": "code",
   "execution_count": 54,
   "id": "c4f7df25",
   "metadata": {},
   "outputs": [],
   "source": [
    "# Replacing all the NaN values with median:\n",
    "df_leads['TotalVisits'] = df_leads['TotalVisits'].replace(np.nan, df_leads['TotalVisits'].median())"
   ]
  },
  {
   "cell_type": "code",
   "execution_count": 55,
   "id": "0f7f97b7",
   "metadata": {},
   "outputs": [
    {
     "data": {
      "text/plain": [
       "count    9103.000000\n",
       "mean        2.362820\n",
       "std         2.161418\n",
       "min         0.000000\n",
       "25%         1.000000\n",
       "50%         2.000000\n",
       "75%         3.000000\n",
       "max        55.000000\n",
       "Name: Page Views Per Visit, dtype: float64"
      ]
     },
     "execution_count": 55,
     "metadata": {},
     "output_type": "execute_result"
    }
   ],
   "source": [
    "# Page Views Per Visit:\n",
    "df_leads['Page Views Per Visit'].describe()"
   ]
  },
  {
   "cell_type": "code",
   "execution_count": 56,
   "id": "13c05bb8",
   "metadata": {},
   "outputs": [],
   "source": [
    "# Replacing all the NaN values with median:\n",
    "df_leads['Page Views Per Visit'] = df_leads['Page Views Per Visit'].replace(np.nan, df_leads['Page Views Per Visit'].median())"
   ]
  },
  {
   "cell_type": "code",
   "execution_count": 57,
   "id": "110cead6",
   "metadata": {},
   "outputs": [],
   "source": [
    "# Dropping the redundant columns:\n",
    "df_leads = df_leads.drop(cols_to_drop,axis=1)"
   ]
  },
  {
   "cell_type": "code",
   "execution_count": 58,
   "id": "a76a3744",
   "metadata": {},
   "outputs": [
    {
     "name": "stdout",
     "output_type": "stream",
     "text": [
      "<class 'pandas.core.frame.DataFrame'>\n",
      "RangeIndex: 9240 entries, 0 to 9239\n",
      "Data columns (total 13 columns):\n",
      " #   Column                                  Non-Null Count  Dtype  \n",
      "---  ------                                  --------------  -----  \n",
      " 0   Lead Origin                             9240 non-null   object \n",
      " 1   Lead Source                             9240 non-null   object \n",
      " 2   Do Not Email                            9240 non-null   object \n",
      " 3   Converted                               9240 non-null   int64  \n",
      " 4   TotalVisits                             9240 non-null   float64\n",
      " 5   Total Time Spent on Website             9240 non-null   int64  \n",
      " 6   Page Views Per Visit                    9240 non-null   float64\n",
      " 7   Last Activity                           9240 non-null   object \n",
      " 8   Specialization                          9240 non-null   object \n",
      " 9   What is your current occupation         9240 non-null   object \n",
      " 10  Tags                                    9240 non-null   object \n",
      " 11  A free copy of Mastering The Interview  9240 non-null   object \n",
      " 12  Last Notable Activity                   9240 non-null   object \n",
      "dtypes: float64(2), int64(2), object(9)\n",
      "memory usage: 938.6+ KB\n"
     ]
    }
   ],
   "source": [
    "# Checking info:\n",
    "df_leads.info()"
   ]
  },
  {
   "cell_type": "markdown",
   "id": "1f04f519",
   "metadata": {},
   "source": [
    "## Performing the Univariate Analysis "
   ]
  },
  {
   "cell_type": "code",
   "execution_count": 59,
   "id": "0fc4c7f2",
   "metadata": {},
   "outputs": [
    {
     "data": {
      "text/plain": [
       "Index(['Lead Origin', 'Lead Source', 'Do Not Email', 'Converted',\n",
       "       'TotalVisits', 'Total Time Spent on Website', 'Page Views Per Visit',\n",
       "       'Last Activity', 'Specialization', 'What is your current occupation',\n",
       "       'Tags', 'A free copy of Mastering The Interview',\n",
       "       'Last Notable Activity'],\n",
       "      dtype='object')"
      ]
     },
     "execution_count": 59,
     "metadata": {},
     "output_type": "execute_result"
    }
   ],
   "source": [
    "# Recalling the columns for analysis:\n",
    "df_leads.columns"
   ]
  },
  {
   "cell_type": "code",
   "execution_count": 60,
   "id": "c9d7e885",
   "metadata": {},
   "outputs": [],
   "source": [
    "# Defining a function to ease the process of plotting and visualizations :\n",
    "def plots(var1,var2,leads_data):\n",
    "    plt.figure(figsize=(9,4))\n",
    "    sns.countplot(x=var1,hue=var2, data=leads_data , palette = 'afmhot').tick_params(axis='x', rotation = 90)\n",
    "    plt.show()"
   ]
  },
  {
   "cell_type": "markdown",
   "id": "c262bf04",
   "metadata": {},
   "source": [
    "###  1. Lead Origin"
   ]
  },
  {
   "cell_type": "code",
   "execution_count": 61,
   "id": "2cf5adc9",
   "metadata": {},
   "outputs": [
    {
     "data": {
      "image/png": "[encoded data removed]",
      "text/plain": [
       "<Figure size 900x400 with 1 Axes>"
      ]
     },
     "metadata": {},
     "output_type": "display_data"
    }
   ],
   "source": [
    "# Plotting the Lead Origin column with respect to the target column that is Converted:\n",
    "plots('Lead Origin','Converted',df_leads)\n"
   ]
  },
  {
   "cell_type": "markdown",
   "id": "0a6bb221",
   "metadata": {},
   "source": [
    "#### Insights:\n",
    "-  Customers identified from Lead Add Form have the highest conversion rate as compared to other Lead Origins\n",
    "-  Highest positive conversion rate is of tags 'Will revert after reading the mail' and 'Closed by Horizon'."
   ]
  },
  {
   "cell_type": "markdown",
   "id": "b1d6c1c1",
   "metadata": {},
   "source": [
    "### 2. Do Not Email:\n"
   ]
  },
  {
   "cell_type": "code",
   "execution_count": 62,
   "id": "5a9ea5cf",
   "metadata": {},
   "outputs": [
    {
     "data": {
      "image/png": "[encoded data removed]",
      "text/plain": [
       "<Figure size 900x400 with 1 Axes>"
      ]
     },
     "metadata": {},
     "output_type": "display_data"
    }
   ],
   "source": [
    "# Plotting the Do Not Email column with respect to the target column that is Converted:\n",
    "plots('Do Not Email','Converted',df_leads)"
   ]
  },
  {
   "cell_type": "markdown",
   "id": "a088e2c2",
   "metadata": {},
   "source": [
    "### Insights: \n",
    "People who do not want to receive emails and people who want to receive emails both have high negative conversion rates"
   ]
  },
  {
   "cell_type": "markdown",
   "id": "34b9983b",
   "metadata": {},
   "source": [
    "### 3.Lead Source"
   ]
  },
  {
   "cell_type": "code",
   "execution_count": 63,
   "id": "da895d6a",
   "metadata": {},
   "outputs": [
    {
     "data": {
      "image/png": "[encoded data removed]",
      "text/plain": [
       "<Figure size 900x400 with 1 Axes>"
      ]
     },
     "metadata": {},
     "output_type": "display_data"
    }
   ],
   "source": [
    "# Plotting the Lead Source column with respect to the target column that is Converted:\n",
    "plots('Lead Source','Converted',df_leads)"
   ]
  },
  {
   "cell_type": "markdown",
   "id": "51757923",
   "metadata": {},
   "source": [
    "#### Insights: \n",
    "-  Reference shows good positive conversion rate.\n",
    "-  Direct traffic and Google have highest negative conversion rate."
   ]
  },
  {
   "cell_type": "markdown",
   "id": "7602956f",
   "metadata": {},
   "source": [
    "### 4. Specialization"
   ]
  },
  {
   "cell_type": "code",
   "execution_count": 64,
   "id": "424e5ab5",
   "metadata": {},
   "outputs": [
    {
     "data": {
      "image/png": "[encoded data removed]",
      "text/plain": [
       "<Figure size 900x400 with 1 Axes>"
      ]
     },
     "metadata": {},
     "output_type": "display_data"
    }
   ],
   "source": [
    "# Plotting the Specialization column with respect to the target column that is Converted:\n",
    "plots('Specialization','Converted',df_leads)"
   ]
  },
  {
   "cell_type": "markdown",
   "id": "a3ff116f",
   "metadata": {},
   "source": [
    "#### Insights\n",
    "-  Lowest positive conversion rate is of customers who specializes in Services Excellence.\n",
    "-  Highest positive conversion rate is of customers who specializes in Management"
   ]
  },
  {
   "cell_type": "markdown",
   "id": "049a0152",
   "metadata": {},
   "source": [
    "### 5.  Last Activity"
   ]
  },
  {
   "cell_type": "code",
   "execution_count": 65,
   "id": "c3837fd5",
   "metadata": {},
   "outputs": [
    {
     "data": {
      "image/png": "[encoded data removed]",
      "text/plain": [
       "<Figure size 900x400 with 1 Axes>"
      ]
     },
     "metadata": {},
     "output_type": "display_data"
    }
   ],
   "source": [
    "# Plotting the Last Activity column with respect to the target column that is converted:\n",
    "plots('Last Activity','Converted',df_leads)"
   ]
  },
  {
   "cell_type": "markdown",
   "id": "7385fee3",
   "metadata": {},
   "source": [
    "#### Insights:\n",
    "- Last activity performed by customers is SMS sent , since it has the highest positive conversion rate."
   ]
  },
  {
   "cell_type": "markdown",
   "id": "077f85e2",
   "metadata": {},
   "source": [
    "### 6. What is your current occupation?"
   ]
  },
  {
   "cell_type": "code",
   "execution_count": 67,
   "id": "a6557fd7",
   "metadata": {},
   "outputs": [
    {
     "data": {
      "image/png": "[encoded data removed]",
      "text/plain": [
       "<Figure size 900x400 with 1 Axes>"
      ]
     },
     "metadata": {},
     "output_type": "display_data"
    }
   ],
   "source": [
    "# Plotting the What is your current occupation column with respect to the target column that is Converted:\n",
    "plots('What is your current occupation','Converted',df_leads)"
   ]
  },
  {
   "cell_type": "markdown",
   "id": "d28e280c",
   "metadata": {},
   "source": [
    "#### Insights:\n",
    "- Highest negative conversion rate is of unemployed customers."
   ]
  },
  {
   "cell_type": "markdown",
   "id": "9b745424",
   "metadata": {},
   "source": [
    "### 7. Tags"
   ]
  },
  {
   "cell_type": "code",
   "execution_count": 69,
   "id": "1b963a64",
   "metadata": {},
   "outputs": [
    {
     "data": {
      "image/png": "[encoded data removed]",
      "text/plain": [
       "<Figure size 900x400 with 1 Axes>"
      ]
     },
     "metadata": {},
     "output_type": "display_data"
    }
   ],
   "source": [
    "# Plotting the Tags column with respect to the target column that is Converted:\n",
    "plots('Tags','Converted',df_leads)"
   ]
  },
  {
   "cell_type": "markdown",
   "id": "8152c602",
   "metadata": {},
   "source": [
    "#### Insights:\n",
    "-  Negative conversion rate is of tags 'Ringing', 'Not specified' and 'Other tags'.\n",
    "-  Positive conversion rate is of tags 'Will revert after reading the email' and 'Closed by Horizon'"
   ]
  },
  {
   "cell_type": "markdown",
   "id": "61854641",
   "metadata": {},
   "source": [
    "### 8. LAST NOTABLE ACTIVITY:"
   ]
  },
  {
   "cell_type": "code",
   "execution_count": 70,
   "id": "e49f7837",
   "metadata": {},
   "outputs": [
    {
     "data": {
      "image/png": "[encoded data removed]",
      "text/plain": [
       "<Figure size 900x400 with 1 Axes>"
      ]
     },
     "metadata": {},
     "output_type": "display_data"
    }
   ],
   "source": [
    "# Plotting the Last Notable Activity column with respect to the target column that is Converted:\n",
    "plots('Last Notable Activity','Converted',df_leads)"
   ]
  },
  {
   "cell_type": "markdown",
   "id": "41e3253c",
   "metadata": {},
   "source": [
    "#### Insights: \n",
    "-  Out of all the activities present the highest conversion rate is of Activity SMS and highest negative is of Modified"
   ]
  },
  {
   "cell_type": "markdown",
   "id": "713de56e",
   "metadata": {},
   "source": [
    "## Numerical Variables Analysis"
   ]
  },
  {
   "cell_type": "code",
   "execution_count": 72,
   "id": "ca3eec66",
   "metadata": {},
   "outputs": [
    {
     "data": {
      "image/png": "[encoded data removed]",
      "text/plain": [
       "<Figure size 1200x1000 with 2 Axes>"
      ]
     },
     "metadata": {},
     "output_type": "display_data"
    }
   ],
   "source": [
    "# Checking correlation among variables:\n",
    "plt.figure(figsize=(12,10))\n",
    "sns.heatmap(df_leads.corr(),annot=True,cmap='Reds')\n",
    "plt.show()"
   ]
  },
  {
   "cell_type": "markdown",
   "id": "3f83c650",
   "metadata": {},
   "source": [
    "#### Insights:\n",
    "    -  According to the above heat map the target variable Converted and Page Views Per Visit have highest corelation"
   ]
  },
  {
   "cell_type": "markdown",
   "id": "f6af4a70",
   "metadata": {},
   "source": [
    "### OUTLIER TREATMENT:"
   ]
  },
  {
   "cell_type": "markdown",
   "id": "50991431",
   "metadata": {},
   "source": [
    "#### 1. TOTAL TIME SPENT ON WEBSITE:"
   ]
  },
  {
   "cell_type": "code",
   "execution_count": 201,
   "id": "3712bbca",
   "metadata": {},
   "outputs": [
    {
     "data": {
      "image/png": "[encoded data removed]",
      "text/plain": [
       "<Figure size 640x480 with 1 Axes>"
      ]
     },
     "metadata": {},
     "output_type": "display_data"
    }
   ],
   "source": [
    "# Creating boxplot for Total Time Spent on Website:\n",
    "sns.boxplot(y ='Total Time Spent on Website',data= df_leads)\n",
    "plt.show()"
   ]
  },
  {
   "cell_type": "markdown",
   "id": "a8b6ee4a",
   "metadata": {},
   "source": [
    "#### Insight:\n",
    "-  There are no possible outliers to treat."
   ]
  },
  {
   "cell_type": "markdown",
   "id": "306628c3",
   "metadata": {},
   "source": [
    "#### 2. TOTAL VISITS:"
   ]
  },
  {
   "cell_type": "code",
   "execution_count": 75,
   "id": "b8acf8c6",
   "metadata": {},
   "outputs": [
    {
     "data": {
      "image/png": "[encoded data removed]",
      "text/plain": [
       "<Figure size 640x480 with 1 Axes>"
      ]
     },
     "metadata": {},
     "output_type": "display_data"
    }
   ],
   "source": [
    "#  Creating boxplot for TotalVisits:\n",
    "sns.boxplot(y= 'TotalVisits', data= df_leads)\n",
    "plt.show()"
   ]
  },
  {
   "cell_type": "code",
   "execution_count": 76,
   "id": "9338de16",
   "metadata": {},
   "outputs": [
    {
     "data": {
      "text/plain": [
       "count    9240.000000\n",
       "mean        3.438636\n",
       "std         4.819024\n",
       "min         0.000000\n",
       "10%         0.000000\n",
       "25%         1.000000\n",
       "50%         3.000000\n",
       "75%         5.000000\n",
       "99%        17.000000\n",
       "max       251.000000\n",
       "Name: TotalVisits, dtype: float64"
      ]
     },
     "execution_count": 76,
     "metadata": {},
     "output_type": "execute_result"
    }
   ],
   "source": [
    "# Describing the TotalVisits column:\n",
    "df_leads.TotalVisits.describe(percentiles=[0.10,0.25,0.50,0.75,0.99])"
   ]
  },
  {
   "cell_type": "code",
   "execution_count": 77,
   "id": "66ccd381",
   "metadata": {},
   "outputs": [],
   "source": [
    "# By removing top 1% treating the outliers:\n",
    "df_leads = df_leads[(df_leads['TotalVisits']<=df_leads['TotalVisits'].quantile(0.99))]"
   ]
  },
  {
   "cell_type": "code",
   "execution_count": 78,
   "id": "750a6ffa",
   "metadata": {},
   "outputs": [
    {
     "data": {
      "image/png": "[encoded data removed]",
      "text/plain": [
       "<Figure size 640x480 with 1 Axes>"
      ]
     },
     "metadata": {},
     "output_type": "display_data"
    }
   ],
   "source": [
    "# Visualizing the boxplot again:\n",
    "sns.boxplot(y= 'TotalVisits', data= df_leads)\n",
    "plt.show()"
   ]
  },
  {
   "cell_type": "markdown",
   "id": "9e4540a6",
   "metadata": {},
   "source": [
    "#### 3. PAGE VIEW PER VISIT:"
   ]
  },
  {
   "cell_type": "code",
   "execution_count": 79,
   "id": "e0418cb0",
   "metadata": {},
   "outputs": [
    {
     "data": {
      "image/png": "[encoded data removed]",
      "text/plain": [
       "<Figure size 640x480 with 1 Axes>"
      ]
     },
     "metadata": {},
     "output_type": "display_data"
    }
   ],
   "source": [
    "# Creating boxplot for Page Views Per Visit:\n",
    "sns.boxplot(y= 'Page Views Per Visit', data= df_leads)\n",
    "plt.show()"
   ]
  },
  {
   "cell_type": "code",
   "execution_count": 80,
   "id": "bb2c9d4f",
   "metadata": {},
   "outputs": [
    {
     "data": {
      "text/plain": [
       "count    9157.000000\n",
       "mean        2.332225\n",
       "std         2.047285\n",
       "min         0.000000\n",
       "10%         0.000000\n",
       "25%         1.000000\n",
       "50%         2.000000\n",
       "75%         3.000000\n",
       "99%         9.000000\n",
       "max        16.000000\n",
       "Name: Page Views Per Visit, dtype: float64"
      ]
     },
     "execution_count": 80,
     "metadata": {},
     "output_type": "execute_result"
    }
   ],
   "source": [
    "# Describing the Page Views Per Visit column:\n",
    "df_leads['Page Views Per Visit'].describe(percentiles=[0.10,0.25,0.50,0.75,0.99])"
   ]
  },
  {
   "cell_type": "code",
   "execution_count": 81,
   "id": "217f82ef",
   "metadata": {},
   "outputs": [],
   "source": [
    "# Treating outliers by removing top 1%:\n",
    "df_leads = df_leads[(df_leads['Page Views Per Visit']<= df_leads['Page Views Per Visit'].quantile(0.99))]"
   ]
  },
  {
   "cell_type": "code",
   "execution_count": 82,
   "id": "dbe3a974",
   "metadata": {},
   "outputs": [
    {
     "data": {
      "image/png": "[encoded data removed]",
      "text/plain": [
       "<Figure size 640x480 with 1 Axes>"
      ]
     },
     "metadata": {},
     "output_type": "display_data"
    }
   ],
   "source": [
    "# Visualizing the boxplot again:\n",
    "sns.boxplot(y = 'Page Views Per Visit', data= df_leads)\n",
    "plt.show()"
   ]
  },
  {
   "cell_type": "markdown",
   "id": "f03baf37",
   "metadata": {},
   "source": [
    "### Plotting Numerical Variables:"
   ]
  },
  {
   "cell_type": "code",
   "execution_count": 83,
   "id": "78e04f15",
   "metadata": {},
   "outputs": [],
   "source": [
    "def box(var):\n",
    "    sns.boxplot(y=var, x='Converted',data=df_leads)\n",
    "    plt.show()"
   ]
  },
  {
   "cell_type": "markdown",
   "id": "eca32ffc",
   "metadata": {},
   "source": [
    "#### 1. TOTAL TIME SPENT ON WEBSITE:"
   ]
  },
  {
   "cell_type": "code",
   "execution_count": 202,
   "id": "16cb4653",
   "metadata": {},
   "outputs": [
    {
     "data": {
      "image/png": "[encoded data removed]",
      "text/plain": [
       "<Figure size 640x480 with 1 Axes>"
      ]
     },
     "metadata": {},
     "output_type": "display_data"
    }
   ],
   "source": [
    "box('Total Time Spent on Website')"
   ]
  },
  {
   "cell_type": "markdown",
   "id": "5b3cec1a",
   "metadata": {},
   "source": [
    "-  <b> Leads spending more time on the website tend to be converted<b>"
   ]
  },
  {
   "cell_type": "markdown",
   "id": "a0c11185",
   "metadata": {},
   "source": [
    "#### 2. TOTAL VISITS:"
   ]
  },
  {
   "cell_type": "code",
   "execution_count": 203,
   "id": "b26efe48",
   "metadata": {},
   "outputs": [
    {
     "data": {
      "image/png": "[encoded data removed]",
      "text/plain": [
       "<Figure size 640x480 with 1 Axes>"
      ]
     },
     "metadata": {},
     "output_type": "display_data"
    }
   ],
   "source": [
    "box('TotalVisits')"
   ]
  },
  {
   "cell_type": "markdown",
   "id": "96f7d8eb",
   "metadata": {},
   "source": [
    "#### Insights: \n",
    " - <b>Median of both the plots are similar to get the appropiate inference.<b>"
   ]
  },
  {
   "cell_type": "markdown",
   "id": "57d7836a",
   "metadata": {},
   "source": [
    "#### 3. PAGE VIEWS PER VISIT:"
   ]
  },
  {
   "cell_type": "code",
   "execution_count": 89,
   "id": "d6f02f0a",
   "metadata": {},
   "outputs": [
    {
     "data": {
      "image/png": "[encoded data removed]",
      "text/plain": [
       "<Figure size 640x480 with 1 Axes>"
      ]
     },
     "metadata": {},
     "output_type": "display_data"
    }
   ],
   "source": [
    "box('Page Views Per Visit')"
   ]
  },
  {
   "cell_type": "markdown",
   "id": "7be415fc",
   "metadata": {},
   "source": [
    "### Binary Mapping:"
   ]
  },
  {
   "cell_type": "code",
   "execution_count": 91,
   "id": "27b6bd3b",
   "metadata": {},
   "outputs": [],
   "source": [
    "# Converting Yes/No into 1/0 to fit the model:\n",
    "def binary_map(x):\n",
    "    return x.map({ 'Yes':1 , 'No':0})\n",
    "\n",
    "vars = ['Do Not Email','A free copy of Mastering The Interview']"
   ]
  },
  {
   "cell_type": "code",
   "execution_count": 92,
   "id": "d607545b",
   "metadata": {},
   "outputs": [],
   "source": [
    "# Applying the funtion defined:\n",
    "df_leads[vars] = df_leads[vars].apply(binary_map)"
   ]
  },
  {
   "cell_type": "code",
   "execution_count": 93,
   "id": "3c195a5c",
   "metadata": {},
   "outputs": [
    {
     "data": {
      "text/html": [
       "<div>\n",
       "<style scoped>\n",
       "    .dataframe tbody tr th:only-of-type {\n",
       "        vertical-align: middle;\n",
       "    }\n",
       "\n",
       "    .dataframe tbody tr th {\n",
       "        vertical-align: top;\n",
       "    }\n",
       "\n",
       "    .dataframe thead th {\n",
       "        text-align: right;\n",
       "    }\n",
       "</style>\n",
       "<table border=\"1\" class=\"dataframe\">\n",
       "  <thead>\n",
       "    <tr style=\"text-align: right;\">\n",
       "      <th></th>\n",
       "      <th>Lead Origin</th>\n",
       "      <th>Lead Source</th>\n",
       "      <th>Do Not Email</th>\n",
       "      <th>Converted</th>\n",
       "      <th>TotalVisits</th>\n",
       "      <th>Total Time Spent on Website</th>\n",
       "      <th>Page Views Per Visit</th>\n",
       "      <th>Last Activity</th>\n",
       "      <th>Specialization</th>\n",
       "      <th>What is your current occupation</th>\n",
       "      <th>Tags</th>\n",
       "      <th>A free copy of Mastering The Interview</th>\n",
       "      <th>Last Notable Activity</th>\n",
       "    </tr>\n",
       "  </thead>\n",
       "  <tbody>\n",
       "    <tr>\n",
       "      <th>0</th>\n",
       "      <td>API</td>\n",
       "      <td>Olark Chat</td>\n",
       "      <td>0</td>\n",
       "      <td>0</td>\n",
       "      <td>0.0</td>\n",
       "      <td>0</td>\n",
       "      <td>0.0</td>\n",
       "      <td>Page Visited on Website</td>\n",
       "      <td>Not Specified</td>\n",
       "      <td>Unemployed</td>\n",
       "      <td>Interested in other courses</td>\n",
       "      <td>0</td>\n",
       "      <td>Modified</td>\n",
       "    </tr>\n",
       "    <tr>\n",
       "      <th>1</th>\n",
       "      <td>API</td>\n",
       "      <td>Organic Search</td>\n",
       "      <td>0</td>\n",
       "      <td>0</td>\n",
       "      <td>5.0</td>\n",
       "      <td>674</td>\n",
       "      <td>2.5</td>\n",
       "      <td>Email Opened</td>\n",
       "      <td>Not Specified</td>\n",
       "      <td>Unemployed</td>\n",
       "      <td>Ringing</td>\n",
       "      <td>0</td>\n",
       "      <td>Email Opened</td>\n",
       "    </tr>\n",
       "    <tr>\n",
       "      <th>2</th>\n",
       "      <td>Landing Page Submission</td>\n",
       "      <td>Direct Traffic</td>\n",
       "      <td>0</td>\n",
       "      <td>1</td>\n",
       "      <td>2.0</td>\n",
       "      <td>1532</td>\n",
       "      <td>2.0</td>\n",
       "      <td>Email Opened</td>\n",
       "      <td>Business Administration</td>\n",
       "      <td>Student</td>\n",
       "      <td>Will revert after reading the email</td>\n",
       "      <td>1</td>\n",
       "      <td>Email Opened</td>\n",
       "    </tr>\n",
       "    <tr>\n",
       "      <th>3</th>\n",
       "      <td>Landing Page Submission</td>\n",
       "      <td>Direct Traffic</td>\n",
       "      <td>0</td>\n",
       "      <td>0</td>\n",
       "      <td>1.0</td>\n",
       "      <td>305</td>\n",
       "      <td>1.0</td>\n",
       "      <td>Others</td>\n",
       "      <td>Media and Advertising</td>\n",
       "      <td>Unemployed</td>\n",
       "      <td>Ringing</td>\n",
       "      <td>0</td>\n",
       "      <td>Modified</td>\n",
       "    </tr>\n",
       "    <tr>\n",
       "      <th>4</th>\n",
       "      <td>Landing Page Submission</td>\n",
       "      <td>Google</td>\n",
       "      <td>0</td>\n",
       "      <td>1</td>\n",
       "      <td>2.0</td>\n",
       "      <td>1428</td>\n",
       "      <td>1.0</td>\n",
       "      <td>Converted to Lead</td>\n",
       "      <td>Not Specified</td>\n",
       "      <td>Unemployed</td>\n",
       "      <td>Will revert after reading the email</td>\n",
       "      <td>0</td>\n",
       "      <td>Modified</td>\n",
       "    </tr>\n",
       "  </tbody>\n",
       "</table>\n",
       "</div>"
      ],
      "text/plain": [
       "               Lead Origin     Lead Source  Do Not Email  Converted  \\\n",
       "0                      API      Olark Chat             0          0   \n",
       "1                      API  Organic Search             0          0   \n",
       "2  Landing Page Submission  Direct Traffic             0          1   \n",
       "3  Landing Page Submission  Direct Traffic             0          0   \n",
       "4  Landing Page Submission          Google             0          1   \n",
       "\n",
       "   TotalVisits  Total Time Spent on Website  Page Views Per Visit  \\\n",
       "0          0.0                            0                   0.0   \n",
       "1          5.0                          674                   2.5   \n",
       "2          2.0                         1532                   2.0   \n",
       "3          1.0                          305                   1.0   \n",
       "4          2.0                         1428                   1.0   \n",
       "\n",
       "             Last Activity           Specialization  \\\n",
       "0  Page Visited on Website            Not Specified   \n",
       "1             Email Opened            Not Specified   \n",
       "2             Email Opened  Business Administration   \n",
       "3                   Others    Media and Advertising   \n",
       "4        Converted to Lead            Not Specified   \n",
       "\n",
       "  What is your current occupation                                 Tags  \\\n",
       "0                      Unemployed          Interested in other courses   \n",
       "1                      Unemployed                              Ringing   \n",
       "2                         Student  Will revert after reading the email   \n",
       "3                      Unemployed                              Ringing   \n",
       "4                      Unemployed  Will revert after reading the email   \n",
       "\n",
       "   A free copy of Mastering The Interview Last Notable Activity  \n",
       "0                                       0              Modified  \n",
       "1                                       0          Email Opened  \n",
       "2                                       1          Email Opened  \n",
       "3                                       0              Modified  \n",
       "4                                       0              Modified  "
      ]
     },
     "execution_count": 93,
     "metadata": {},
     "output_type": "execute_result"
    }
   ],
   "source": [
    "\n",
    "df_leads.head()"
   ]
  },
  {
   "cell_type": "markdown",
   "id": "634a4111",
   "metadata": {},
   "source": [
    "### Dummy Variable:"
   ]
  },
  {
   "cell_type": "code",
   "execution_count": 95,
   "id": "3a0c01e6",
   "metadata": {},
   "outputs": [
    {
     "data": {
      "text/plain": [
       "Index(['Lead Origin', 'Lead Source', 'Last Activity', 'Specialization',\n",
       "       'What is your current occupation', 'Tags', 'Last Notable Activity'],\n",
       "      dtype='object')"
      ]
     },
     "execution_count": 95,
     "metadata": {},
     "output_type": "execute_result"
    }
   ],
   "source": [
    "# Categorical columns checking:\n",
    "cat_cols = df_leads.select_dtypes(include = 'object').columns\n",
    "cat_cols"
   ]
  },
  {
   "cell_type": "code",
   "execution_count": 96,
   "id": "aaa1e23f",
   "metadata": {},
   "outputs": [
    {
     "data": {
      "text/plain": [
       "Landing Page Submission    4769\n",
       "API                        3548\n",
       "Lead Add Form               717\n",
       "Lead Import                  55\n",
       "Quick Add Form                1\n",
       "Name: Lead Origin, dtype: int64"
      ]
     },
     "execution_count": 96,
     "metadata": {},
     "output_type": "execute_result"
    }
   ],
   "source": [
    "# Checking the value_counts:\n",
    "df_leads['Lead Origin'].value_counts()"
   ]
  },
  {
   "cell_type": "code",
   "execution_count": 97,
   "id": "16520593",
   "metadata": {},
   "outputs": [],
   "source": [
    "# Dummy variable creation for Lead Origin:\n",
    "Lead_Origin = pd.get_dummies(df_leads['Lead Origin'], prefix = 'Lead_Origin')\n",
    "Lead_Origin = Lead_Origin.drop('Lead_Origin_Quick Add Form', axis = 1)\n",
    "df_leads = pd.concat([df_leads, Lead_Origin], axis = 1)"
   ]
  },
  {
   "cell_type": "code",
   "execution_count": 98,
   "id": "a10fdd3e",
   "metadata": {},
   "outputs": [
    {
     "data": {
      "text/plain": [
       "Google              2877\n",
       "Direct Traffic      2499\n",
       "Olark Chat          1753\n",
       "Organic Search      1092\n",
       "Reference            533\n",
       "Welingak Website     142\n",
       "Referral Sites       117\n",
       "Others                77\n",
       "Name: Lead Source, dtype: int64"
      ]
     },
     "execution_count": 98,
     "metadata": {},
     "output_type": "execute_result"
    }
   ],
   "source": [
    "# Checking the value_counts:\n",
    "df_leads['Lead Source'].value_counts()"
   ]
  },
  {
   "cell_type": "code",
   "execution_count": 99,
   "id": "c2f685e9",
   "metadata": {},
   "outputs": [],
   "source": [
    "# Dummy variable creation for Lead Source:\n",
    "Lead_Source = pd.get_dummies(df_leads['Lead Source'], prefix = 'Lead_Source')\n",
    "Lead_Source = Lead_Source.drop('Lead_Source_Others', axis = 1)\n",
    "df_leads = pd.concat([df_leads, Lead_Source], axis = 1)"
   ]
  },
  {
   "cell_type": "code",
   "execution_count": 100,
   "id": "630d282c",
   "metadata": {},
   "outputs": [
    {
     "data": {
      "text/plain": [
       "Email Opened                 3493\n",
       "SMS Sent                     2707\n",
       "Olark Chat Conversation       967\n",
       "Page Visited on Website       594\n",
       "Converted to Lead             428\n",
       "Email Bounced                 324\n",
       "Email Link Clicked            264\n",
       "Others                        199\n",
       "Form Submitted on Website     114\n",
       "Name: Last Activity, dtype: int64"
      ]
     },
     "execution_count": 100,
     "metadata": {},
     "output_type": "execute_result"
    }
   ],
   "source": [
    "# Checking the value_counts:\n",
    "df_leads['Last Activity'].value_counts()"
   ]
  },
  {
   "cell_type": "code",
   "execution_count": 101,
   "id": "7a6ac886",
   "metadata": {},
   "outputs": [],
   "source": [
    "# Dummy variable creation for Lead Source:\n",
    "Last_Activity = pd.get_dummies(df_leads['Last Activity'], prefix = 'Last_Activity')\n",
    "Last_Activity = Last_Activity.drop('Last_Activity_Others', axis = 1)\n",
    "df_leads = pd.concat([df_leads, Last_Activity], axis = 1)"
   ]
  },
  {
   "cell_type": "code",
   "execution_count": 102,
   "id": "6ea3ce81",
   "metadata": {},
   "outputs": [
    {
     "data": {
      "text/plain": [
       "Management Specializations           4175\n",
       "Not Specified                        3360\n",
       "Business Administration               394\n",
       "Banking, Investment And Insurance     328\n",
       "Media and Advertising                 198\n",
       "Travel and Tourism                    190\n",
       "International Business                173\n",
       "E-COMMERCE                            108\n",
       "Rural and Agribusiness                 70\n",
       "E-Business                             56\n",
       "Services Excellence                    38\n",
       "Name: Specialization, dtype: int64"
      ]
     },
     "execution_count": 102,
     "metadata": {},
     "output_type": "execute_result"
    }
   ],
   "source": [
    "# Checking value_counts:\n",
    "df_leads['Specialization'].value_counts()"
   ]
  },
  {
   "cell_type": "code",
   "execution_count": 103,
   "id": "e517150f",
   "metadata": {},
   "outputs": [],
   "source": [
    "# Dummy variable creation for Specialization:\n",
    "Special = pd.get_dummies(df_leads['Specialization'], prefix = 'Specialization')\n",
    "Special = Special.drop('Specialization_Not Specified', axis = 1)\n",
    "df_leads = pd.concat([df_leads, Special], axis = 1)"
   ]
  },
  {
   "cell_type": "code",
   "execution_count": 104,
   "id": "b372874d",
   "metadata": {},
   "outputs": [
    {
     "data": {
      "text/plain": [
       "Unemployed              5508\n",
       "Not Specified           2650\n",
       "Working Professional     694\n",
       "Student                  207\n",
       "Other                     31\n",
       "Name: What is your current occupation, dtype: int64"
      ]
     },
     "execution_count": 104,
     "metadata": {},
     "output_type": "execute_result"
    }
   ],
   "source": [
    "# Checking value_counts:\n",
    "df_leads['What is your current occupation'].value_counts()"
   ]
  },
  {
   "cell_type": "code",
   "execution_count": 105,
   "id": "6e3e8f3c",
   "metadata": {},
   "outputs": [],
   "source": [
    "# Dummy variable creation for What is your current occupation:\n",
    "occup = pd.get_dummies(df_leads['What is your current occupation'], prefix = 'Occupation')\n",
    "occup = occup.drop('Occupation_Other', axis = 1)\n",
    "df_leads = pd.concat([df_leads, occup], axis = 1)"
   ]
  },
  {
   "cell_type": "code",
   "execution_count": 106,
   "id": "6b82b07b",
   "metadata": {},
   "outputs": [
    {
     "data": {
      "text/plain": [
       "Not Specified                          3304\n",
       "Will revert after reading the email    2039\n",
       "Other Tags                             1243\n",
       "Ringing                                1176\n",
       "Interested in other courses             509\n",
       "Already a student                       461\n",
       "Closed by Horizzon                      347\n",
       "Still Thinking                            6\n",
       "Interested in Next batch                  5\n",
       "Name: Tags, dtype: int64"
      ]
     },
     "execution_count": 106,
     "metadata": {},
     "output_type": "execute_result"
    }
   ],
   "source": [
    "# Checking value_counts:\n",
    "df_leads['Tags'].value_counts()"
   ]
  },
  {
   "cell_type": "code",
   "execution_count": 107,
   "id": "e90403f3",
   "metadata": {},
   "outputs": [],
   "source": [
    "# Creating dummy variables for Tags:\n",
    "tags = pd.get_dummies(df_leads['Tags'], prefix = 'Tags')\n",
    "tags = tags.drop('Tags_Not Specified', axis = 1)\n",
    "df_leads = pd.concat([df_leads, tags], axis = 1)"
   ]
  },
  {
   "cell_type": "code",
   "execution_count": 108,
   "id": "19b7a85a",
   "metadata": {},
   "outputs": [
    {
     "data": {
      "text/plain": [
       "Modified                    3361\n",
       "Email Opened                2789\n",
       "SMS Sent                    2143\n",
       "Page Visited on Website      288\n",
       "Olark Chat Conversation      182\n",
       "Email Link Clicked           170\n",
       "Email Bounced                 59\n",
       "Unsubscribed                  46\n",
       "Unreachable                   32\n",
       "Had a Phone Conversation      13\n",
       "Others                         7\n",
       "Name: Last Notable Activity, dtype: int64"
      ]
     },
     "execution_count": 108,
     "metadata": {},
     "output_type": "execute_result"
    }
   ],
   "source": [
    "# Checking value_counts:\n",
    "df_leads['Last Notable Activity'].value_counts()"
   ]
  },
  {
   "cell_type": "code",
   "execution_count": 109,
   "id": "e95a5fa9",
   "metadata": {},
   "outputs": [],
   "source": [
    "# Last Notable Activity\n",
    "act = pd.get_dummies(df_leads['Last Notable Activity'], prefix = 'Last_Notable_Activity')\n",
    "act = act.drop('Last_Notable_Activity_Others', axis = 1)\n",
    "df_leads = pd.concat([df_leads, act], axis = 1)"
   ]
  },
  {
   "cell_type": "code",
   "execution_count": 110,
   "id": "748729c5",
   "metadata": {},
   "outputs": [
    {
     "data": {
      "text/html": [
       "<div>\n",
       "<style scoped>\n",
       "    .dataframe tbody tr th:only-of-type {\n",
       "        vertical-align: middle;\n",
       "    }\n",
       "\n",
       "    .dataframe tbody tr th {\n",
       "        vertical-align: top;\n",
       "    }\n",
       "\n",
       "    .dataframe thead th {\n",
       "        text-align: right;\n",
       "    }\n",
       "</style>\n",
       "<table border=\"1\" class=\"dataframe\">\n",
       "  <thead>\n",
       "    <tr style=\"text-align: right;\">\n",
       "      <th></th>\n",
       "      <th>Lead Origin</th>\n",
       "      <th>Lead Source</th>\n",
       "      <th>Do Not Email</th>\n",
       "      <th>Converted</th>\n",
       "      <th>TotalVisits</th>\n",
       "      <th>Total Time Spent on Website</th>\n",
       "      <th>Page Views Per Visit</th>\n",
       "      <th>Last Activity</th>\n",
       "      <th>Specialization</th>\n",
       "      <th>What is your current occupation</th>\n",
       "      <th>...</th>\n",
       "      <th>Last_Notable_Activity_Email Bounced</th>\n",
       "      <th>Last_Notable_Activity_Email Link Clicked</th>\n",
       "      <th>Last_Notable_Activity_Email Opened</th>\n",
       "      <th>Last_Notable_Activity_Had a Phone Conversation</th>\n",
       "      <th>Last_Notable_Activity_Modified</th>\n",
       "      <th>Last_Notable_Activity_Olark Chat Conversation</th>\n",
       "      <th>Last_Notable_Activity_Page Visited on Website</th>\n",
       "      <th>Last_Notable_Activity_SMS Sent</th>\n",
       "      <th>Last_Notable_Activity_Unreachable</th>\n",
       "      <th>Last_Notable_Activity_Unsubscribed</th>\n",
       "    </tr>\n",
       "  </thead>\n",
       "  <tbody>\n",
       "    <tr>\n",
       "      <th>0</th>\n",
       "      <td>API</td>\n",
       "      <td>Olark Chat</td>\n",
       "      <td>0</td>\n",
       "      <td>0</td>\n",
       "      <td>0.0</td>\n",
       "      <td>0</td>\n",
       "      <td>0.0</td>\n",
       "      <td>Page Visited on Website</td>\n",
       "      <td>Not Specified</td>\n",
       "      <td>Unemployed</td>\n",
       "      <td>...</td>\n",
       "      <td>0</td>\n",
       "      <td>0</td>\n",
       "      <td>0</td>\n",
       "      <td>0</td>\n",
       "      <td>1</td>\n",
       "      <td>0</td>\n",
       "      <td>0</td>\n",
       "      <td>0</td>\n",
       "      <td>0</td>\n",
       "      <td>0</td>\n",
       "    </tr>\n",
       "    <tr>\n",
       "      <th>1</th>\n",
       "      <td>API</td>\n",
       "      <td>Organic Search</td>\n",
       "      <td>0</td>\n",
       "      <td>0</td>\n",
       "      <td>5.0</td>\n",
       "      <td>674</td>\n",
       "      <td>2.5</td>\n",
       "      <td>Email Opened</td>\n",
       "      <td>Not Specified</td>\n",
       "      <td>Unemployed</td>\n",
       "      <td>...</td>\n",
       "      <td>0</td>\n",
       "      <td>0</td>\n",
       "      <td>1</td>\n",
       "      <td>0</td>\n",
       "      <td>0</td>\n",
       "      <td>0</td>\n",
       "      <td>0</td>\n",
       "      <td>0</td>\n",
       "      <td>0</td>\n",
       "      <td>0</td>\n",
       "    </tr>\n",
       "    <tr>\n",
       "      <th>2</th>\n",
       "      <td>Landing Page Submission</td>\n",
       "      <td>Direct Traffic</td>\n",
       "      <td>0</td>\n",
       "      <td>1</td>\n",
       "      <td>2.0</td>\n",
       "      <td>1532</td>\n",
       "      <td>2.0</td>\n",
       "      <td>Email Opened</td>\n",
       "      <td>Business Administration</td>\n",
       "      <td>Student</td>\n",
       "      <td>...</td>\n",
       "      <td>0</td>\n",
       "      <td>0</td>\n",
       "      <td>1</td>\n",
       "      <td>0</td>\n",
       "      <td>0</td>\n",
       "      <td>0</td>\n",
       "      <td>0</td>\n",
       "      <td>0</td>\n",
       "      <td>0</td>\n",
       "      <td>0</td>\n",
       "    </tr>\n",
       "    <tr>\n",
       "      <th>3</th>\n",
       "      <td>Landing Page Submission</td>\n",
       "      <td>Direct Traffic</td>\n",
       "      <td>0</td>\n",
       "      <td>0</td>\n",
       "      <td>1.0</td>\n",
       "      <td>305</td>\n",
       "      <td>1.0</td>\n",
       "      <td>Others</td>\n",
       "      <td>Media and Advertising</td>\n",
       "      <td>Unemployed</td>\n",
       "      <td>...</td>\n",
       "      <td>0</td>\n",
       "      <td>0</td>\n",
       "      <td>0</td>\n",
       "      <td>0</td>\n",
       "      <td>1</td>\n",
       "      <td>0</td>\n",
       "      <td>0</td>\n",
       "      <td>0</td>\n",
       "      <td>0</td>\n",
       "      <td>0</td>\n",
       "    </tr>\n",
       "    <tr>\n",
       "      <th>4</th>\n",
       "      <td>Landing Page Submission</td>\n",
       "      <td>Google</td>\n",
       "      <td>0</td>\n",
       "      <td>1</td>\n",
       "      <td>2.0</td>\n",
       "      <td>1428</td>\n",
       "      <td>1.0</td>\n",
       "      <td>Converted to Lead</td>\n",
       "      <td>Not Specified</td>\n",
       "      <td>Unemployed</td>\n",
       "      <td>...</td>\n",
       "      <td>0</td>\n",
       "      <td>0</td>\n",
       "      <td>0</td>\n",
       "      <td>0</td>\n",
       "      <td>1</td>\n",
       "      <td>0</td>\n",
       "      <td>0</td>\n",
       "      <td>0</td>\n",
       "      <td>0</td>\n",
       "      <td>0</td>\n",
       "    </tr>\n",
       "  </tbody>\n",
       "</table>\n",
       "<p>5 rows × 64 columns</p>\n",
       "</div>"
      ],
      "text/plain": [
       "               Lead Origin     Lead Source  Do Not Email  Converted  \\\n",
       "0                      API      Olark Chat             0          0   \n",
       "1                      API  Organic Search             0          0   \n",
       "2  Landing Page Submission  Direct Traffic             0          1   \n",
       "3  Landing Page Submission  Direct Traffic             0          0   \n",
       "4  Landing Page Submission          Google             0          1   \n",
       "\n",
       "   TotalVisits  Total Time Spent on Website  Page Views Per Visit  \\\n",
       "0          0.0                            0                   0.0   \n",
       "1          5.0                          674                   2.5   \n",
       "2          2.0                         1532                   2.0   \n",
       "3          1.0                          305                   1.0   \n",
       "4          2.0                         1428                   1.0   \n",
       "\n",
       "             Last Activity           Specialization  \\\n",
       "0  Page Visited on Website            Not Specified   \n",
       "1             Email Opened            Not Specified   \n",
       "2             Email Opened  Business Administration   \n",
       "3                   Others    Media and Advertising   \n",
       "4        Converted to Lead            Not Specified   \n",
       "\n",
       "  What is your current occupation  ... Last_Notable_Activity_Email Bounced  \\\n",
       "0                      Unemployed  ...                                   0   \n",
       "1                      Unemployed  ...                                   0   \n",
       "2                         Student  ...                                   0   \n",
       "3                      Unemployed  ...                                   0   \n",
       "4                      Unemployed  ...                                   0   \n",
       "\n",
       "   Last_Notable_Activity_Email Link Clicked  \\\n",
       "0                                         0   \n",
       "1                                         0   \n",
       "2                                         0   \n",
       "3                                         0   \n",
       "4                                         0   \n",
       "\n",
       "  Last_Notable_Activity_Email Opened  \\\n",
       "0                                  0   \n",
       "1                                  1   \n",
       "2                                  1   \n",
       "3                                  0   \n",
       "4                                  0   \n",
       "\n",
       "   Last_Notable_Activity_Had a Phone Conversation  \\\n",
       "0                                               0   \n",
       "1                                               0   \n",
       "2                                               0   \n",
       "3                                               0   \n",
       "4                                               0   \n",
       "\n",
       "   Last_Notable_Activity_Modified  \\\n",
       "0                               1   \n",
       "1                               0   \n",
       "2                               0   \n",
       "3                               1   \n",
       "4                               1   \n",
       "\n",
       "   Last_Notable_Activity_Olark Chat Conversation  \\\n",
       "0                                              0   \n",
       "1                                              0   \n",
       "2                                              0   \n",
       "3                                              0   \n",
       "4                                              0   \n",
       "\n",
       "   Last_Notable_Activity_Page Visited on Website  \\\n",
       "0                                              0   \n",
       "1                                              0   \n",
       "2                                              0   \n",
       "3                                              0   \n",
       "4                                              0   \n",
       "\n",
       "   Last_Notable_Activity_SMS Sent  Last_Notable_Activity_Unreachable  \\\n",
       "0                               0                                  0   \n",
       "1                               0                                  0   \n",
       "2                               0                                  0   \n",
       "3                               0                                  0   \n",
       "4                               0                                  0   \n",
       "\n",
       "   Last_Notable_Activity_Unsubscribed  \n",
       "0                                   0  \n",
       "1                                   0  \n",
       "2                                   0  \n",
       "3                                   0  \n",
       "4                                   0  \n",
       "\n",
       "[5 rows x 64 columns]"
      ]
     },
     "execution_count": 110,
     "metadata": {},
     "output_type": "execute_result"
    }
   ],
   "source": [
    "# Displaying the head:\n",
    "df_leads.head()"
   ]
  },
  {
   "cell_type": "markdown",
   "id": "a4da01ba",
   "metadata": {},
   "source": [
    "### Dropping of Repeated Variable:"
   ]
  },
  {
   "cell_type": "code",
   "execution_count": 112,
   "id": "9029e57c",
   "metadata": {},
   "outputs": [],
   "source": [
    "df_leads = df_leads.drop(cat_cols, axis = 1)"
   ]
  },
  {
   "cell_type": "code",
   "execution_count": 113,
   "id": "70fea600",
   "metadata": {},
   "outputs": [
    {
     "data": {
      "text/html": [
       "<div>\n",
       "<style scoped>\n",
       "    .dataframe tbody tr th:only-of-type {\n",
       "        vertical-align: middle;\n",
       "    }\n",
       "\n",
       "    .dataframe tbody tr th {\n",
       "        vertical-align: top;\n",
       "    }\n",
       "\n",
       "    .dataframe thead th {\n",
       "        text-align: right;\n",
       "    }\n",
       "</style>\n",
       "<table border=\"1\" class=\"dataframe\">\n",
       "  <thead>\n",
       "    <tr style=\"text-align: right;\">\n",
       "      <th></th>\n",
       "      <th>Do Not Email</th>\n",
       "      <th>Converted</th>\n",
       "      <th>TotalVisits</th>\n",
       "      <th>Total Time Spent on Website</th>\n",
       "      <th>Page Views Per Visit</th>\n",
       "      <th>A free copy of Mastering The Interview</th>\n",
       "      <th>Lead_Origin_API</th>\n",
       "      <th>Lead_Origin_Landing Page Submission</th>\n",
       "      <th>Lead_Origin_Lead Add Form</th>\n",
       "      <th>Lead_Origin_Lead Import</th>\n",
       "      <th>...</th>\n",
       "      <th>Last_Notable_Activity_Email Bounced</th>\n",
       "      <th>Last_Notable_Activity_Email Link Clicked</th>\n",
       "      <th>Last_Notable_Activity_Email Opened</th>\n",
       "      <th>Last_Notable_Activity_Had a Phone Conversation</th>\n",
       "      <th>Last_Notable_Activity_Modified</th>\n",
       "      <th>Last_Notable_Activity_Olark Chat Conversation</th>\n",
       "      <th>Last_Notable_Activity_Page Visited on Website</th>\n",
       "      <th>Last_Notable_Activity_SMS Sent</th>\n",
       "      <th>Last_Notable_Activity_Unreachable</th>\n",
       "      <th>Last_Notable_Activity_Unsubscribed</th>\n",
       "    </tr>\n",
       "  </thead>\n",
       "  <tbody>\n",
       "    <tr>\n",
       "      <th>0</th>\n",
       "      <td>0</td>\n",
       "      <td>0</td>\n",
       "      <td>0.0</td>\n",
       "      <td>0</td>\n",
       "      <td>0.0</td>\n",
       "      <td>0</td>\n",
       "      <td>1</td>\n",
       "      <td>0</td>\n",
       "      <td>0</td>\n",
       "      <td>0</td>\n",
       "      <td>...</td>\n",
       "      <td>0</td>\n",
       "      <td>0</td>\n",
       "      <td>0</td>\n",
       "      <td>0</td>\n",
       "      <td>1</td>\n",
       "      <td>0</td>\n",
       "      <td>0</td>\n",
       "      <td>0</td>\n",
       "      <td>0</td>\n",
       "      <td>0</td>\n",
       "    </tr>\n",
       "    <tr>\n",
       "      <th>1</th>\n",
       "      <td>0</td>\n",
       "      <td>0</td>\n",
       "      <td>5.0</td>\n",
       "      <td>674</td>\n",
       "      <td>2.5</td>\n",
       "      <td>0</td>\n",
       "      <td>1</td>\n",
       "      <td>0</td>\n",
       "      <td>0</td>\n",
       "      <td>0</td>\n",
       "      <td>...</td>\n",
       "      <td>0</td>\n",
       "      <td>0</td>\n",
       "      <td>1</td>\n",
       "      <td>0</td>\n",
       "      <td>0</td>\n",
       "      <td>0</td>\n",
       "      <td>0</td>\n",
       "      <td>0</td>\n",
       "      <td>0</td>\n",
       "      <td>0</td>\n",
       "    </tr>\n",
       "    <tr>\n",
       "      <th>2</th>\n",
       "      <td>0</td>\n",
       "      <td>1</td>\n",
       "      <td>2.0</td>\n",
       "      <td>1532</td>\n",
       "      <td>2.0</td>\n",
       "      <td>1</td>\n",
       "      <td>0</td>\n",
       "      <td>1</td>\n",
       "      <td>0</td>\n",
       "      <td>0</td>\n",
       "      <td>...</td>\n",
       "      <td>0</td>\n",
       "      <td>0</td>\n",
       "      <td>1</td>\n",
       "      <td>0</td>\n",
       "      <td>0</td>\n",
       "      <td>0</td>\n",
       "      <td>0</td>\n",
       "      <td>0</td>\n",
       "      <td>0</td>\n",
       "      <td>0</td>\n",
       "    </tr>\n",
       "    <tr>\n",
       "      <th>3</th>\n",
       "      <td>0</td>\n",
       "      <td>0</td>\n",
       "      <td>1.0</td>\n",
       "      <td>305</td>\n",
       "      <td>1.0</td>\n",
       "      <td>0</td>\n",
       "      <td>0</td>\n",
       "      <td>1</td>\n",
       "      <td>0</td>\n",
       "      <td>0</td>\n",
       "      <td>...</td>\n",
       "      <td>0</td>\n",
       "      <td>0</td>\n",
       "      <td>0</td>\n",
       "      <td>0</td>\n",
       "      <td>1</td>\n",
       "      <td>0</td>\n",
       "      <td>0</td>\n",
       "      <td>0</td>\n",
       "      <td>0</td>\n",
       "      <td>0</td>\n",
       "    </tr>\n",
       "    <tr>\n",
       "      <th>4</th>\n",
       "      <td>0</td>\n",
       "      <td>1</td>\n",
       "      <td>2.0</td>\n",
       "      <td>1428</td>\n",
       "      <td>1.0</td>\n",
       "      <td>0</td>\n",
       "      <td>0</td>\n",
       "      <td>1</td>\n",
       "      <td>0</td>\n",
       "      <td>0</td>\n",
       "      <td>...</td>\n",
       "      <td>0</td>\n",
       "      <td>0</td>\n",
       "      <td>0</td>\n",
       "      <td>0</td>\n",
       "      <td>1</td>\n",
       "      <td>0</td>\n",
       "      <td>0</td>\n",
       "      <td>0</td>\n",
       "      <td>0</td>\n",
       "      <td>0</td>\n",
       "    </tr>\n",
       "  </tbody>\n",
       "</table>\n",
       "<p>5 rows × 57 columns</p>\n",
       "</div>"
      ],
      "text/plain": [
       "   Do Not Email  Converted  TotalVisits  Total Time Spent on Website  \\\n",
       "0             0          0          0.0                            0   \n",
       "1             0          0          5.0                          674   \n",
       "2             0          1          2.0                         1532   \n",
       "3             0          0          1.0                          305   \n",
       "4             0          1          2.0                         1428   \n",
       "\n",
       "   Page Views Per Visit  A free copy of Mastering The Interview  \\\n",
       "0                   0.0                                       0   \n",
       "1                   2.5                                       0   \n",
       "2                   2.0                                       1   \n",
       "3                   1.0                                       0   \n",
       "4                   1.0                                       0   \n",
       "\n",
       "   Lead_Origin_API  Lead_Origin_Landing Page Submission  \\\n",
       "0                1                                    0   \n",
       "1                1                                    0   \n",
       "2                0                                    1   \n",
       "3                0                                    1   \n",
       "4                0                                    1   \n",
       "\n",
       "   Lead_Origin_Lead Add Form  Lead_Origin_Lead Import  ...  \\\n",
       "0                          0                        0  ...   \n",
       "1                          0                        0  ...   \n",
       "2                          0                        0  ...   \n",
       "3                          0                        0  ...   \n",
       "4                          0                        0  ...   \n",
       "\n",
       "   Last_Notable_Activity_Email Bounced  \\\n",
       "0                                    0   \n",
       "1                                    0   \n",
       "2                                    0   \n",
       "3                                    0   \n",
       "4                                    0   \n",
       "\n",
       "   Last_Notable_Activity_Email Link Clicked  \\\n",
       "0                                         0   \n",
       "1                                         0   \n",
       "2                                         0   \n",
       "3                                         0   \n",
       "4                                         0   \n",
       "\n",
       "   Last_Notable_Activity_Email Opened  \\\n",
       "0                                   0   \n",
       "1                                   1   \n",
       "2                                   1   \n",
       "3                                   0   \n",
       "4                                   0   \n",
       "\n",
       "   Last_Notable_Activity_Had a Phone Conversation  \\\n",
       "0                                               0   \n",
       "1                                               0   \n",
       "2                                               0   \n",
       "3                                               0   \n",
       "4                                               0   \n",
       "\n",
       "   Last_Notable_Activity_Modified  \\\n",
       "0                               1   \n",
       "1                               0   \n",
       "2                               0   \n",
       "3                               1   \n",
       "4                               1   \n",
       "\n",
       "   Last_Notable_Activity_Olark Chat Conversation  \\\n",
       "0                                              0   \n",
       "1                                              0   \n",
       "2                                              0   \n",
       "3                                              0   \n",
       "4                                              0   \n",
       "\n",
       "   Last_Notable_Activity_Page Visited on Website  \\\n",
       "0                                              0   \n",
       "1                                              0   \n",
       "2                                              0   \n",
       "3                                              0   \n",
       "4                                              0   \n",
       "\n",
       "   Last_Notable_Activity_SMS Sent  Last_Notable_Activity_Unreachable  \\\n",
       "0                               0                                  0   \n",
       "1                               0                                  0   \n",
       "2                               0                                  0   \n",
       "3                               0                                  0   \n",
       "4                               0                                  0   \n",
       "\n",
       "   Last_Notable_Activity_Unsubscribed  \n",
       "0                                   0  \n",
       "1                                   0  \n",
       "2                                   0  \n",
       "3                                   0  \n",
       "4                                   0  \n",
       "\n",
       "[5 rows x 57 columns]"
      ]
     },
     "execution_count": 113,
     "metadata": {},
     "output_type": "execute_result"
    }
   ],
   "source": [
    "df_leads.head()"
   ]
  },
  {
   "cell_type": "markdown",
   "id": "daa9c73a",
   "metadata": {},
   "source": [
    "### Train-Test Split:"
   ]
  },
  {
   "cell_type": "code",
   "execution_count": 115,
   "id": "5f6578de",
   "metadata": {},
   "outputs": [],
   "source": [
    "# Keeping the target variable 'Converted' in y and rest in X:\n",
    "y = df_leads['Converted']\n",
    "X = df_leads.drop('Converted', axis = 1)"
   ]
  },
  {
   "cell_type": "code",
   "execution_count": 116,
   "id": "d154e2c2",
   "metadata": {},
   "outputs": [],
   "source": [
    "# Specifying X_train, X_test, y_train, y_test:\n",
    "X_train, X_test, y_train, y_test = train_test_split(X, y, train_size= 0.70, random_state= 100)"
   ]
  },
  {
   "cell_type": "code",
   "execution_count": 117,
   "id": "43b430a3",
   "metadata": {},
   "outputs": [
    {
     "data": {
      "text/html": [
       "<div>\n",
       "<style scoped>\n",
       "    .dataframe tbody tr th:only-of-type {\n",
       "        vertical-align: middle;\n",
       "    }\n",
       "\n",
       "    .dataframe tbody tr th {\n",
       "        vertical-align: top;\n",
       "    }\n",
       "\n",
       "    .dataframe thead th {\n",
       "        text-align: right;\n",
       "    }\n",
       "</style>\n",
       "<table border=\"1\" class=\"dataframe\">\n",
       "  <thead>\n",
       "    <tr style=\"text-align: right;\">\n",
       "      <th></th>\n",
       "      <th>Do Not Email</th>\n",
       "      <th>TotalVisits</th>\n",
       "      <th>Total Time Spent on Website</th>\n",
       "      <th>Page Views Per Visit</th>\n",
       "      <th>A free copy of Mastering The Interview</th>\n",
       "      <th>Lead_Origin_API</th>\n",
       "      <th>Lead_Origin_Landing Page Submission</th>\n",
       "      <th>Lead_Origin_Lead Add Form</th>\n",
       "      <th>Lead_Origin_Lead Import</th>\n",
       "      <th>Lead_Source_Direct Traffic</th>\n",
       "      <th>...</th>\n",
       "      <th>Last_Notable_Activity_Email Bounced</th>\n",
       "      <th>Last_Notable_Activity_Email Link Clicked</th>\n",
       "      <th>Last_Notable_Activity_Email Opened</th>\n",
       "      <th>Last_Notable_Activity_Had a Phone Conversation</th>\n",
       "      <th>Last_Notable_Activity_Modified</th>\n",
       "      <th>Last_Notable_Activity_Olark Chat Conversation</th>\n",
       "      <th>Last_Notable_Activity_Page Visited on Website</th>\n",
       "      <th>Last_Notable_Activity_SMS Sent</th>\n",
       "      <th>Last_Notable_Activity_Unreachable</th>\n",
       "      <th>Last_Notable_Activity_Unsubscribed</th>\n",
       "    </tr>\n",
       "  </thead>\n",
       "  <tbody>\n",
       "    <tr>\n",
       "      <th>302</th>\n",
       "      <td>0</td>\n",
       "      <td>7.0</td>\n",
       "      <td>250</td>\n",
       "      <td>2.33</td>\n",
       "      <td>0</td>\n",
       "      <td>1</td>\n",
       "      <td>0</td>\n",
       "      <td>0</td>\n",
       "      <td>0</td>\n",
       "      <td>0</td>\n",
       "      <td>...</td>\n",
       "      <td>0</td>\n",
       "      <td>0</td>\n",
       "      <td>1</td>\n",
       "      <td>0</td>\n",
       "      <td>0</td>\n",
       "      <td>0</td>\n",
       "      <td>0</td>\n",
       "      <td>0</td>\n",
       "      <td>0</td>\n",
       "      <td>0</td>\n",
       "    </tr>\n",
       "    <tr>\n",
       "      <th>6087</th>\n",
       "      <td>1</td>\n",
       "      <td>0.0</td>\n",
       "      <td>0</td>\n",
       "      <td>0.00</td>\n",
       "      <td>0</td>\n",
       "      <td>1</td>\n",
       "      <td>0</td>\n",
       "      <td>0</td>\n",
       "      <td>0</td>\n",
       "      <td>0</td>\n",
       "      <td>...</td>\n",
       "      <td>0</td>\n",
       "      <td>0</td>\n",
       "      <td>0</td>\n",
       "      <td>0</td>\n",
       "      <td>1</td>\n",
       "      <td>0</td>\n",
       "      <td>0</td>\n",
       "      <td>0</td>\n",
       "      <td>0</td>\n",
       "      <td>0</td>\n",
       "    </tr>\n",
       "    <tr>\n",
       "      <th>1033</th>\n",
       "      <td>0</td>\n",
       "      <td>5.0</td>\n",
       "      <td>470</td>\n",
       "      <td>5.00</td>\n",
       "      <td>0</td>\n",
       "      <td>1</td>\n",
       "      <td>0</td>\n",
       "      <td>0</td>\n",
       "      <td>0</td>\n",
       "      <td>0</td>\n",
       "      <td>...</td>\n",
       "      <td>0</td>\n",
       "      <td>0</td>\n",
       "      <td>1</td>\n",
       "      <td>0</td>\n",
       "      <td>0</td>\n",
       "      <td>0</td>\n",
       "      <td>0</td>\n",
       "      <td>0</td>\n",
       "      <td>0</td>\n",
       "      <td>0</td>\n",
       "    </tr>\n",
       "    <tr>\n",
       "      <th>7656</th>\n",
       "      <td>1</td>\n",
       "      <td>6.0</td>\n",
       "      <td>352</td>\n",
       "      <td>6.00</td>\n",
       "      <td>1</td>\n",
       "      <td>0</td>\n",
       "      <td>1</td>\n",
       "      <td>0</td>\n",
       "      <td>0</td>\n",
       "      <td>1</td>\n",
       "      <td>...</td>\n",
       "      <td>0</td>\n",
       "      <td>0</td>\n",
       "      <td>0</td>\n",
       "      <td>0</td>\n",
       "      <td>0</td>\n",
       "      <td>0</td>\n",
       "      <td>0</td>\n",
       "      <td>1</td>\n",
       "      <td>0</td>\n",
       "      <td>0</td>\n",
       "    </tr>\n",
       "    <tr>\n",
       "      <th>3241</th>\n",
       "      <td>0</td>\n",
       "      <td>4.0</td>\n",
       "      <td>973</td>\n",
       "      <td>1.33</td>\n",
       "      <td>1</td>\n",
       "      <td>0</td>\n",
       "      <td>1</td>\n",
       "      <td>0</td>\n",
       "      <td>0</td>\n",
       "      <td>1</td>\n",
       "      <td>...</td>\n",
       "      <td>0</td>\n",
       "      <td>0</td>\n",
       "      <td>0</td>\n",
       "      <td>0</td>\n",
       "      <td>0</td>\n",
       "      <td>0</td>\n",
       "      <td>0</td>\n",
       "      <td>1</td>\n",
       "      <td>0</td>\n",
       "      <td>0</td>\n",
       "    </tr>\n",
       "  </tbody>\n",
       "</table>\n",
       "<p>5 rows × 56 columns</p>\n",
       "</div>"
      ],
      "text/plain": [
       "      Do Not Email  TotalVisits  Total Time Spent on Website  \\\n",
       "302              0          7.0                          250   \n",
       "6087             1          0.0                            0   \n",
       "1033             0          5.0                          470   \n",
       "7656             1          6.0                          352   \n",
       "3241             0          4.0                          973   \n",
       "\n",
       "      Page Views Per Visit  A free copy of Mastering The Interview  \\\n",
       "302                   2.33                                       0   \n",
       "6087                  0.00                                       0   \n",
       "1033                  5.00                                       0   \n",
       "7656                  6.00                                       1   \n",
       "3241                  1.33                                       1   \n",
       "\n",
       "      Lead_Origin_API  Lead_Origin_Landing Page Submission  \\\n",
       "302                 1                                    0   \n",
       "6087                1                                    0   \n",
       "1033                1                                    0   \n",
       "7656                0                                    1   \n",
       "3241                0                                    1   \n",
       "\n",
       "      Lead_Origin_Lead Add Form  Lead_Origin_Lead Import  \\\n",
       "302                           0                        0   \n",
       "6087                          0                        0   \n",
       "1033                          0                        0   \n",
       "7656                          0                        0   \n",
       "3241                          0                        0   \n",
       "\n",
       "      Lead_Source_Direct Traffic  ...  Last_Notable_Activity_Email Bounced  \\\n",
       "302                            0  ...                                    0   \n",
       "6087                           0  ...                                    0   \n",
       "1033                           0  ...                                    0   \n",
       "7656                           1  ...                                    0   \n",
       "3241                           1  ...                                    0   \n",
       "\n",
       "      Last_Notable_Activity_Email Link Clicked  \\\n",
       "302                                          0   \n",
       "6087                                         0   \n",
       "1033                                         0   \n",
       "7656                                         0   \n",
       "3241                                         0   \n",
       "\n",
       "      Last_Notable_Activity_Email Opened  \\\n",
       "302                                    1   \n",
       "6087                                   0   \n",
       "1033                                   1   \n",
       "7656                                   0   \n",
       "3241                                   0   \n",
       "\n",
       "      Last_Notable_Activity_Had a Phone Conversation  \\\n",
       "302                                                0   \n",
       "6087                                               0   \n",
       "1033                                               0   \n",
       "7656                                               0   \n",
       "3241                                               0   \n",
       "\n",
       "      Last_Notable_Activity_Modified  \\\n",
       "302                                0   \n",
       "6087                               1   \n",
       "1033                               0   \n",
       "7656                               0   \n",
       "3241                               0   \n",
       "\n",
       "      Last_Notable_Activity_Olark Chat Conversation  \\\n",
       "302                                               0   \n",
       "6087                                              0   \n",
       "1033                                              0   \n",
       "7656                                              0   \n",
       "3241                                              0   \n",
       "\n",
       "      Last_Notable_Activity_Page Visited on Website  \\\n",
       "302                                               0   \n",
       "6087                                              0   \n",
       "1033                                              0   \n",
       "7656                                              0   \n",
       "3241                                              0   \n",
       "\n",
       "      Last_Notable_Activity_SMS Sent  Last_Notable_Activity_Unreachable  \\\n",
       "302                                0                                  0   \n",
       "6087                               0                                  0   \n",
       "1033                               0                                  0   \n",
       "7656                               1                                  0   \n",
       "3241                               1                                  0   \n",
       "\n",
       "      Last_Notable_Activity_Unsubscribed  \n",
       "302                                    0  \n",
       "6087                                   0  \n",
       "1033                                   0  \n",
       "7656                                   0  \n",
       "3241                                   0  \n",
       "\n",
       "[5 rows x 56 columns]"
      ]
     },
     "execution_count": 117,
     "metadata": {},
     "output_type": "execute_result"
    }
   ],
   "source": [
    "# Checking head:\n",
    "X_train.head()"
   ]
  },
  {
   "cell_type": "markdown",
   "id": "cfa97cc0",
   "metadata": {},
   "source": [
    "### Feature Scaling:"
   ]
  },
  {
   "cell_type": "code",
   "execution_count": 119,
   "id": "d489063c",
   "metadata": {},
   "outputs": [
    {
     "data": {
      "text/html": [
       "<div>\n",
       "<style scoped>\n",
       "    .dataframe tbody tr th:only-of-type {\n",
       "        vertical-align: middle;\n",
       "    }\n",
       "\n",
       "    .dataframe tbody tr th {\n",
       "        vertical-align: top;\n",
       "    }\n",
       "\n",
       "    .dataframe thead th {\n",
       "        text-align: right;\n",
       "    }\n",
       "</style>\n",
       "<table border=\"1\" class=\"dataframe\">\n",
       "  <thead>\n",
       "    <tr style=\"text-align: right;\">\n",
       "      <th></th>\n",
       "      <th>Do Not Email</th>\n",
       "      <th>TotalVisits</th>\n",
       "      <th>Total Time Spent on Website</th>\n",
       "      <th>Page Views Per Visit</th>\n",
       "      <th>A free copy of Mastering The Interview</th>\n",
       "      <th>Lead_Origin_API</th>\n",
       "      <th>Lead_Origin_Landing Page Submission</th>\n",
       "      <th>Lead_Origin_Lead Add Form</th>\n",
       "      <th>Lead_Origin_Lead Import</th>\n",
       "      <th>Lead_Source_Direct Traffic</th>\n",
       "      <th>...</th>\n",
       "      <th>Last_Notable_Activity_Email Bounced</th>\n",
       "      <th>Last_Notable_Activity_Email Link Clicked</th>\n",
       "      <th>Last_Notable_Activity_Email Opened</th>\n",
       "      <th>Last_Notable_Activity_Had a Phone Conversation</th>\n",
       "      <th>Last_Notable_Activity_Modified</th>\n",
       "      <th>Last_Notable_Activity_Olark Chat Conversation</th>\n",
       "      <th>Last_Notable_Activity_Page Visited on Website</th>\n",
       "      <th>Last_Notable_Activity_SMS Sent</th>\n",
       "      <th>Last_Notable_Activity_Unreachable</th>\n",
       "      <th>Last_Notable_Activity_Unsubscribed</th>\n",
       "    </tr>\n",
       "  </thead>\n",
       "  <tbody>\n",
       "    <tr>\n",
       "      <th>302</th>\n",
       "      <td>0</td>\n",
       "      <td>1.336782</td>\n",
       "      <td>-0.428736</td>\n",
       "      <td>0.044021</td>\n",
       "      <td>0</td>\n",
       "      <td>1</td>\n",
       "      <td>0</td>\n",
       "      <td>0</td>\n",
       "      <td>0</td>\n",
       "      <td>0</td>\n",
       "      <td>...</td>\n",
       "      <td>0</td>\n",
       "      <td>0</td>\n",
       "      <td>1</td>\n",
       "      <td>0</td>\n",
       "      <td>0</td>\n",
       "      <td>0</td>\n",
       "      <td>0</td>\n",
       "      <td>0</td>\n",
       "      <td>0</td>\n",
       "      <td>0</td>\n",
       "    </tr>\n",
       "    <tr>\n",
       "      <th>6087</th>\n",
       "      <td>1</td>\n",
       "      <td>-1.094877</td>\n",
       "      <td>-0.887355</td>\n",
       "      <td>-1.206716</td>\n",
       "      <td>0</td>\n",
       "      <td>1</td>\n",
       "      <td>0</td>\n",
       "      <td>0</td>\n",
       "      <td>0</td>\n",
       "      <td>0</td>\n",
       "      <td>...</td>\n",
       "      <td>0</td>\n",
       "      <td>0</td>\n",
       "      <td>0</td>\n",
       "      <td>0</td>\n",
       "      <td>1</td>\n",
       "      <td>0</td>\n",
       "      <td>0</td>\n",
       "      <td>0</td>\n",
       "      <td>0</td>\n",
       "      <td>0</td>\n",
       "    </tr>\n",
       "    <tr>\n",
       "      <th>1033</th>\n",
       "      <td>0</td>\n",
       "      <td>0.642022</td>\n",
       "      <td>-0.025151</td>\n",
       "      <td>1.477269</td>\n",
       "      <td>0</td>\n",
       "      <td>1</td>\n",
       "      <td>0</td>\n",
       "      <td>0</td>\n",
       "      <td>0</td>\n",
       "      <td>0</td>\n",
       "      <td>...</td>\n",
       "      <td>0</td>\n",
       "      <td>0</td>\n",
       "      <td>1</td>\n",
       "      <td>0</td>\n",
       "      <td>0</td>\n",
       "      <td>0</td>\n",
       "      <td>0</td>\n",
       "      <td>0</td>\n",
       "      <td>0</td>\n",
       "      <td>0</td>\n",
       "    </tr>\n",
       "    <tr>\n",
       "      <th>7656</th>\n",
       "      <td>1</td>\n",
       "      <td>0.989402</td>\n",
       "      <td>-0.241619</td>\n",
       "      <td>2.014065</td>\n",
       "      <td>1</td>\n",
       "      <td>0</td>\n",
       "      <td>1</td>\n",
       "      <td>0</td>\n",
       "      <td>0</td>\n",
       "      <td>1</td>\n",
       "      <td>...</td>\n",
       "      <td>0</td>\n",
       "      <td>0</td>\n",
       "      <td>0</td>\n",
       "      <td>0</td>\n",
       "      <td>0</td>\n",
       "      <td>0</td>\n",
       "      <td>0</td>\n",
       "      <td>1</td>\n",
       "      <td>0</td>\n",
       "      <td>0</td>\n",
       "    </tr>\n",
       "    <tr>\n",
       "      <th>3241</th>\n",
       "      <td>0</td>\n",
       "      <td>0.294642</td>\n",
       "      <td>0.897591</td>\n",
       "      <td>-0.492776</td>\n",
       "      <td>1</td>\n",
       "      <td>0</td>\n",
       "      <td>1</td>\n",
       "      <td>0</td>\n",
       "      <td>0</td>\n",
       "      <td>1</td>\n",
       "      <td>...</td>\n",
       "      <td>0</td>\n",
       "      <td>0</td>\n",
       "      <td>0</td>\n",
       "      <td>0</td>\n",
       "      <td>0</td>\n",
       "      <td>0</td>\n",
       "      <td>0</td>\n",
       "      <td>1</td>\n",
       "      <td>0</td>\n",
       "      <td>0</td>\n",
       "    </tr>\n",
       "  </tbody>\n",
       "</table>\n",
       "<p>5 rows × 56 columns</p>\n",
       "</div>"
      ],
      "text/plain": [
       "      Do Not Email  TotalVisits  Total Time Spent on Website  \\\n",
       "302              0     1.336782                    -0.428736   \n",
       "6087             1    -1.094877                    -0.887355   \n",
       "1033             0     0.642022                    -0.025151   \n",
       "7656             1     0.989402                    -0.241619   \n",
       "3241             0     0.294642                     0.897591   \n",
       "\n",
       "      Page Views Per Visit  A free copy of Mastering The Interview  \\\n",
       "302               0.044021                                       0   \n",
       "6087             -1.206716                                       0   \n",
       "1033              1.477269                                       0   \n",
       "7656              2.014065                                       1   \n",
       "3241             -0.492776                                       1   \n",
       "\n",
       "      Lead_Origin_API  Lead_Origin_Landing Page Submission  \\\n",
       "302                 1                                    0   \n",
       "6087                1                                    0   \n",
       "1033                1                                    0   \n",
       "7656                0                                    1   \n",
       "3241                0                                    1   \n",
       "\n",
       "      Lead_Origin_Lead Add Form  Lead_Origin_Lead Import  \\\n",
       "302                           0                        0   \n",
       "6087                          0                        0   \n",
       "1033                          0                        0   \n",
       "7656                          0                        0   \n",
       "3241                          0                        0   \n",
       "\n",
       "      Lead_Source_Direct Traffic  ...  Last_Notable_Activity_Email Bounced  \\\n",
       "302                            0  ...                                    0   \n",
       "6087                           0  ...                                    0   \n",
       "1033                           0  ...                                    0   \n",
       "7656                           1  ...                                    0   \n",
       "3241                           1  ...                                    0   \n",
       "\n",
       "      Last_Notable_Activity_Email Link Clicked  \\\n",
       "302                                          0   \n",
       "6087                                         0   \n",
       "1033                                         0   \n",
       "7656                                         0   \n",
       "3241                                         0   \n",
       "\n",
       "      Last_Notable_Activity_Email Opened  \\\n",
       "302                                    1   \n",
       "6087                                   0   \n",
       "1033                                   1   \n",
       "7656                                   0   \n",
       "3241                                   0   \n",
       "\n",
       "      Last_Notable_Activity_Had a Phone Conversation  \\\n",
       "302                                                0   \n",
       "6087                                               0   \n",
       "1033                                               0   \n",
       "7656                                               0   \n",
       "3241                                               0   \n",
       "\n",
       "      Last_Notable_Activity_Modified  \\\n",
       "302                                0   \n",
       "6087                               1   \n",
       "1033                               0   \n",
       "7656                               0   \n",
       "3241                               0   \n",
       "\n",
       "      Last_Notable_Activity_Olark Chat Conversation  \\\n",
       "302                                               0   \n",
       "6087                                              0   \n",
       "1033                                              0   \n",
       "7656                                              0   \n",
       "3241                                              0   \n",
       "\n",
       "      Last_Notable_Activity_Page Visited on Website  \\\n",
       "302                                               0   \n",
       "6087                                              0   \n",
       "1033                                              0   \n",
       "7656                                              0   \n",
       "3241                                              0   \n",
       "\n",
       "      Last_Notable_Activity_SMS Sent  Last_Notable_Activity_Unreachable  \\\n",
       "302                                0                                  0   \n",
       "6087                               0                                  0   \n",
       "1033                               0                                  0   \n",
       "7656                               1                                  0   \n",
       "3241                               1                                  0   \n",
       "\n",
       "      Last_Notable_Activity_Unsubscribed  \n",
       "302                                    0  \n",
       "6087                                   0  \n",
       "1033                                   0  \n",
       "7656                                   0  \n",
       "3241                                   0  \n",
       "\n",
       "[5 rows x 56 columns]"
      ]
     },
     "execution_count": 119,
     "metadata": {},
     "output_type": "execute_result"
    }
   ],
   "source": [
    "# Scaling the Numerical variables\n",
    "scaler = StandardScaler()\n",
    "num_cols = ['TotalVisits', 'Total Time Spent on Website', 'Page Views Per Visit']\n",
    "\n",
    "X_train[num_cols] = scaler.fit_transform(X_train[num_cols])\n",
    "\n",
    "X_train.head()"
   ]
  },
  {
   "cell_type": "markdown",
   "id": "920585aa",
   "metadata": {},
   "source": [
    "### BUILDING OF MODEL:"
   ]
  },
  {
   "cell_type": "markdown",
   "id": "fd3b67ae",
   "metadata": {},
   "source": [
    "### MODEL 1:"
   ]
  },
  {
   "cell_type": "code",
   "execution_count": 121,
   "id": "7d3cb8ad",
   "metadata": {},
   "outputs": [
    {
     "data": {
      "text/html": [
       "<table class=\"simpletable\">\n",
       "<caption>Generalized Linear Model Regression Results</caption>\n",
       "<tr>\n",
       "  <th>Dep. Variable:</th>       <td>Converted</td>    <th>  No. Observations:  </th>  <td>  6363</td> \n",
       "</tr>\n",
       "<tr>\n",
       "  <th>Model:</th>                  <td>GLM</td>       <th>  Df Residuals:      </th>  <td>  6306</td> \n",
       "</tr>\n",
       "<tr>\n",
       "  <th>Model Family:</th>        <td>Binomial</td>     <th>  Df Model:          </th>  <td>    56</td> \n",
       "</tr>\n",
       "<tr>\n",
       "  <th>Link Function:</th>         <td>Logit</td>      <th>  Scale:             </th> <td>  1.0000</td>\n",
       "</tr>\n",
       "<tr>\n",
       "  <th>Method:</th>                <td>IRLS</td>       <th>  Log-Likelihood:    </th> <td> -1396.0</td>\n",
       "</tr>\n",
       "<tr>\n",
       "  <th>Date:</th>            <td>Sun, 18 Jun 2023</td> <th>  Deviance:          </th> <td>  2792.1</td>\n",
       "</tr>\n",
       "<tr>\n",
       "  <th>Time:</th>                <td>13:16:36</td>     <th>  Pearson chi2:      </th> <td>7.83e+03</td>\n",
       "</tr>\n",
       "<tr>\n",
       "  <th>No. Iterations:</th>         <td>21</td>        <th>  Pseudo R-squ. (CS):</th>  <td>0.5897</td> \n",
       "</tr>\n",
       "<tr>\n",
       "  <th>Covariance Type:</th>     <td>nonrobust</td>    <th>                     </th>     <td> </td>   \n",
       "</tr>\n",
       "</table>\n",
       "<table class=\"simpletable\">\n",
       "<tr>\n",
       "                          <td></td>                            <th>coef</th>     <th>std err</th>      <th>z</th>      <th>P>|z|</th>  <th>[0.025</th>    <th>0.975]</th>  \n",
       "</tr>\n",
       "<tr>\n",
       "  <th>const</th>                                            <td>   24.9297</td> <td> 4.82e+04</td> <td>    0.001</td> <td> 1.000</td> <td>-9.44e+04</td> <td> 9.45e+04</td>\n",
       "</tr>\n",
       "<tr>\n",
       "  <th>Do Not Email</th>                                     <td>   -1.3181</td> <td>    0.274</td> <td>   -4.810</td> <td> 0.000</td> <td>   -1.855</td> <td>   -0.781</td>\n",
       "</tr>\n",
       "<tr>\n",
       "  <th>TotalVisits</th>                                      <td>    0.2565</td> <td>    0.075</td> <td>    3.437</td> <td> 0.001</td> <td>    0.110</td> <td>    0.403</td>\n",
       "</tr>\n",
       "<tr>\n",
       "  <th>Total Time Spent on Website</th>                      <td>    1.0903</td> <td>    0.058</td> <td>   18.923</td> <td> 0.000</td> <td>    0.977</td> <td>    1.203</td>\n",
       "</tr>\n",
       "<tr>\n",
       "  <th>Page Views Per Visit</th>                             <td>   -0.3203</td> <td>    0.086</td> <td>   -3.728</td> <td> 0.000</td> <td>   -0.489</td> <td>   -0.152</td>\n",
       "</tr>\n",
       "<tr>\n",
       "  <th>A free copy of Mastering The Interview</th>           <td>   -0.0508</td> <td>    0.160</td> <td>   -0.317</td> <td> 0.751</td> <td>   -0.365</td> <td>    0.263</td>\n",
       "</tr>\n",
       "<tr>\n",
       "  <th>Lead_Origin_API</th>                                  <td>  -21.5220</td> <td> 4.82e+04</td> <td>   -0.000</td> <td> 1.000</td> <td>-9.45e+04</td> <td> 9.44e+04</td>\n",
       "</tr>\n",
       "<tr>\n",
       "  <th>Lead_Origin_Landing Page Submission</th>              <td>  -21.7238</td> <td> 4.82e+04</td> <td>   -0.000</td> <td> 1.000</td> <td>-9.45e+04</td> <td> 9.44e+04</td>\n",
       "</tr>\n",
       "<tr>\n",
       "  <th>Lead_Origin_Lead Add Form</th>                        <td>  -18.6824</td> <td> 4.82e+04</td> <td>   -0.000</td> <td> 1.000</td> <td>-9.45e+04</td> <td> 9.44e+04</td>\n",
       "</tr>\n",
       "<tr>\n",
       "  <th>Lead_Origin_Lead Import</th>                          <td>  -22.0839</td> <td> 4.82e+04</td> <td>   -0.000</td> <td> 1.000</td> <td>-9.45e+04</td> <td> 9.44e+04</td>\n",
       "</tr>\n",
       "<tr>\n",
       "  <th>Lead_Source_Direct Traffic</th>                       <td>   -0.2803</td> <td>    0.977</td> <td>   -0.287</td> <td> 0.774</td> <td>   -2.194</td> <td>    1.634</td>\n",
       "</tr>\n",
       "<tr>\n",
       "  <th>Lead_Source_Google</th>                               <td>   -0.2599</td> <td>    0.971</td> <td>   -0.268</td> <td> 0.789</td> <td>   -2.162</td> <td>    1.642</td>\n",
       "</tr>\n",
       "<tr>\n",
       "  <th>Lead_Source_Olark Chat</th>                           <td>    0.6084</td> <td>    0.984</td> <td>    0.618</td> <td> 0.537</td> <td>   -1.321</td> <td>    2.538</td>\n",
       "</tr>\n",
       "<tr>\n",
       "  <th>Lead_Source_Organic Search</th>                       <td>   -0.6874</td> <td>    0.983</td> <td>   -0.699</td> <td> 0.484</td> <td>   -2.613</td> <td>    1.239</td>\n",
       "</tr>\n",
       "<tr>\n",
       "  <th>Lead_Source_Reference</th>                            <td>   -1.8597</td> <td>    1.406</td> <td>   -1.323</td> <td> 0.186</td> <td>   -4.616</td> <td>    0.896</td>\n",
       "</tr>\n",
       "<tr>\n",
       "  <th>Lead_Source_Referral Sites</th>                       <td>   -0.1365</td> <td>    1.068</td> <td>   -0.128</td> <td> 0.898</td> <td>   -2.230</td> <td>    1.957</td>\n",
       "</tr>\n",
       "<tr>\n",
       "  <th>Lead_Source_Welingak Website</th>                     <td>    2.1128</td> <td>    1.704</td> <td>    1.240</td> <td> 0.215</td> <td>   -1.227</td> <td>    5.453</td>\n",
       "</tr>\n",
       "<tr>\n",
       "  <th>Last_Activity_Converted to Lead</th>                  <td>   -0.0869</td> <td>    0.634</td> <td>   -0.137</td> <td> 0.891</td> <td>   -1.329</td> <td>    1.156</td>\n",
       "</tr>\n",
       "<tr>\n",
       "  <th>Last_Activity_Email Bounced</th>                      <td>   -0.7442</td> <td>    0.817</td> <td>   -0.911</td> <td> 0.362</td> <td>   -2.346</td> <td>    0.857</td>\n",
       "</tr>\n",
       "<tr>\n",
       "  <th>Last_Activity_Email Link Clicked</th>                 <td>    0.1920</td> <td>    0.780</td> <td>    0.246</td> <td> 0.805</td> <td>   -1.336</td> <td>    1.720</td>\n",
       "</tr>\n",
       "<tr>\n",
       "  <th>Last_Activity_Email Opened</th>                       <td>    0.6941</td> <td>    0.600</td> <td>    1.158</td> <td> 0.247</td> <td>   -0.481</td> <td>    1.869</td>\n",
       "</tr>\n",
       "<tr>\n",
       "  <th>Last_Activity_Form Submitted on Website</th>          <td>    0.3245</td> <td>    0.696</td> <td>    0.466</td> <td> 0.641</td> <td>   -1.040</td> <td>    1.689</td>\n",
       "</tr>\n",
       "<tr>\n",
       "  <th>Last_Activity_Olark Chat Conversation</th>            <td>   -0.4324</td> <td>    0.617</td> <td>   -0.700</td> <td> 0.484</td> <td>   -1.642</td> <td>    0.777</td>\n",
       "</tr>\n",
       "<tr>\n",
       "  <th>Last_Activity_Page Visited on Website</th>            <td>   -0.3773</td> <td>    0.662</td> <td>   -0.570</td> <td> 0.569</td> <td>   -1.675</td> <td>    0.920</td>\n",
       "</tr>\n",
       "<tr>\n",
       "  <th>Last_Activity_SMS Sent</th>                           <td>    1.2008</td> <td>    0.597</td> <td>    2.013</td> <td> 0.044</td> <td>    0.032</td> <td>    2.370</td>\n",
       "</tr>\n",
       "<tr>\n",
       "  <th>Specialization_Banking, Investment And Insurance</th> <td>    0.0955</td> <td>    0.330</td> <td>    0.289</td> <td> 0.772</td> <td>   -0.551</td> <td>    0.742</td>\n",
       "</tr>\n",
       "<tr>\n",
       "  <th>Specialization_Business Administration</th>           <td>    0.0408</td> <td>    0.302</td> <td>    0.135</td> <td> 0.893</td> <td>   -0.551</td> <td>    0.632</td>\n",
       "</tr>\n",
       "<tr>\n",
       "  <th>Specialization_E-Business</th>                        <td>    0.2239</td> <td>    0.585</td> <td>    0.383</td> <td> 0.702</td> <td>   -0.922</td> <td>    1.370</td>\n",
       "</tr>\n",
       "<tr>\n",
       "  <th>Specialization_E-COMMERCE</th>                        <td>    0.7222</td> <td>    0.476</td> <td>    1.516</td> <td> 0.130</td> <td>   -0.212</td> <td>    1.656</td>\n",
       "</tr>\n",
       "<tr>\n",
       "  <th>Specialization_International Business</th>            <td>   -0.1461</td> <td>    0.407</td> <td>   -0.359</td> <td> 0.720</td> <td>   -0.944</td> <td>    0.652</td>\n",
       "</tr>\n",
       "<tr>\n",
       "  <th>Specialization_Management Specializations</th>        <td>    0.0460</td> <td>    0.206</td> <td>    0.224</td> <td> 0.823</td> <td>   -0.357</td> <td>    0.449</td>\n",
       "</tr>\n",
       "<tr>\n",
       "  <th>Specialization_Media and Advertising</th>             <td>   -0.0126</td> <td>    0.404</td> <td>   -0.031</td> <td> 0.975</td> <td>   -0.804</td> <td>    0.779</td>\n",
       "</tr>\n",
       "<tr>\n",
       "  <th>Specialization_Rural and Agribusiness</th>            <td>    0.3045</td> <td>    0.628</td> <td>    0.485</td> <td> 0.628</td> <td>   -0.926</td> <td>    1.535</td>\n",
       "</tr>\n",
       "<tr>\n",
       "  <th>Specialization_Services Excellence</th>               <td>   -0.2879</td> <td>    0.782</td> <td>   -0.368</td> <td> 0.713</td> <td>   -1.820</td> <td>    1.244</td>\n",
       "</tr>\n",
       "<tr>\n",
       "  <th>Specialization_Travel and Tourism</th>                <td>   -0.7002</td> <td>    0.460</td> <td>   -1.521</td> <td> 0.128</td> <td>   -1.602</td> <td>    0.202</td>\n",
       "</tr>\n",
       "<tr>\n",
       "  <th>Occupation_Not Specified</th>                         <td>   -2.5935</td> <td>    0.853</td> <td>   -3.041</td> <td> 0.002</td> <td>   -4.265</td> <td>   -0.922</td>\n",
       "</tr>\n",
       "<tr>\n",
       "  <th>Occupation_Student</th>                               <td>   -0.6178</td> <td>    0.963</td> <td>   -0.641</td> <td> 0.521</td> <td>   -2.506</td> <td>    1.270</td>\n",
       "</tr>\n",
       "<tr>\n",
       "  <th>Occupation_Unemployed</th>                            <td>   -0.8511</td> <td>    0.845</td> <td>   -1.007</td> <td> 0.314</td> <td>   -2.508</td> <td>    0.806</td>\n",
       "</tr>\n",
       "<tr>\n",
       "  <th>Occupation_Working Professional</th>                  <td>   -0.1055</td> <td>    0.889</td> <td>   -0.119</td> <td> 0.906</td> <td>   -1.847</td> <td>    1.636</td>\n",
       "</tr>\n",
       "<tr>\n",
       "  <th>Tags_Already a student</th>                           <td>   -4.4545</td> <td>    0.619</td> <td>   -7.200</td> <td> 0.000</td> <td>   -5.667</td> <td>   -3.242</td>\n",
       "</tr>\n",
       "<tr>\n",
       "  <th>Tags_Closed by Horizzon</th>                          <td>    4.7137</td> <td>    0.748</td> <td>    6.299</td> <td> 0.000</td> <td>    3.247</td> <td>    6.180</td>\n",
       "</tr>\n",
       "<tr>\n",
       "  <th>Tags_Interested in Next batch</th>                    <td>   20.6584</td> <td> 2.57e+04</td> <td>    0.001</td> <td> 0.999</td> <td>-5.04e+04</td> <td> 5.04e+04</td>\n",
       "</tr>\n",
       "<tr>\n",
       "  <th>Tags_Interested in other courses</th>                 <td>   -3.6463</td> <td>    0.428</td> <td>   -8.519</td> <td> 0.000</td> <td>   -4.485</td> <td>   -2.807</td>\n",
       "</tr>\n",
       "<tr>\n",
       "  <th>Tags_Other Tags</th>                                  <td>   -1.0817</td> <td>    0.161</td> <td>   -6.729</td> <td> 0.000</td> <td>   -1.397</td> <td>   -0.767</td>\n",
       "</tr>\n",
       "<tr>\n",
       "  <th>Tags_Ringing</th>                                     <td>   -4.2476</td> <td>    0.258</td> <td>  -16.453</td> <td> 0.000</td> <td>   -4.754</td> <td>   -3.742</td>\n",
       "</tr>\n",
       "<tr>\n",
       "  <th>Tags_Still Thinking</th>                              <td>   -1.5659</td> <td>    1.473</td> <td>   -1.063</td> <td> 0.288</td> <td>   -4.453</td> <td>    1.321</td>\n",
       "</tr>\n",
       "<tr>\n",
       "  <th>Tags_Will revert after reading the email</th>         <td>    2.8619</td> <td>    0.211</td> <td>   13.580</td> <td> 0.000</td> <td>    2.449</td> <td>    3.275</td>\n",
       "</tr>\n",
       "<tr>\n",
       "  <th>Last_Notable_Activity_Email Bounced</th>              <td>   -2.6051</td> <td>    1.732</td> <td>   -1.504</td> <td> 0.132</td> <td>   -5.999</td> <td>    0.789</td>\n",
       "</tr>\n",
       "<tr>\n",
       "  <th>Last_Notable_Activity_Email Link Clicked</th>         <td>   -3.1443</td> <td>    1.547</td> <td>   -2.033</td> <td> 0.042</td> <td>   -6.176</td> <td>   -0.112</td>\n",
       "</tr>\n",
       "<tr>\n",
       "  <th>Last_Notable_Activity_Email Opened</th>               <td>   -3.2647</td> <td>    1.427</td> <td>   -2.287</td> <td> 0.022</td> <td>   -6.063</td> <td>   -0.467</td>\n",
       "</tr>\n",
       "<tr>\n",
       "  <th>Last_Notable_Activity_Had a Phone Conversation</th>   <td>   17.2241</td> <td> 1.53e+04</td> <td>    0.001</td> <td> 0.999</td> <td>   -3e+04</td> <td>    3e+04</td>\n",
       "</tr>\n",
       "<tr>\n",
       "  <th>Last_Notable_Activity_Modified</th>                   <td>   -3.4084</td> <td>    1.413</td> <td>   -2.413</td> <td> 0.016</td> <td>   -6.177</td> <td>   -0.640</td>\n",
       "</tr>\n",
       "<tr>\n",
       "  <th>Last_Notable_Activity_Olark Chat Conversation</th>    <td>   -3.6409</td> <td>    1.484</td> <td>   -2.454</td> <td> 0.014</td> <td>   -6.549</td> <td>   -0.733</td>\n",
       "</tr>\n",
       "<tr>\n",
       "  <th>Last_Notable_Activity_Page Visited on Website</th>    <td>   -2.5647</td> <td>    1.478</td> <td>   -1.736</td> <td> 0.083</td> <td>   -5.461</td> <td>    0.331</td>\n",
       "</tr>\n",
       "<tr>\n",
       "  <th>Last_Notable_Activity_SMS Sent</th>                   <td>   -1.9765</td> <td>    1.427</td> <td>   -1.385</td> <td> 0.166</td> <td>   -4.774</td> <td>    0.821</td>\n",
       "</tr>\n",
       "<tr>\n",
       "  <th>Last_Notable_Activity_Unreachable</th>                <td>   -1.1156</td> <td>    1.640</td> <td>   -0.680</td> <td> 0.496</td> <td>   -4.330</td> <td>    2.099</td>\n",
       "</tr>\n",
       "<tr>\n",
       "  <th>Last_Notable_Activity_Unsubscribed</th>               <td>   -1.4697</td> <td>    1.599</td> <td>   -0.919</td> <td> 0.358</td> <td>   -4.604</td> <td>    1.665</td>\n",
       "</tr>\n",
       "</table>"
      ],
      "text/plain": [
       "<class 'statsmodels.iolib.summary.Summary'>\n",
       "\"\"\"\n",
       "                 Generalized Linear Model Regression Results                  \n",
       "==============================================================================\n",
       "Dep. Variable:              Converted   No. Observations:                 6363\n",
       "Model:                            GLM   Df Residuals:                     6306\n",
       "Model Family:                Binomial   Df Model:                           56\n",
       "Link Function:                  Logit   Scale:                          1.0000\n",
       "Method:                          IRLS   Log-Likelihood:                -1396.0\n",
       "Date:                Sun, 18 Jun 2023   Deviance:                       2792.1\n",
       "Time:                        13:16:36   Pearson chi2:                 7.83e+03\n",
       "No. Iterations:                    21   Pseudo R-squ. (CS):             0.5897\n",
       "Covariance Type:            nonrobust                                         \n",
       "====================================================================================================================\n",
       "                                                       coef    std err          z      P>|z|      [0.025      0.975]\n",
       "--------------------------------------------------------------------------------------------------------------------\n",
       "const                                               24.9297   4.82e+04      0.001      1.000   -9.44e+04    9.45e+04\n",
       "Do Not Email                                        -1.3181      0.274     -4.810      0.000      -1.855      -0.781\n",
       "TotalVisits                                          0.2565      0.075      3.437      0.001       0.110       0.403\n",
       "Total Time Spent on Website                          1.0903      0.058     18.923      0.000       0.977       1.203\n",
       "Page Views Per Visit                                -0.3203      0.086     -3.728      0.000      -0.489      -0.152\n",
       "A free copy of Mastering The Interview              -0.0508      0.160     -0.317      0.751      -0.365       0.263\n",
       "Lead_Origin_API                                    -21.5220   4.82e+04     -0.000      1.000   -9.45e+04    9.44e+04\n",
       "Lead_Origin_Landing Page Submission                -21.7238   4.82e+04     -0.000      1.000   -9.45e+04    9.44e+04\n",
       "Lead_Origin_Lead Add Form                          -18.6824   4.82e+04     -0.000      1.000   -9.45e+04    9.44e+04\n",
       "Lead_Origin_Lead Import                            -22.0839   4.82e+04     -0.000      1.000   -9.45e+04    9.44e+04\n",
       "Lead_Source_Direct Traffic                          -0.2803      0.977     -0.287      0.774      -2.194       1.634\n",
       "Lead_Source_Google                                  -0.2599      0.971     -0.268      0.789      -2.162       1.642\n",
       "Lead_Source_Olark Chat                               0.6084      0.984      0.618      0.537      -1.321       2.538\n",
       "Lead_Source_Organic Search                          -0.6874      0.983     -0.699      0.484      -2.613       1.239\n",
       "Lead_Source_Reference                               -1.8597      1.406     -1.323      0.186      -4.616       0.896\n",
       "Lead_Source_Referral Sites                          -0.1365      1.068     -0.128      0.898      -2.230       1.957\n",
       "Lead_Source_Welingak Website                         2.1128      1.704      1.240      0.215      -1.227       5.453\n",
       "Last_Activity_Converted to Lead                     -0.0869      0.634     -0.137      0.891      -1.329       1.156\n",
       "Last_Activity_Email Bounced                         -0.7442      0.817     -0.911      0.362      -2.346       0.857\n",
       "Last_Activity_Email Link Clicked                     0.1920      0.780      0.246      0.805      -1.336       1.720\n",
       "Last_Activity_Email Opened                           0.6941      0.600      1.158      0.247      -0.481       1.869\n",
       "Last_Activity_Form Submitted on Website              0.3245      0.696      0.466      0.641      -1.040       1.689\n",
       "Last_Activity_Olark Chat Conversation               -0.4324      0.617     -0.700      0.484      -1.642       0.777\n",
       "Last_Activity_Page Visited on Website               -0.3773      0.662     -0.570      0.569      -1.675       0.920\n",
       "Last_Activity_SMS Sent                               1.2008      0.597      2.013      0.044       0.032       2.370\n",
       "Specialization_Banking, Investment And Insurance     0.0955      0.330      0.289      0.772      -0.551       0.742\n",
       "Specialization_Business Administration               0.0408      0.302      0.135      0.893      -0.551       0.632\n",
       "Specialization_E-Business                            0.2239      0.585      0.383      0.702      -0.922       1.370\n",
       "Specialization_E-COMMERCE                            0.7222      0.476      1.516      0.130      -0.212       1.656\n",
       "Specialization_International Business               -0.1461      0.407     -0.359      0.720      -0.944       0.652\n",
       "Specialization_Management Specializations            0.0460      0.206      0.224      0.823      -0.357       0.449\n",
       "Specialization_Media and Advertising                -0.0126      0.404     -0.031      0.975      -0.804       0.779\n",
       "Specialization_Rural and Agribusiness                0.3045      0.628      0.485      0.628      -0.926       1.535\n",
       "Specialization_Services Excellence                  -0.2879      0.782     -0.368      0.713      -1.820       1.244\n",
       "Specialization_Travel and Tourism                   -0.7002      0.460     -1.521      0.128      -1.602       0.202\n",
       "Occupation_Not Specified                            -2.5935      0.853     -3.041      0.002      -4.265      -0.922\n",
       "Occupation_Student                                  -0.6178      0.963     -0.641      0.521      -2.506       1.270\n",
       "Occupation_Unemployed                               -0.8511      0.845     -1.007      0.314      -2.508       0.806\n",
       "Occupation_Working Professional                     -0.1055      0.889     -0.119      0.906      -1.847       1.636\n",
       "Tags_Already a student                              -4.4545      0.619     -7.200      0.000      -5.667      -3.242\n",
       "Tags_Closed by Horizzon                              4.7137      0.748      6.299      0.000       3.247       6.180\n",
       "Tags_Interested in Next batch                       20.6584   2.57e+04      0.001      0.999   -5.04e+04    5.04e+04\n",
       "Tags_Interested in other courses                    -3.6463      0.428     -8.519      0.000      -4.485      -2.807\n",
       "Tags_Other Tags                                     -1.0817      0.161     -6.729      0.000      -1.397      -0.767\n",
       "Tags_Ringing                                        -4.2476      0.258    -16.453      0.000      -4.754      -3.742\n",
       "Tags_Still Thinking                                 -1.5659      1.473     -1.063      0.288      -4.453       1.321\n",
       "Tags_Will revert after reading the email             2.8619      0.211     13.580      0.000       2.449       3.275\n",
       "Last_Notable_Activity_Email Bounced                 -2.6051      1.732     -1.504      0.132      -5.999       0.789\n",
       "Last_Notable_Activity_Email Link Clicked            -3.1443      1.547     -2.033      0.042      -6.176      -0.112\n",
       "Last_Notable_Activity_Email Opened                  -3.2647      1.427     -2.287      0.022      -6.063      -0.467\n",
       "Last_Notable_Activity_Had a Phone Conversation      17.2241   1.53e+04      0.001      0.999      -3e+04       3e+04\n",
       "Last_Notable_Activity_Modified                      -3.4084      1.413     -2.413      0.016      -6.177      -0.640\n",
       "Last_Notable_Activity_Olark Chat Conversation       -3.6409      1.484     -2.454      0.014      -6.549      -0.733\n",
       "Last_Notable_Activity_Page Visited on Website       -2.5647      1.478     -1.736      0.083      -5.461       0.331\n",
       "Last_Notable_Activity_SMS Sent                      -1.9765      1.427     -1.385      0.166      -4.774       0.821\n",
       "Last_Notable_Activity_Unreachable                   -1.1156      1.640     -0.680      0.496      -4.330       2.099\n",
       "Last_Notable_Activity_Unsubscribed                  -1.4697      1.599     -0.919      0.358      -4.604       1.665\n",
       "====================================================================================================================\n",
       "\"\"\""
      ]
     },
     "execution_count": 121,
     "metadata": {},
     "output_type": "execute_result"
    }
   ],
   "source": [
    "# Model building using statsmodels\n",
    "\n",
    "# Logistic regression model\n",
    "logm1 = sm.GLM(y_train,(sm.add_constant(X_train)), family = sm.families.Binomial())\n",
    "logm1.fit().summary()"
   ]
  },
  {
   "cell_type": "markdown",
   "id": "3d81c018",
   "metadata": {},
   "source": [
    "### Feature Selection Using RFE:"
   ]
  },
  {
   "cell_type": "code",
   "execution_count": 123,
   "id": "fa5d0125",
   "metadata": {},
   "outputs": [],
   "source": [
    "# Logistic Regression\n",
    "logreg = LogisticRegression()\n",
    "\n",
    "rfe = RFE(logreg,n_features_to_select =20)             \n",
    "rfe = rfe.fit(X_train, y_train)"
   ]
  },
  {
   "cell_type": "code",
   "execution_count": 124,
   "id": "0b378d4e",
   "metadata": {},
   "outputs": [
    {
     "data": {
      "text/plain": [
       "[('Do Not Email', True, 1),\n",
       " ('TotalVisits', False, 20),\n",
       " ('Total Time Spent on Website', True, 1),\n",
       " ('Page Views Per Visit', False, 19),\n",
       " ('A free copy of Mastering The Interview', False, 34),\n",
       " ('Lead_Origin_API', False, 9),\n",
       " ('Lead_Origin_Landing Page Submission', False, 8),\n",
       " ('Lead_Origin_Lead Add Form', True, 1),\n",
       " ('Lead_Origin_Lead Import', False, 10),\n",
       " ('Lead_Source_Direct Traffic', False, 26),\n",
       " ('Lead_Source_Google', False, 27),\n",
       " ('Lead_Source_Olark Chat', True, 1),\n",
       " ('Lead_Source_Organic Search', False, 13),\n",
       " ('Lead_Source_Reference', False, 5),\n",
       " ('Lead_Source_Referral Sites', False, 28),\n",
       " ('Lead_Source_Welingak Website', True, 1),\n",
       " ('Last_Activity_Converted to Lead', False, 6),\n",
       " ('Last_Activity_Email Bounced', True, 1),\n",
       " ('Last_Activity_Email Link Clicked', False, 24),\n",
       " ('Last_Activity_Email Opened', False, 15),\n",
       " ('Last_Activity_Form Submitted on Website', False, 21),\n",
       " ('Last_Activity_Olark Chat Conversation', True, 1),\n",
       " ('Last_Activity_Page Visited on Website', True, 1),\n",
       " ('Last_Activity_SMS Sent', True, 1),\n",
       " ('Specialization_Banking, Investment And Insurance', False, 29),\n",
       " ('Specialization_Business Administration', False, 37),\n",
       " ('Specialization_E-Business', False, 25),\n",
       " ('Specialization_E-COMMERCE', False, 11),\n",
       " ('Specialization_International Business', False, 22),\n",
       " ('Specialization_Management Specializations', False, 36),\n",
       " ('Specialization_Media and Advertising', False, 33),\n",
       " ('Specialization_Rural and Agribusiness', False, 23),\n",
       " ('Specialization_Services Excellence', False, 18),\n",
       " ('Specialization_Travel and Tourism', True, 1),\n",
       " ('Occupation_Not Specified', True, 1),\n",
       " ('Occupation_Student', False, 35),\n",
       " ('Occupation_Unemployed', False, 32),\n",
       " ('Occupation_Working Professional', False, 3),\n",
       " ('Tags_Already a student', True, 1),\n",
       " ('Tags_Closed by Horizzon', True, 1),\n",
       " ('Tags_Interested in Next batch', False, 16),\n",
       " ('Tags_Interested in other courses', True, 1),\n",
       " ('Tags_Other Tags', True, 1),\n",
       " ('Tags_Ringing', True, 1),\n",
       " ('Tags_Still Thinking', False, 4),\n",
       " ('Tags_Will revert after reading the email', True, 1),\n",
       " ('Last_Notable_Activity_Email Bounced', False, 31),\n",
       " ('Last_Notable_Activity_Email Link Clicked', True, 1),\n",
       " ('Last_Notable_Activity_Email Opened', False, 2),\n",
       " ('Last_Notable_Activity_Had a Phone Conversation', False, 17),\n",
       " ('Last_Notable_Activity_Modified', True, 1),\n",
       " ('Last_Notable_Activity_Olark Chat Conversation', True, 1),\n",
       " ('Last_Notable_Activity_Page Visited on Website', False, 30),\n",
       " ('Last_Notable_Activity_SMS Sent', False, 7),\n",
       " ('Last_Notable_Activity_Unreachable', False, 12),\n",
       " ('Last_Notable_Activity_Unsubscribed', False, 14)]"
      ]
     },
     "execution_count": 124,
     "metadata": {},
     "output_type": "execute_result"
    }
   ],
   "source": [
    "list(zip(X_train.columns, rfe.support_, rfe.ranking_))"
   ]
  },
  {
   "cell_type": "code",
   "execution_count": 125,
   "id": "0f7ecdf7",
   "metadata": {},
   "outputs": [
    {
     "data": {
      "text/plain": [
       "Index(['Do Not Email', 'Total Time Spent on Website',\n",
       "       'Lead_Origin_Lead Add Form', 'Lead_Source_Olark Chat',\n",
       "       'Lead_Source_Welingak Website', 'Last_Activity_Email Bounced',\n",
       "       'Last_Activity_Olark Chat Conversation',\n",
       "       'Last_Activity_Page Visited on Website', 'Last_Activity_SMS Sent',\n",
       "       'Specialization_Travel and Tourism', 'Occupation_Not Specified',\n",
       "       'Tags_Already a student', 'Tags_Closed by Horizzon',\n",
       "       'Tags_Interested in other courses', 'Tags_Other Tags', 'Tags_Ringing',\n",
       "       'Tags_Will revert after reading the email',\n",
       "       'Last_Notable_Activity_Email Link Clicked',\n",
       "       'Last_Notable_Activity_Modified',\n",
       "       'Last_Notable_Activity_Olark Chat Conversation'],\n",
       "      dtype='object')"
      ]
     },
     "execution_count": 125,
     "metadata": {},
     "output_type": "execute_result"
    }
   ],
   "source": [
    "# Selected Variables\n",
    "col = X_train.columns[rfe.support_]\n",
    "col"
   ]
  },
  {
   "cell_type": "code",
   "execution_count": 126,
   "id": "4ec69aa5",
   "metadata": {},
   "outputs": [
    {
     "data": {
      "text/plain": [
       "Index(['TotalVisits', 'Page Views Per Visit',\n",
       "       'A free copy of Mastering The Interview', 'Lead_Origin_API',\n",
       "       'Lead_Origin_Landing Page Submission', 'Lead_Origin_Lead Import',\n",
       "       'Lead_Source_Direct Traffic', 'Lead_Source_Google',\n",
       "       'Lead_Source_Organic Search', 'Lead_Source_Reference',\n",
       "       'Lead_Source_Referral Sites', 'Last_Activity_Converted to Lead',\n",
       "       'Last_Activity_Email Link Clicked', 'Last_Activity_Email Opened',\n",
       "       'Last_Activity_Form Submitted on Website',\n",
       "       'Specialization_Banking, Investment And Insurance',\n",
       "       'Specialization_Business Administration', 'Specialization_E-Business',\n",
       "       'Specialization_E-COMMERCE', 'Specialization_International Business',\n",
       "       'Specialization_Management Specializations',\n",
       "       'Specialization_Media and Advertising',\n",
       "       'Specialization_Rural and Agribusiness',\n",
       "       'Specialization_Services Excellence', 'Occupation_Student',\n",
       "       'Occupation_Unemployed', 'Occupation_Working Professional',\n",
       "       'Tags_Interested in Next batch', 'Tags_Still Thinking',\n",
       "       'Last_Notable_Activity_Email Bounced',\n",
       "       'Last_Notable_Activity_Email Opened',\n",
       "       'Last_Notable_Activity_Had a Phone Conversation',\n",
       "       'Last_Notable_Activity_Page Visited on Website',\n",
       "       'Last_Notable_Activity_SMS Sent', 'Last_Notable_Activity_Unreachable',\n",
       "       'Last_Notable_Activity_Unsubscribed'],\n",
       "      dtype='object')"
      ]
     },
     "execution_count": 126,
     "metadata": {},
     "output_type": "execute_result"
    }
   ],
   "source": [
    "X_train.columns[~rfe.support_]"
   ]
  },
  {
   "cell_type": "markdown",
   "id": "80fe9ae0",
   "metadata": {},
   "source": [
    "### MODEL 2:"
   ]
  },
  {
   "cell_type": "code",
   "execution_count": 127,
   "id": "42eb8ac6",
   "metadata": {},
   "outputs": [
    {
     "data": {
      "text/html": [
       "<table class=\"simpletable\">\n",
       "<caption>Generalized Linear Model Regression Results</caption>\n",
       "<tr>\n",
       "  <th>Dep. Variable:</th>       <td>Converted</td>    <th>  No. Observations:  </th>  <td>  6363</td> \n",
       "</tr>\n",
       "<tr>\n",
       "  <th>Model:</th>                  <td>GLM</td>       <th>  Df Residuals:      </th>  <td>  6342</td> \n",
       "</tr>\n",
       "<tr>\n",
       "  <th>Model Family:</th>        <td>Binomial</td>     <th>  Df Model:          </th>  <td>    20</td> \n",
       "</tr>\n",
       "<tr>\n",
       "  <th>Link Function:</th>         <td>Logit</td>      <th>  Scale:             </th> <td>  1.0000</td>\n",
       "</tr>\n",
       "<tr>\n",
       "  <th>Method:</th>                <td>IRLS</td>       <th>  Log-Likelihood:    </th> <td> -1431.8</td>\n",
       "</tr>\n",
       "<tr>\n",
       "  <th>Date:</th>            <td>Sun, 18 Jun 2023</td> <th>  Deviance:          </th> <td>  2863.6</td>\n",
       "</tr>\n",
       "<tr>\n",
       "  <th>Time:</th>                <td>13:16:39</td>     <th>  Pearson chi2:      </th> <td>7.20e+03</td>\n",
       "</tr>\n",
       "<tr>\n",
       "  <th>No. Iterations:</th>          <td>8</td>        <th>  Pseudo R-squ. (CS):</th>  <td>0.5851</td> \n",
       "</tr>\n",
       "<tr>\n",
       "  <th>Covariance Type:</th>     <td>nonrobust</td>    <th>                     </th>     <td> </td>   \n",
       "</tr>\n",
       "</table>\n",
       "<table class=\"simpletable\">\n",
       "<tr>\n",
       "                        <td></td>                           <th>coef</th>     <th>std err</th>      <th>z</th>      <th>P>|z|</th>  <th>[0.025</th>    <th>0.975]</th>  \n",
       "</tr>\n",
       "<tr>\n",
       "  <th>const</th>                                         <td>   -0.3124</td> <td>    0.137</td> <td>   -2.285</td> <td> 0.022</td> <td>   -0.580</td> <td>   -0.044</td>\n",
       "</tr>\n",
       "<tr>\n",
       "  <th>Do Not Email</th>                                  <td>   -1.2051</td> <td>    0.247</td> <td>   -4.871</td> <td> 0.000</td> <td>   -1.690</td> <td>   -0.720</td>\n",
       "</tr>\n",
       "<tr>\n",
       "  <th>Total Time Spent on Website</th>                   <td>    1.0898</td> <td>    0.056</td> <td>   19.569</td> <td> 0.000</td> <td>    0.981</td> <td>    1.199</td>\n",
       "</tr>\n",
       "<tr>\n",
       "  <th>Lead_Origin_Lead Add Form</th>                     <td>    1.9366</td> <td>    0.329</td> <td>    5.895</td> <td> 0.000</td> <td>    1.293</td> <td>    2.581</td>\n",
       "</tr>\n",
       "<tr>\n",
       "  <th>Lead_Source_Olark Chat</th>                        <td>    1.1974</td> <td>    0.144</td> <td>    8.308</td> <td> 0.000</td> <td>    0.915</td> <td>    1.480</td>\n",
       "</tr>\n",
       "<tr>\n",
       "  <th>Lead_Source_Welingak Website</th>                  <td>    3.5764</td> <td>    1.072</td> <td>    3.335</td> <td> 0.001</td> <td>    1.475</td> <td>    5.678</td>\n",
       "</tr>\n",
       "<tr>\n",
       "  <th>Last_Activity_Email Bounced</th>                   <td>   -0.9151</td> <td>    0.498</td> <td>   -1.839</td> <td> 0.066</td> <td>   -1.891</td> <td>    0.060</td>\n",
       "</tr>\n",
       "<tr>\n",
       "  <th>Last_Activity_Olark Chat Conversation</th>         <td>   -0.5137</td> <td>    0.254</td> <td>   -2.026</td> <td> 0.043</td> <td>   -1.011</td> <td>   -0.017</td>\n",
       "</tr>\n",
       "<tr>\n",
       "  <th>Last_Activity_Page Visited on Website</th>         <td>   -0.3494</td> <td>    0.222</td> <td>   -1.571</td> <td> 0.116</td> <td>   -0.786</td> <td>    0.087</td>\n",
       "</tr>\n",
       "<tr>\n",
       "  <th>Last_Activity_SMS Sent</th>                        <td>    1.4446</td> <td>    0.111</td> <td>   12.988</td> <td> 0.000</td> <td>    1.227</td> <td>    1.663</td>\n",
       "</tr>\n",
       "<tr>\n",
       "  <th>Specialization_Travel and Tourism</th>             <td>   -1.0033</td> <td>    0.397</td> <td>   -2.529</td> <td> 0.011</td> <td>   -1.781</td> <td>   -0.226</td>\n",
       "</tr>\n",
       "<tr>\n",
       "  <th>Occupation_Not Specified</th>                      <td>   -1.7715</td> <td>    0.140</td> <td>  -12.617</td> <td> 0.000</td> <td>   -2.047</td> <td>   -1.496</td>\n",
       "</tr>\n",
       "<tr>\n",
       "  <th>Tags_Already a student</th>                        <td>   -4.4469</td> <td>    0.610</td> <td>   -7.294</td> <td> 0.000</td> <td>   -5.642</td> <td>   -3.252</td>\n",
       "</tr>\n",
       "<tr>\n",
       "  <th>Tags_Closed by Horizzon</th>                       <td>    4.8998</td> <td>    0.737</td> <td>    6.652</td> <td> 0.000</td> <td>    3.456</td> <td>    6.343</td>\n",
       "</tr>\n",
       "<tr>\n",
       "  <th>Tags_Interested in other courses</th>              <td>   -3.5697</td> <td>    0.423</td> <td>   -8.447</td> <td> 0.000</td> <td>   -4.398</td> <td>   -2.741</td>\n",
       "</tr>\n",
       "<tr>\n",
       "  <th>Tags_Other Tags</th>                               <td>   -1.1042</td> <td>    0.151</td> <td>   -7.295</td> <td> 0.000</td> <td>   -1.401</td> <td>   -0.807</td>\n",
       "</tr>\n",
       "<tr>\n",
       "  <th>Tags_Ringing</th>                                  <td>   -4.2056</td> <td>    0.249</td> <td>  -16.870</td> <td> 0.000</td> <td>   -4.694</td> <td>   -3.717</td>\n",
       "</tr>\n",
       "<tr>\n",
       "  <th>Tags_Will revert after reading the email</th>      <td>    2.9387</td> <td>    0.195</td> <td>   15.047</td> <td> 0.000</td> <td>    2.556</td> <td>    3.322</td>\n",
       "</tr>\n",
       "<tr>\n",
       "  <th>Last_Notable_Activity_Email Link Clicked</th>      <td>   -0.5199</td> <td>    0.359</td> <td>   -1.447</td> <td> 0.148</td> <td>   -1.224</td> <td>    0.184</td>\n",
       "</tr>\n",
       "<tr>\n",
       "  <th>Last_Notable_Activity_Modified</th>                <td>   -0.8752</td> <td>    0.118</td> <td>   -7.412</td> <td> 0.000</td> <td>   -1.107</td> <td>   -0.644</td>\n",
       "</tr>\n",
       "<tr>\n",
       "  <th>Last_Notable_Activity_Olark Chat Conversation</th> <td>   -1.0296</td> <td>    0.453</td> <td>   -2.273</td> <td> 0.023</td> <td>   -1.917</td> <td>   -0.142</td>\n",
       "</tr>\n",
       "</table>"
      ],
      "text/plain": [
       "<class 'statsmodels.iolib.summary.Summary'>\n",
       "\"\"\"\n",
       "                 Generalized Linear Model Regression Results                  \n",
       "==============================================================================\n",
       "Dep. Variable:              Converted   No. Observations:                 6363\n",
       "Model:                            GLM   Df Residuals:                     6342\n",
       "Model Family:                Binomial   Df Model:                           20\n",
       "Link Function:                  Logit   Scale:                          1.0000\n",
       "Method:                          IRLS   Log-Likelihood:                -1431.8\n",
       "Date:                Sun, 18 Jun 2023   Deviance:                       2863.6\n",
       "Time:                        13:16:39   Pearson chi2:                 7.20e+03\n",
       "No. Iterations:                     8   Pseudo R-squ. (CS):             0.5851\n",
       "Covariance Type:            nonrobust                                         \n",
       "=================================================================================================================\n",
       "                                                    coef    std err          z      P>|z|      [0.025      0.975]\n",
       "-----------------------------------------------------------------------------------------------------------------\n",
       "const                                            -0.3124      0.137     -2.285      0.022      -0.580      -0.044\n",
       "Do Not Email                                     -1.2051      0.247     -4.871      0.000      -1.690      -0.720\n",
       "Total Time Spent on Website                       1.0898      0.056     19.569      0.000       0.981       1.199\n",
       "Lead_Origin_Lead Add Form                         1.9366      0.329      5.895      0.000       1.293       2.581\n",
       "Lead_Source_Olark Chat                            1.1974      0.144      8.308      0.000       0.915       1.480\n",
       "Lead_Source_Welingak Website                      3.5764      1.072      3.335      0.001       1.475       5.678\n",
       "Last_Activity_Email Bounced                      -0.9151      0.498     -1.839      0.066      -1.891       0.060\n",
       "Last_Activity_Olark Chat Conversation            -0.5137      0.254     -2.026      0.043      -1.011      -0.017\n",
       "Last_Activity_Page Visited on Website            -0.3494      0.222     -1.571      0.116      -0.786       0.087\n",
       "Last_Activity_SMS Sent                            1.4446      0.111     12.988      0.000       1.227       1.663\n",
       "Specialization_Travel and Tourism                -1.0033      0.397     -2.529      0.011      -1.781      -0.226\n",
       "Occupation_Not Specified                         -1.7715      0.140    -12.617      0.000      -2.047      -1.496\n",
       "Tags_Already a student                           -4.4469      0.610     -7.294      0.000      -5.642      -3.252\n",
       "Tags_Closed by Horizzon                           4.8998      0.737      6.652      0.000       3.456       6.343\n",
       "Tags_Interested in other courses                 -3.5697      0.423     -8.447      0.000      -4.398      -2.741\n",
       "Tags_Other Tags                                  -1.1042      0.151     -7.295      0.000      -1.401      -0.807\n",
       "Tags_Ringing                                     -4.2056      0.249    -16.870      0.000      -4.694      -3.717\n",
       "Tags_Will revert after reading the email          2.9387      0.195     15.047      0.000       2.556       3.322\n",
       "Last_Notable_Activity_Email Link Clicked         -0.5199      0.359     -1.447      0.148      -1.224       0.184\n",
       "Last_Notable_Activity_Modified                   -0.8752      0.118     -7.412      0.000      -1.107      -0.644\n",
       "Last_Notable_Activity_Olark Chat Conversation    -1.0296      0.453     -2.273      0.023      -1.917      -0.142\n",
       "=================================================================================================================\n",
       "\"\"\""
      ]
     },
     "execution_count": 127,
     "metadata": {},
     "output_type": "execute_result"
    }
   ],
   "source": [
    "\n",
    "X_train_sm = sm.add_constant(X_train[col])\n",
    "\n",
    "logm2 = sm.GLM(y_train, X_train_sm, family= sm.families.Binomial())\n",
    "res = logm2.fit()\n",
    "res.summary()"
   ]
  },
  {
   "cell_type": "code",
   "execution_count": 128,
   "id": "1183a70f",
   "metadata": {},
   "outputs": [
    {
     "data": {
      "text/plain": [
       "Index(['Do Not Email', 'Total Time Spent on Website',\n",
       "       'Lead_Origin_Lead Add Form', 'Lead_Source_Olark Chat',\n",
       "       'Lead_Source_Welingak Website', 'Last_Activity_Olark Chat Conversation',\n",
       "       'Last_Activity_SMS Sent', 'Specialization_Travel and Tourism',\n",
       "       'Occupation_Not Specified', 'Tags_Already a student',\n",
       "       'Tags_Closed by Horizzon', 'Tags_Interested in other courses',\n",
       "       'Tags_Other Tags', 'Tags_Ringing',\n",
       "       'Tags_Will revert after reading the email',\n",
       "       'Last_Notable_Activity_Modified',\n",
       "       'Last_Notable_Activity_Olark Chat Conversation'],\n",
       "      dtype='object')"
      ]
     },
     "execution_count": 128,
     "metadata": {},
     "output_type": "execute_result"
    }
   ],
   "source": [
    "# Dropping the variables with p-values greater than 0.05\n",
    "col = col.drop(['Last_Activity_Email Bounced', 'Last_Activity_Page Visited on Website','Last_Notable_Activity_Email Link Clicked'])\n",
    "col"
   ]
  },
  {
   "cell_type": "markdown",
   "id": "4a39c42c",
   "metadata": {},
   "source": [
    "### MODEL 3"
   ]
  },
  {
   "cell_type": "code",
   "execution_count": 129,
   "id": "1166ef00",
   "metadata": {},
   "outputs": [
    {
     "data": {
      "text/html": [
       "<table class=\"simpletable\">\n",
       "<caption>Generalized Linear Model Regression Results</caption>\n",
       "<tr>\n",
       "  <th>Dep. Variable:</th>       <td>Converted</td>    <th>  No. Observations:  </th>  <td>  6363</td> \n",
       "</tr>\n",
       "<tr>\n",
       "  <th>Model:</th>                  <td>GLM</td>       <th>  Df Residuals:      </th>  <td>  6345</td> \n",
       "</tr>\n",
       "<tr>\n",
       "  <th>Model Family:</th>        <td>Binomial</td>     <th>  Df Model:          </th>  <td>    17</td> \n",
       "</tr>\n",
       "<tr>\n",
       "  <th>Link Function:</th>         <td>Logit</td>      <th>  Scale:             </th> <td>  1.0000</td>\n",
       "</tr>\n",
       "<tr>\n",
       "  <th>Method:</th>                <td>IRLS</td>       <th>  Log-Likelihood:    </th> <td> -1435.6</td>\n",
       "</tr>\n",
       "<tr>\n",
       "  <th>Date:</th>            <td>Sun, 18 Jun 2023</td> <th>  Deviance:          </th> <td>  2871.2</td>\n",
       "</tr>\n",
       "<tr>\n",
       "  <th>Time:</th>                <td>13:16:40</td>     <th>  Pearson chi2:      </th> <td>7.11e+03</td>\n",
       "</tr>\n",
       "<tr>\n",
       "  <th>No. Iterations:</th>          <td>8</td>        <th>  Pseudo R-squ. (CS):</th>  <td>0.5846</td> \n",
       "</tr>\n",
       "<tr>\n",
       "  <th>Covariance Type:</th>     <td>nonrobust</td>    <th>                     </th>     <td> </td>   \n",
       "</tr>\n",
       "</table>\n",
       "<table class=\"simpletable\">\n",
       "<tr>\n",
       "                        <td></td>                           <th>coef</th>     <th>std err</th>      <th>z</th>      <th>P>|z|</th>  <th>[0.025</th>    <th>0.975]</th>  \n",
       "</tr>\n",
       "<tr>\n",
       "  <th>const</th>                                         <td>   -0.3663</td> <td>    0.135</td> <td>   -2.712</td> <td> 0.007</td> <td>   -0.631</td> <td>   -0.102</td>\n",
       "</tr>\n",
       "<tr>\n",
       "  <th>Do Not Email</th>                                  <td>   -1.4336</td> <td>    0.219</td> <td>   -6.549</td> <td> 0.000</td> <td>   -1.863</td> <td>   -1.005</td>\n",
       "</tr>\n",
       "<tr>\n",
       "  <th>Total Time Spent on Website</th>                   <td>    1.0868</td> <td>    0.056</td> <td>   19.561</td> <td> 0.000</td> <td>    0.978</td> <td>    1.196</td>\n",
       "</tr>\n",
       "<tr>\n",
       "  <th>Lead_Origin_Lead Add Form</th>                     <td>    1.9646</td> <td>    0.327</td> <td>    6.011</td> <td> 0.000</td> <td>    1.324</td> <td>    2.605</td>\n",
       "</tr>\n",
       "<tr>\n",
       "  <th>Lead_Source_Olark Chat</th>                        <td>    1.1914</td> <td>    0.143</td> <td>    8.303</td> <td> 0.000</td> <td>    0.910</td> <td>    1.473</td>\n",
       "</tr>\n",
       "<tr>\n",
       "  <th>Lead_Source_Welingak Website</th>                  <td>    3.5438</td> <td>    1.069</td> <td>    3.314</td> <td> 0.001</td> <td>    1.448</td> <td>    5.640</td>\n",
       "</tr>\n",
       "<tr>\n",
       "  <th>Last_Activity_Olark Chat Conversation</th>         <td>   -0.4252</td> <td>    0.252</td> <td>   -1.689</td> <td> 0.091</td> <td>   -0.918</td> <td>    0.068</td>\n",
       "</tr>\n",
       "<tr>\n",
       "  <th>Last_Activity_SMS Sent</th>                        <td>    1.5324</td> <td>    0.107</td> <td>   14.346</td> <td> 0.000</td> <td>    1.323</td> <td>    1.742</td>\n",
       "</tr>\n",
       "<tr>\n",
       "  <th>Specialization_Travel and Tourism</th>             <td>   -1.0483</td> <td>    0.394</td> <td>   -2.661</td> <td> 0.008</td> <td>   -1.820</td> <td>   -0.276</td>\n",
       "</tr>\n",
       "<tr>\n",
       "  <th>Occupation_Not Specified</th>                      <td>   -1.7811</td> <td>    0.140</td> <td>  -12.725</td> <td> 0.000</td> <td>   -2.055</td> <td>   -1.507</td>\n",
       "</tr>\n",
       "<tr>\n",
       "  <th>Tags_Already a student</th>                        <td>   -4.4618</td> <td>    0.608</td> <td>   -7.335</td> <td> 0.000</td> <td>   -5.654</td> <td>   -3.270</td>\n",
       "</tr>\n",
       "<tr>\n",
       "  <th>Tags_Closed by Horizzon</th>                       <td>    4.8560</td> <td>    0.734</td> <td>    6.617</td> <td> 0.000</td> <td>    3.418</td> <td>    6.294</td>\n",
       "</tr>\n",
       "<tr>\n",
       "  <th>Tags_Interested in other courses</th>              <td>   -3.5657</td> <td>    0.422</td> <td>   -8.445</td> <td> 0.000</td> <td>   -4.393</td> <td>   -2.738</td>\n",
       "</tr>\n",
       "<tr>\n",
       "  <th>Tags_Other Tags</th>                               <td>   -1.1115</td> <td>    0.151</td> <td>   -7.382</td> <td> 0.000</td> <td>   -1.407</td> <td>   -0.816</td>\n",
       "</tr>\n",
       "<tr>\n",
       "  <th>Tags_Ringing</th>                                  <td>   -4.2174</td> <td>    0.250</td> <td>  -16.896</td> <td> 0.000</td> <td>   -4.707</td> <td>   -3.728</td>\n",
       "</tr>\n",
       "<tr>\n",
       "  <th>Tags_Will revert after reading the email</th>      <td>    2.9274</td> <td>    0.194</td> <td>   15.090</td> <td> 0.000</td> <td>    2.547</td> <td>    3.308</td>\n",
       "</tr>\n",
       "<tr>\n",
       "  <th>Last_Notable_Activity_Modified</th>                <td>   -0.8982</td> <td>    0.117</td> <td>   -7.705</td> <td> 0.000</td> <td>   -1.127</td> <td>   -0.670</td>\n",
       "</tr>\n",
       "<tr>\n",
       "  <th>Last_Notable_Activity_Olark Chat Conversation</th> <td>   -1.0453</td> <td>    0.453</td> <td>   -2.309</td> <td> 0.021</td> <td>   -1.932</td> <td>   -0.158</td>\n",
       "</tr>\n",
       "</table>"
      ],
      "text/plain": [
       "<class 'statsmodels.iolib.summary.Summary'>\n",
       "\"\"\"\n",
       "                 Generalized Linear Model Regression Results                  \n",
       "==============================================================================\n",
       "Dep. Variable:              Converted   No. Observations:                 6363\n",
       "Model:                            GLM   Df Residuals:                     6345\n",
       "Model Family:                Binomial   Df Model:                           17\n",
       "Link Function:                  Logit   Scale:                          1.0000\n",
       "Method:                          IRLS   Log-Likelihood:                -1435.6\n",
       "Date:                Sun, 18 Jun 2023   Deviance:                       2871.2\n",
       "Time:                        13:16:40   Pearson chi2:                 7.11e+03\n",
       "No. Iterations:                     8   Pseudo R-squ. (CS):             0.5846\n",
       "Covariance Type:            nonrobust                                         \n",
       "=================================================================================================================\n",
       "                                                    coef    std err          z      P>|z|      [0.025      0.975]\n",
       "-----------------------------------------------------------------------------------------------------------------\n",
       "const                                            -0.3663      0.135     -2.712      0.007      -0.631      -0.102\n",
       "Do Not Email                                     -1.4336      0.219     -6.549      0.000      -1.863      -1.005\n",
       "Total Time Spent on Website                       1.0868      0.056     19.561      0.000       0.978       1.196\n",
       "Lead_Origin_Lead Add Form                         1.9646      0.327      6.011      0.000       1.324       2.605\n",
       "Lead_Source_Olark Chat                            1.1914      0.143      8.303      0.000       0.910       1.473\n",
       "Lead_Source_Welingak Website                      3.5438      1.069      3.314      0.001       1.448       5.640\n",
       "Last_Activity_Olark Chat Conversation            -0.4252      0.252     -1.689      0.091      -0.918       0.068\n",
       "Last_Activity_SMS Sent                            1.5324      0.107     14.346      0.000       1.323       1.742\n",
       "Specialization_Travel and Tourism                -1.0483      0.394     -2.661      0.008      -1.820      -0.276\n",
       "Occupation_Not Specified                         -1.7811      0.140    -12.725      0.000      -2.055      -1.507\n",
       "Tags_Already a student                           -4.4618      0.608     -7.335      0.000      -5.654      -3.270\n",
       "Tags_Closed by Horizzon                           4.8560      0.734      6.617      0.000       3.418       6.294\n",
       "Tags_Interested in other courses                 -3.5657      0.422     -8.445      0.000      -4.393      -2.738\n",
       "Tags_Other Tags                                  -1.1115      0.151     -7.382      0.000      -1.407      -0.816\n",
       "Tags_Ringing                                     -4.2174      0.250    -16.896      0.000      -4.707      -3.728\n",
       "Tags_Will revert after reading the email          2.9274      0.194     15.090      0.000       2.547       3.308\n",
       "Last_Notable_Activity_Modified                   -0.8982      0.117     -7.705      0.000      -1.127      -0.670\n",
       "Last_Notable_Activity_Olark Chat Conversation    -1.0453      0.453     -2.309      0.021      -1.932      -0.158\n",
       "=================================================================================================================\n",
       "\"\"\""
      ]
     },
     "execution_count": 129,
     "metadata": {},
     "output_type": "execute_result"
    }
   ],
   "source": [
    "X_train_sm = sm.add_constant(X_train[col])\n",
    "\n",
    "logm3 = sm.GLM(y_train, X_train_sm, family= sm.families.Binomial())\n",
    "res = logm3.fit()\n",
    "res.summary()"
   ]
  },
  {
   "cell_type": "code",
   "execution_count": 130,
   "id": "bc7b26a7",
   "metadata": {},
   "outputs": [
    {
     "data": {
      "text/html": [
       "<div>\n",
       "<style scoped>\n",
       "    .dataframe tbody tr th:only-of-type {\n",
       "        vertical-align: middle;\n",
       "    }\n",
       "\n",
       "    .dataframe tbody tr th {\n",
       "        vertical-align: top;\n",
       "    }\n",
       "\n",
       "    .dataframe thead th {\n",
       "        text-align: right;\n",
       "    }\n",
       "</style>\n",
       "<table border=\"1\" class=\"dataframe\">\n",
       "  <thead>\n",
       "    <tr style=\"text-align: right;\">\n",
       "      <th></th>\n",
       "      <th>Features</th>\n",
       "      <th>VIF</th>\n",
       "    </tr>\n",
       "  </thead>\n",
       "  <tbody>\n",
       "    <tr>\n",
       "      <th>15</th>\n",
       "      <td>Last_Notable_Activity_Modified</td>\n",
       "      <td>2.18</td>\n",
       "    </tr>\n",
       "    <tr>\n",
       "      <th>5</th>\n",
       "      <td>Last_Activity_Olark Chat Conversation</td>\n",
       "      <td>1.98</td>\n",
       "    </tr>\n",
       "    <tr>\n",
       "      <th>2</th>\n",
       "      <td>Lead_Origin_Lead Add Form</td>\n",
       "      <td>1.82</td>\n",
       "    </tr>\n",
       "    <tr>\n",
       "      <th>3</th>\n",
       "      <td>Lead_Source_Olark Chat</td>\n",
       "      <td>1.73</td>\n",
       "    </tr>\n",
       "    <tr>\n",
       "      <th>8</th>\n",
       "      <td>Occupation_Not Specified</td>\n",
       "      <td>1.62</td>\n",
       "    </tr>\n",
       "    <tr>\n",
       "      <th>14</th>\n",
       "      <td>Tags_Will revert after reading the email</td>\n",
       "      <td>1.62</td>\n",
       "    </tr>\n",
       "    <tr>\n",
       "      <th>6</th>\n",
       "      <td>Last_Activity_SMS Sent</td>\n",
       "      <td>1.57</td>\n",
       "    </tr>\n",
       "    <tr>\n",
       "      <th>1</th>\n",
       "      <td>Total Time Spent on Website</td>\n",
       "      <td>1.37</td>\n",
       "    </tr>\n",
       "    <tr>\n",
       "      <th>16</th>\n",
       "      <td>Last_Notable_Activity_Olark Chat Conversation</td>\n",
       "      <td>1.37</td>\n",
       "    </tr>\n",
       "    <tr>\n",
       "      <th>10</th>\n",
       "      <td>Tags_Closed by Horizzon</td>\n",
       "      <td>1.32</td>\n",
       "    </tr>\n",
       "    <tr>\n",
       "      <th>4</th>\n",
       "      <td>Lead_Source_Welingak Website</td>\n",
       "      <td>1.31</td>\n",
       "    </tr>\n",
       "    <tr>\n",
       "      <th>12</th>\n",
       "      <td>Tags_Other Tags</td>\n",
       "      <td>1.23</td>\n",
       "    </tr>\n",
       "    <tr>\n",
       "      <th>11</th>\n",
       "      <td>Tags_Interested in other courses</td>\n",
       "      <td>1.14</td>\n",
       "    </tr>\n",
       "    <tr>\n",
       "      <th>13</th>\n",
       "      <td>Tags_Ringing</td>\n",
       "      <td>1.14</td>\n",
       "    </tr>\n",
       "    <tr>\n",
       "      <th>0</th>\n",
       "      <td>Do Not Email</td>\n",
       "      <td>1.14</td>\n",
       "    </tr>\n",
       "    <tr>\n",
       "      <th>9</th>\n",
       "      <td>Tags_Already a student</td>\n",
       "      <td>1.10</td>\n",
       "    </tr>\n",
       "    <tr>\n",
       "      <th>7</th>\n",
       "      <td>Specialization_Travel and Tourism</td>\n",
       "      <td>1.04</td>\n",
       "    </tr>\n",
       "  </tbody>\n",
       "</table>\n",
       "</div>"
      ],
      "text/plain": [
       "                                         Features   VIF\n",
       "15                 Last_Notable_Activity_Modified  2.18\n",
       "5           Last_Activity_Olark Chat Conversation  1.98\n",
       "2                       Lead_Origin_Lead Add Form  1.82\n",
       "3                          Lead_Source_Olark Chat  1.73\n",
       "8                        Occupation_Not Specified  1.62\n",
       "14       Tags_Will revert after reading the email  1.62\n",
       "6                          Last_Activity_SMS Sent  1.57\n",
       "1                     Total Time Spent on Website  1.37\n",
       "16  Last_Notable_Activity_Olark Chat Conversation  1.37\n",
       "10                        Tags_Closed by Horizzon  1.32\n",
       "4                    Lead_Source_Welingak Website  1.31\n",
       "12                                Tags_Other Tags  1.23\n",
       "11               Tags_Interested in other courses  1.14\n",
       "13                                   Tags_Ringing  1.14\n",
       "0                                    Do Not Email  1.14\n",
       "9                          Tags_Already a student  1.10\n",
       "7               Specialization_Travel and Tourism  1.04"
      ]
     },
     "execution_count": 130,
     "metadata": {},
     "output_type": "execute_result"
    }
   ],
   "source": [
    "### Checking VIF's:\n",
    "vif = pd.DataFrame()\n",
    "vif['Features'] = X_train[col].columns\n",
    "vif['VIF'] = [variance_inflation_factor(X_train[col].values, i) for i in range(X_train[col].shape[1])]\n",
    "vif['VIF'] = round(vif['VIF'], 2)\n",
    "vif = vif.sort_values(by = \"VIF\", ascending = False)\n",
    "vif"
   ]
  },
  {
   "cell_type": "code",
   "execution_count": 131,
   "id": "9c88a03f",
   "metadata": {},
   "outputs": [
    {
     "data": {
      "text/plain": [
       "Index(['Do Not Email', 'Total Time Spent on Website',\n",
       "       'Lead_Origin_Lead Add Form', 'Lead_Source_Olark Chat',\n",
       "       'Lead_Source_Welingak Website', 'Last_Activity_SMS Sent',\n",
       "       'Specialization_Travel and Tourism', 'Occupation_Not Specified',\n",
       "       'Tags_Already a student', 'Tags_Closed by Horizzon',\n",
       "       'Tags_Interested in other courses', 'Tags_Other Tags', 'Tags_Ringing',\n",
       "       'Tags_Will revert after reading the email',\n",
       "       'Last_Notable_Activity_Modified',\n",
       "       'Last_Notable_Activity_Olark Chat Conversation'],\n",
       "      dtype='object')"
      ]
     },
     "execution_count": 131,
     "metadata": {},
     "output_type": "execute_result"
    }
   ],
   "source": [
    "# Dropping the variables with p-values greater than 0.05\n",
    "col = col.drop('Last_Activity_Olark Chat Conversation')\n",
    "col"
   ]
  },
  {
   "cell_type": "code",
   "execution_count": 132,
   "id": "56104edb",
   "metadata": {},
   "outputs": [
    {
     "data": {
      "text/html": [
       "<table class=\"simpletable\">\n",
       "<caption>Generalized Linear Model Regression Results</caption>\n",
       "<tr>\n",
       "  <th>Dep. Variable:</th>       <td>Converted</td>    <th>  No. Observations:  </th>  <td>  6363</td> \n",
       "</tr>\n",
       "<tr>\n",
       "  <th>Model:</th>                  <td>GLM</td>       <th>  Df Residuals:      </th>  <td>  6346</td> \n",
       "</tr>\n",
       "<tr>\n",
       "  <th>Model Family:</th>        <td>Binomial</td>     <th>  Df Model:          </th>  <td>    16</td> \n",
       "</tr>\n",
       "<tr>\n",
       "  <th>Link Function:</th>         <td>Logit</td>      <th>  Scale:             </th> <td>  1.0000</td>\n",
       "</tr>\n",
       "<tr>\n",
       "  <th>Method:</th>                <td>IRLS</td>       <th>  Log-Likelihood:    </th> <td> -1437.1</td>\n",
       "</tr>\n",
       "<tr>\n",
       "  <th>Date:</th>            <td>Sun, 18 Jun 2023</td> <th>  Deviance:          </th> <td>  2874.1</td>\n",
       "</tr>\n",
       "<tr>\n",
       "  <th>Time:</th>                <td>13:16:40</td>     <th>  Pearson chi2:      </th> <td>7.24e+03</td>\n",
       "</tr>\n",
       "<tr>\n",
       "  <th>No. Iterations:</th>          <td>8</td>        <th>  Pseudo R-squ. (CS):</th>  <td>0.5844</td> \n",
       "</tr>\n",
       "<tr>\n",
       "  <th>Covariance Type:</th>     <td>nonrobust</td>    <th>                     </th>     <td> </td>   \n",
       "</tr>\n",
       "</table>\n",
       "<table class=\"simpletable\">\n",
       "<tr>\n",
       "                        <td></td>                           <th>coef</th>     <th>std err</th>      <th>z</th>      <th>P>|z|</th>  <th>[0.025</th>    <th>0.975]</th>  \n",
       "</tr>\n",
       "<tr>\n",
       "  <th>const</th>                                         <td>   -0.3672</td> <td>    0.135</td> <td>   -2.720</td> <td> 0.007</td> <td>   -0.632</td> <td>   -0.103</td>\n",
       "</tr>\n",
       "<tr>\n",
       "  <th>Do Not Email</th>                                  <td>   -1.4234</td> <td>    0.219</td> <td>   -6.486</td> <td> 0.000</td> <td>   -1.853</td> <td>   -0.993</td>\n",
       "</tr>\n",
       "<tr>\n",
       "  <th>Total Time Spent on Website</th>                   <td>    1.0914</td> <td>    0.056</td> <td>   19.620</td> <td> 0.000</td> <td>    0.982</td> <td>    1.200</td>\n",
       "</tr>\n",
       "<tr>\n",
       "  <th>Lead_Origin_Lead Add Form</th>                     <td>    1.9886</td> <td>    0.328</td> <td>    6.070</td> <td> 0.000</td> <td>    1.346</td> <td>    2.631</td>\n",
       "</tr>\n",
       "<tr>\n",
       "  <th>Lead_Source_Olark Chat</th>                        <td>    1.1397</td> <td>    0.140</td> <td>    8.122</td> <td> 0.000</td> <td>    0.865</td> <td>    1.415</td>\n",
       "</tr>\n",
       "<tr>\n",
       "  <th>Lead_Source_Welingak Website</th>                  <td>    3.5476</td> <td>    1.070</td> <td>    3.314</td> <td> 0.001</td> <td>    1.449</td> <td>    5.646</td>\n",
       "</tr>\n",
       "<tr>\n",
       "  <th>Last_Activity_SMS Sent</th>                        <td>    1.5600</td> <td>    0.106</td> <td>   14.698</td> <td> 0.000</td> <td>    1.352</td> <td>    1.768</td>\n",
       "</tr>\n",
       "<tr>\n",
       "  <th>Specialization_Travel and Tourism</th>             <td>   -1.0377</td> <td>    0.396</td> <td>   -2.623</td> <td> 0.009</td> <td>   -1.813</td> <td>   -0.262</td>\n",
       "</tr>\n",
       "<tr>\n",
       "  <th>Occupation_Not Specified</th>                      <td>   -1.7851</td> <td>    0.140</td> <td>  -12.770</td> <td> 0.000</td> <td>   -2.059</td> <td>   -1.511</td>\n",
       "</tr>\n",
       "<tr>\n",
       "  <th>Tags_Already a student</th>                        <td>   -4.4599</td> <td>    0.608</td> <td>   -7.337</td> <td> 0.000</td> <td>   -5.651</td> <td>   -3.269</td>\n",
       "</tr>\n",
       "<tr>\n",
       "  <th>Tags_Closed by Horizzon</th>                       <td>    4.8830</td> <td>    0.734</td> <td>    6.651</td> <td> 0.000</td> <td>    3.444</td> <td>    6.322</td>\n",
       "</tr>\n",
       "<tr>\n",
       "  <th>Tags_Interested in other courses</th>              <td>   -3.5809</td> <td>    0.422</td> <td>   -8.493</td> <td> 0.000</td> <td>   -4.407</td> <td>   -2.754</td>\n",
       "</tr>\n",
       "<tr>\n",
       "  <th>Tags_Other Tags</th>                               <td>   -1.1072</td> <td>    0.151</td> <td>   -7.354</td> <td> 0.000</td> <td>   -1.402</td> <td>   -0.812</td>\n",
       "</tr>\n",
       "<tr>\n",
       "  <th>Tags_Ringing</th>                                  <td>   -4.2312</td> <td>    0.250</td> <td>  -16.929</td> <td> 0.000</td> <td>   -4.721</td> <td>   -3.741</td>\n",
       "</tr>\n",
       "<tr>\n",
       "  <th>Tags_Will revert after reading the email</th>      <td>    2.9359</td> <td>    0.194</td> <td>   15.120</td> <td> 0.000</td> <td>    2.555</td> <td>    3.316</td>\n",
       "</tr>\n",
       "<tr>\n",
       "  <th>Last_Notable_Activity_Modified</th>                <td>   -0.9748</td> <td>    0.109</td> <td>   -8.974</td> <td> 0.000</td> <td>   -1.188</td> <td>   -0.762</td>\n",
       "</tr>\n",
       "<tr>\n",
       "  <th>Last_Notable_Activity_Olark Chat Conversation</th> <td>   -1.4453</td> <td>    0.387</td> <td>   -3.737</td> <td> 0.000</td> <td>   -2.203</td> <td>   -0.687</td>\n",
       "</tr>\n",
       "</table>"
      ],
      "text/plain": [
       "<class 'statsmodels.iolib.summary.Summary'>\n",
       "\"\"\"\n",
       "                 Generalized Linear Model Regression Results                  \n",
       "==============================================================================\n",
       "Dep. Variable:              Converted   No. Observations:                 6363\n",
       "Model:                            GLM   Df Residuals:                     6346\n",
       "Model Family:                Binomial   Df Model:                           16\n",
       "Link Function:                  Logit   Scale:                          1.0000\n",
       "Method:                          IRLS   Log-Likelihood:                -1437.1\n",
       "Date:                Sun, 18 Jun 2023   Deviance:                       2874.1\n",
       "Time:                        13:16:40   Pearson chi2:                 7.24e+03\n",
       "No. Iterations:                     8   Pseudo R-squ. (CS):             0.5844\n",
       "Covariance Type:            nonrobust                                         \n",
       "=================================================================================================================\n",
       "                                                    coef    std err          z      P>|z|      [0.025      0.975]\n",
       "-----------------------------------------------------------------------------------------------------------------\n",
       "const                                            -0.3672      0.135     -2.720      0.007      -0.632      -0.103\n",
       "Do Not Email                                     -1.4234      0.219     -6.486      0.000      -1.853      -0.993\n",
       "Total Time Spent on Website                       1.0914      0.056     19.620      0.000       0.982       1.200\n",
       "Lead_Origin_Lead Add Form                         1.9886      0.328      6.070      0.000       1.346       2.631\n",
       "Lead_Source_Olark Chat                            1.1397      0.140      8.122      0.000       0.865       1.415\n",
       "Lead_Source_Welingak Website                      3.5476      1.070      3.314      0.001       1.449       5.646\n",
       "Last_Activity_SMS Sent                            1.5600      0.106     14.698      0.000       1.352       1.768\n",
       "Specialization_Travel and Tourism                -1.0377      0.396     -2.623      0.009      -1.813      -0.262\n",
       "Occupation_Not Specified                         -1.7851      0.140    -12.770      0.000      -2.059      -1.511\n",
       "Tags_Already a student                           -4.4599      0.608     -7.337      0.000      -5.651      -3.269\n",
       "Tags_Closed by Horizzon                           4.8830      0.734      6.651      0.000       3.444       6.322\n",
       "Tags_Interested in other courses                 -3.5809      0.422     -8.493      0.000      -4.407      -2.754\n",
       "Tags_Other Tags                                  -1.1072      0.151     -7.354      0.000      -1.402      -0.812\n",
       "Tags_Ringing                                     -4.2312      0.250    -16.929      0.000      -4.721      -3.741\n",
       "Tags_Will revert after reading the email          2.9359      0.194     15.120      0.000       2.555       3.316\n",
       "Last_Notable_Activity_Modified                   -0.9748      0.109     -8.974      0.000      -1.188      -0.762\n",
       "Last_Notable_Activity_Olark Chat Conversation    -1.4453      0.387     -3.737      0.000      -2.203      -0.687\n",
       "=================================================================================================================\n",
       "\"\"\""
      ]
     },
     "execution_count": 132,
     "metadata": {},
     "output_type": "execute_result"
    }
   ],
   "source": [
    "# Fourth model:\n",
    "X_train_sm = sm.add_constant(X_train[col])\n",
    "\n",
    "logm4 = sm.GLM(y_train, X_train_sm, family= sm.families.Binomial())\n",
    "res = logm4.fit()\n",
    "res.summary()"
   ]
  },
  {
   "cell_type": "code",
   "execution_count": 133,
   "id": "064606ee",
   "metadata": {},
   "outputs": [
    {
     "data": {
      "text/html": [
       "<div>\n",
       "<style scoped>\n",
       "    .dataframe tbody tr th:only-of-type {\n",
       "        vertical-align: middle;\n",
       "    }\n",
       "\n",
       "    .dataframe tbody tr th {\n",
       "        vertical-align: top;\n",
       "    }\n",
       "\n",
       "    .dataframe thead th {\n",
       "        text-align: right;\n",
       "    }\n",
       "</style>\n",
       "<table border=\"1\" class=\"dataframe\">\n",
       "  <thead>\n",
       "    <tr style=\"text-align: right;\">\n",
       "      <th></th>\n",
       "      <th>Features</th>\n",
       "      <th>VIF</th>\n",
       "    </tr>\n",
       "  </thead>\n",
       "  <tbody>\n",
       "    <tr>\n",
       "      <th>14</th>\n",
       "      <td>Last_Notable_Activity_Modified</td>\n",
       "      <td>1.90</td>\n",
       "    </tr>\n",
       "    <tr>\n",
       "      <th>2</th>\n",
       "      <td>Lead_Origin_Lead Add Form</td>\n",
       "      <td>1.82</td>\n",
       "    </tr>\n",
       "    <tr>\n",
       "      <th>7</th>\n",
       "      <td>Occupation_Not Specified</td>\n",
       "      <td>1.62</td>\n",
       "    </tr>\n",
       "    <tr>\n",
       "      <th>13</th>\n",
       "      <td>Tags_Will revert after reading the email</td>\n",
       "      <td>1.62</td>\n",
       "    </tr>\n",
       "    <tr>\n",
       "      <th>5</th>\n",
       "      <td>Last_Activity_SMS Sent</td>\n",
       "      <td>1.55</td>\n",
       "    </tr>\n",
       "    <tr>\n",
       "      <th>3</th>\n",
       "      <td>Lead_Source_Olark Chat</td>\n",
       "      <td>1.54</td>\n",
       "    </tr>\n",
       "    <tr>\n",
       "      <th>1</th>\n",
       "      <td>Total Time Spent on Website</td>\n",
       "      <td>1.37</td>\n",
       "    </tr>\n",
       "    <tr>\n",
       "      <th>4</th>\n",
       "      <td>Lead_Source_Welingak Website</td>\n",
       "      <td>1.31</td>\n",
       "    </tr>\n",
       "    <tr>\n",
       "      <th>9</th>\n",
       "      <td>Tags_Closed by Horizzon</td>\n",
       "      <td>1.31</td>\n",
       "    </tr>\n",
       "    <tr>\n",
       "      <th>11</th>\n",
       "      <td>Tags_Other Tags</td>\n",
       "      <td>1.23</td>\n",
       "    </tr>\n",
       "    <tr>\n",
       "      <th>10</th>\n",
       "      <td>Tags_Interested in other courses</td>\n",
       "      <td>1.14</td>\n",
       "    </tr>\n",
       "    <tr>\n",
       "      <th>12</th>\n",
       "      <td>Tags_Ringing</td>\n",
       "      <td>1.13</td>\n",
       "    </tr>\n",
       "    <tr>\n",
       "      <th>0</th>\n",
       "      <td>Do Not Email</td>\n",
       "      <td>1.12</td>\n",
       "    </tr>\n",
       "    <tr>\n",
       "      <th>8</th>\n",
       "      <td>Tags_Already a student</td>\n",
       "      <td>1.10</td>\n",
       "    </tr>\n",
       "    <tr>\n",
       "      <th>15</th>\n",
       "      <td>Last_Notable_Activity_Olark Chat Conversation</td>\n",
       "      <td>1.09</td>\n",
       "    </tr>\n",
       "    <tr>\n",
       "      <th>6</th>\n",
       "      <td>Specialization_Travel and Tourism</td>\n",
       "      <td>1.04</td>\n",
       "    </tr>\n",
       "  </tbody>\n",
       "</table>\n",
       "</div>"
      ],
      "text/plain": [
       "                                         Features   VIF\n",
       "14                 Last_Notable_Activity_Modified  1.90\n",
       "2                       Lead_Origin_Lead Add Form  1.82\n",
       "7                        Occupation_Not Specified  1.62\n",
       "13       Tags_Will revert after reading the email  1.62\n",
       "5                          Last_Activity_SMS Sent  1.55\n",
       "3                          Lead_Source_Olark Chat  1.54\n",
       "1                     Total Time Spent on Website  1.37\n",
       "4                    Lead_Source_Welingak Website  1.31\n",
       "9                         Tags_Closed by Horizzon  1.31\n",
       "11                                Tags_Other Tags  1.23\n",
       "10               Tags_Interested in other courses  1.14\n",
       "12                                   Tags_Ringing  1.13\n",
       "0                                    Do Not Email  1.12\n",
       "8                          Tags_Already a student  1.10\n",
       "15  Last_Notable_Activity_Olark Chat Conversation  1.09\n",
       "6               Specialization_Travel and Tourism  1.04"
      ]
     },
     "execution_count": 133,
     "metadata": {},
     "output_type": "execute_result"
    }
   ],
   "source": [
    "# Checking VIF's:\n",
    "vif = pd.DataFrame()\n",
    "vif['Features'] = X_train[col].columns\n",
    "vif['VIF'] = [variance_inflation_factor(X_train[col].values, i) for i in range(X_train[col].shape[1])]\n",
    "vif['VIF'] = round(vif['VIF'], 2)\n",
    "vif = vif.sort_values(by = \"VIF\", ascending = False)\n",
    "vif"
   ]
  },
  {
   "cell_type": "code",
   "execution_count": 134,
   "id": "20ad12a6",
   "metadata": {},
   "outputs": [
    {
     "data": {
      "text/plain": [
       "array([0.06784508, 0.01237899, 0.40260209, ..., 0.35926256, 0.7564025 ,\n",
       "       0.0032189 ])"
      ]
     },
     "execution_count": 134,
     "metadata": {},
     "output_type": "execute_result"
    }
   ],
   "source": [
    "# Predictions on the train set\n",
    "y_train_pred = res.predict(X_train_sm).values.reshape(-1)\n",
    "y_train_pred"
   ]
  },
  {
   "cell_type": "markdown",
   "id": "6b667d6d",
   "metadata": {},
   "source": [
    "### Creating the dataframe with predicted probabilities and actual converted"
   ]
  },
  {
   "cell_type": "code",
   "execution_count": 135,
   "id": "5b6fe694",
   "metadata": {},
   "outputs": [
    {
     "data": {
      "text/html": [
       "<div>\n",
       "<style scoped>\n",
       "    .dataframe tbody tr th:only-of-type {\n",
       "        vertical-align: middle;\n",
       "    }\n",
       "\n",
       "    .dataframe tbody tr th {\n",
       "        vertical-align: top;\n",
       "    }\n",
       "\n",
       "    .dataframe thead th {\n",
       "        text-align: right;\n",
       "    }\n",
       "</style>\n",
       "<table border=\"1\" class=\"dataframe\">\n",
       "  <thead>\n",
       "    <tr style=\"text-align: right;\">\n",
       "      <th></th>\n",
       "      <th>Converted</th>\n",
       "      <th>Converted_Prob</th>\n",
       "      <th>Prospect ID</th>\n",
       "    </tr>\n",
       "  </thead>\n",
       "  <tbody>\n",
       "    <tr>\n",
       "      <th>0</th>\n",
       "      <td>0</td>\n",
       "      <td>0.067845</td>\n",
       "      <td>302</td>\n",
       "    </tr>\n",
       "    <tr>\n",
       "      <th>1</th>\n",
       "      <td>0</td>\n",
       "      <td>0.012379</td>\n",
       "      <td>6087</td>\n",
       "    </tr>\n",
       "    <tr>\n",
       "      <th>2</th>\n",
       "      <td>0</td>\n",
       "      <td>0.402602</td>\n",
       "      <td>1033</td>\n",
       "    </tr>\n",
       "    <tr>\n",
       "      <th>3</th>\n",
       "      <td>0</td>\n",
       "      <td>0.008788</td>\n",
       "      <td>7656</td>\n",
       "    </tr>\n",
       "    <tr>\n",
       "      <th>4</th>\n",
       "      <td>1</td>\n",
       "      <td>0.993990</td>\n",
       "      <td>3241</td>\n",
       "    </tr>\n",
       "  </tbody>\n",
       "</table>\n",
       "</div>"
      ],
      "text/plain": [
       "   Converted  Converted_Prob  Prospect ID\n",
       "0          0        0.067845          302\n",
       "1          0        0.012379         6087\n",
       "2          0        0.402602         1033\n",
       "3          0        0.008788         7656\n",
       "4          1        0.993990         3241"
      ]
     },
     "execution_count": 135,
     "metadata": {},
     "output_type": "execute_result"
    }
   ],
   "source": [
    "y_train_pred_final = pd.DataFrame({'Converted': y_train.values, 'Converted_Prob': y_train_pred})\n",
    "y_train_pred_final['Prospect ID'] = y_train.index\n",
    "y_train_pred_final.head()"
   ]
  },
  {
   "cell_type": "markdown",
   "id": "c613c9f1",
   "metadata": {},
   "source": [
    "###  Creating a new column Predicted with 1 if Probability > 0.5:"
   ]
  },
  {
   "cell_type": "code",
   "execution_count": 137,
   "id": "30374ee2",
   "metadata": {},
   "outputs": [
    {
     "data": {
      "text/html": [
       "<div>\n",
       "<style scoped>\n",
       "    .dataframe tbody tr th:only-of-type {\n",
       "        vertical-align: middle;\n",
       "    }\n",
       "\n",
       "    .dataframe tbody tr th {\n",
       "        vertical-align: top;\n",
       "    }\n",
       "\n",
       "    .dataframe thead th {\n",
       "        text-align: right;\n",
       "    }\n",
       "</style>\n",
       "<table border=\"1\" class=\"dataframe\">\n",
       "  <thead>\n",
       "    <tr style=\"text-align: right;\">\n",
       "      <th></th>\n",
       "      <th>Converted</th>\n",
       "      <th>Converted_Prob</th>\n",
       "      <th>Prospect ID</th>\n",
       "      <th>Predicted</th>\n",
       "    </tr>\n",
       "  </thead>\n",
       "  <tbody>\n",
       "    <tr>\n",
       "      <th>0</th>\n",
       "      <td>0</td>\n",
       "      <td>0.067845</td>\n",
       "      <td>302</td>\n",
       "      <td>0</td>\n",
       "    </tr>\n",
       "    <tr>\n",
       "      <th>1</th>\n",
       "      <td>0</td>\n",
       "      <td>0.012379</td>\n",
       "      <td>6087</td>\n",
       "      <td>0</td>\n",
       "    </tr>\n",
       "    <tr>\n",
       "      <th>2</th>\n",
       "      <td>0</td>\n",
       "      <td>0.402602</td>\n",
       "      <td>1033</td>\n",
       "      <td>0</td>\n",
       "    </tr>\n",
       "    <tr>\n",
       "      <th>3</th>\n",
       "      <td>0</td>\n",
       "      <td>0.008788</td>\n",
       "      <td>7656</td>\n",
       "      <td>0</td>\n",
       "    </tr>\n",
       "    <tr>\n",
       "      <th>4</th>\n",
       "      <td>1</td>\n",
       "      <td>0.993990</td>\n",
       "      <td>3241</td>\n",
       "      <td>1</td>\n",
       "    </tr>\n",
       "  </tbody>\n",
       "</table>\n",
       "</div>"
      ],
      "text/plain": [
       "   Converted  Converted_Prob  Prospect ID  Predicted\n",
       "0          0        0.067845          302          0\n",
       "1          0        0.012379         6087          0\n",
       "2          0        0.402602         1033          0\n",
       "3          0        0.008788         7656          0\n",
       "4          1        0.993990         3241          1"
      ]
     },
     "execution_count": 137,
     "metadata": {},
     "output_type": "execute_result"
    }
   ],
   "source": [
    "# Making a new column Predicted with values which have Probability greater than 0.5\n",
    "y_train_pred_final['Predicted'] = y_train_pred_final.Converted_Prob.map(lambda x: 1 if x > 0.5 else 0)\n",
    "y_train_pred_final.head()"
   ]
  },
  {
   "cell_type": "code",
   "execution_count": 138,
   "id": "60998a88",
   "metadata": {},
   "outputs": [
    {
     "name": "stdout",
     "output_type": "stream",
     "text": [
      "0.9107339305359108\n"
     ]
    }
   ],
   "source": [
    "# Checking the overall accuracy.\n",
    "print(metrics.accuracy_score(y_true= y_train_pred_final.Converted, y_pred= y_train_pred_final.Predicted))"
   ]
  },
  {
   "cell_type": "code",
   "execution_count": 139,
   "id": "903722e6",
   "metadata": {},
   "outputs": [
    {
     "data": {
      "text/plain": [
       "array([[3753,  182],\n",
       "       [ 386, 2042]], dtype=int64)"
      ]
     },
     "execution_count": 139,
     "metadata": {},
     "output_type": "execute_result"
    }
   ],
   "source": [
    "# Let's take a look at the confusion matrix:\n",
    "confusion = metrics.confusion_matrix(y_true= y_train_pred_final.Converted, y_pred= y_train_pred_final.Predicted)\n",
    "confusion"
   ]
  },
  {
   "cell_type": "markdown",
   "id": "e39d2644",
   "metadata": {},
   "source": [
    "### Metrics beyond Simple accuracy"
   ]
  },
  {
   "cell_type": "code",
   "execution_count": 140,
   "id": "009e3ed9",
   "metadata": {},
   "outputs": [],
   "source": [
    "TP = confusion[1,1] # true positive \n",
    "TN = confusion[0,0] # true negatives\n",
    "FP = confusion[0,1] # false positives\n",
    "FN = confusion[1,0] # false negatives"
   ]
  },
  {
   "cell_type": "code",
   "execution_count": 141,
   "id": "d80c5078",
   "metadata": {},
   "outputs": [
    {
     "data": {
      "text/plain": [
       "0.8410214168039539"
      ]
     },
     "execution_count": 141,
     "metadata": {},
     "output_type": "execute_result"
    }
   ],
   "source": [
    "# Sensitivity of our logistic regression model:\n",
    "TP / float(TP+FN)"
   ]
  },
  {
   "cell_type": "code",
   "execution_count": 142,
   "id": "f2eb9bea",
   "metadata": {},
   "outputs": [
    {
     "data": {
      "text/plain": [
       "0.9537484116899618"
      ]
     },
     "execution_count": 142,
     "metadata": {},
     "output_type": "execute_result"
    }
   ],
   "source": [
    "# Specitivity of our logistic regression model:\n",
    "TN / float(TN+FP)"
   ]
  },
  {
   "cell_type": "code",
   "execution_count": 143,
   "id": "eff46711",
   "metadata": {},
   "outputs": [
    {
     "name": "stdout",
     "output_type": "stream",
     "text": [
      "0.046251588310038116\n"
     ]
    }
   ],
   "source": [
    "# Calculate false postive rate - \n",
    "print(FP/ float(TN+FP))"
   ]
  },
  {
   "cell_type": "code",
   "execution_count": 144,
   "id": "e92f8a82",
   "metadata": {},
   "outputs": [
    {
     "name": "stdout",
     "output_type": "stream",
     "text": [
      "0.9181654676258992\n"
     ]
    }
   ],
   "source": [
    "# Positive predictive value \n",
    "print (TP / float(TP+FP))\n"
   ]
  },
  {
   "cell_type": "code",
   "execution_count": 145,
   "id": "4fec21a2",
   "metadata": {},
   "outputs": [
    {
     "name": "stdout",
     "output_type": "stream",
     "text": [
      "0.906740758637352\n"
     ]
    }
   ],
   "source": [
    "# Negative predictive value\n",
    "print (TN / float(TN+ FN))"
   ]
  },
  {
   "cell_type": "markdown",
   "id": "12fa7d59",
   "metadata": {},
   "source": [
    "### PLOTTING ROC CURVE:"
   ]
  },
  {
   "cell_type": "code",
   "execution_count": 147,
   "id": "66671dc2",
   "metadata": {},
   "outputs": [],
   "source": [
    "# Defining function for ROC curve:\n",
    "def draw_roc( actual, probs ):\n",
    "    fpr, tpr, thresholds = metrics.roc_curve( actual, probs,\n",
    "                                              drop_intermediate = False )\n",
    "    auc_score = metrics.roc_auc_score( actual, probs )\n",
    "    plt.figure(figsize=(5, 5))\n",
    "    plt.plot( fpr, tpr, label='ROC curve (area = %0.2f)' % auc_score )\n",
    "    plt.plot([0, 1], [0, 1], 'k--')\n",
    "    plt.xlim([0.0, 1.0])\n",
    "    plt.ylim([0.0, 1.05])\n",
    "    plt.xlabel('False Positive Rate or [1 - True Negative Rate]')\n",
    "    plt.ylabel('True Positive Rate')\n",
    "    plt.title('Receiver Operating Characteristic Curve')\n",
    "    plt.legend(loc=\"lower right\")\n",
    "    plt.show()\n",
    "\n",
    "    return None"
   ]
  },
  {
   "cell_type": "code",
   "execution_count": 148,
   "id": "2e9673a8",
   "metadata": {},
   "outputs": [],
   "source": [
    "fpr, tpr, thresholds = metrics.roc_curve(y_train_pred_final.Converted, y_train_pred_final.Converted_Prob,\n",
    "                                         drop_intermediate = False)"
   ]
  },
  {
   "cell_type": "code",
   "execution_count": 149,
   "id": "7da19a31",
   "metadata": {},
   "outputs": [
    {
     "data": {
      "image/png": "[encoded data removed]",
      "text/plain": [
       "<Figure size 500x500 with 1 Axes>"
      ]
     },
     "metadata": {},
     "output_type": "display_data"
    }
   ],
   "source": [
    "# Drawing ROC curve:\n",
    "draw_roc(y_train_pred_final.Converted, y_train_pred_final.Converted_Prob)"
   ]
  },
  {
   "cell_type": "markdown",
   "id": "6aab140e",
   "metadata": {},
   "source": [
    "### Finding optimal cut-off points:"
   ]
  },
  {
   "cell_type": "code",
   "execution_count": 151,
   "id": "3fa1ca05",
   "metadata": {},
   "outputs": [
    {
     "data": {
      "text/html": [
       "<div>\n",
       "<style scoped>\n",
       "    .dataframe tbody tr th:only-of-type {\n",
       "        vertical-align: middle;\n",
       "    }\n",
       "\n",
       "    .dataframe tbody tr th {\n",
       "        vertical-align: top;\n",
       "    }\n",
       "\n",
       "    .dataframe thead th {\n",
       "        text-align: right;\n",
       "    }\n",
       "</style>\n",
       "<table border=\"1\" class=\"dataframe\">\n",
       "  <thead>\n",
       "    <tr style=\"text-align: right;\">\n",
       "      <th></th>\n",
       "      <th>Converted</th>\n",
       "      <th>Converted_Prob</th>\n",
       "      <th>Prospect ID</th>\n",
       "      <th>Predicted</th>\n",
       "      <th>0.0</th>\n",
       "      <th>0.1</th>\n",
       "      <th>0.2</th>\n",
       "      <th>0.3</th>\n",
       "      <th>0.4</th>\n",
       "      <th>0.5</th>\n",
       "      <th>0.6</th>\n",
       "      <th>0.7</th>\n",
       "      <th>0.8</th>\n",
       "      <th>0.9</th>\n",
       "    </tr>\n",
       "  </thead>\n",
       "  <tbody>\n",
       "    <tr>\n",
       "      <th>0</th>\n",
       "      <td>0</td>\n",
       "      <td>0.067845</td>\n",
       "      <td>302</td>\n",
       "      <td>0</td>\n",
       "      <td>1</td>\n",
       "      <td>0</td>\n",
       "      <td>0</td>\n",
       "      <td>0</td>\n",
       "      <td>0</td>\n",
       "      <td>0</td>\n",
       "      <td>0</td>\n",
       "      <td>0</td>\n",
       "      <td>0</td>\n",
       "      <td>0</td>\n",
       "    </tr>\n",
       "    <tr>\n",
       "      <th>1</th>\n",
       "      <td>0</td>\n",
       "      <td>0.012379</td>\n",
       "      <td>6087</td>\n",
       "      <td>0</td>\n",
       "      <td>1</td>\n",
       "      <td>0</td>\n",
       "      <td>0</td>\n",
       "      <td>0</td>\n",
       "      <td>0</td>\n",
       "      <td>0</td>\n",
       "      <td>0</td>\n",
       "      <td>0</td>\n",
       "      <td>0</td>\n",
       "      <td>0</td>\n",
       "    </tr>\n",
       "    <tr>\n",
       "      <th>2</th>\n",
       "      <td>0</td>\n",
       "      <td>0.402602</td>\n",
       "      <td>1033</td>\n",
       "      <td>0</td>\n",
       "      <td>1</td>\n",
       "      <td>1</td>\n",
       "      <td>1</td>\n",
       "      <td>1</td>\n",
       "      <td>1</td>\n",
       "      <td>0</td>\n",
       "      <td>0</td>\n",
       "      <td>0</td>\n",
       "      <td>0</td>\n",
       "      <td>0</td>\n",
       "    </tr>\n",
       "    <tr>\n",
       "      <th>3</th>\n",
       "      <td>0</td>\n",
       "      <td>0.008788</td>\n",
       "      <td>7656</td>\n",
       "      <td>0</td>\n",
       "      <td>1</td>\n",
       "      <td>0</td>\n",
       "      <td>0</td>\n",
       "      <td>0</td>\n",
       "      <td>0</td>\n",
       "      <td>0</td>\n",
       "      <td>0</td>\n",
       "      <td>0</td>\n",
       "      <td>0</td>\n",
       "      <td>0</td>\n",
       "    </tr>\n",
       "    <tr>\n",
       "      <th>4</th>\n",
       "      <td>1</td>\n",
       "      <td>0.993990</td>\n",
       "      <td>3241</td>\n",
       "      <td>1</td>\n",
       "      <td>1</td>\n",
       "      <td>1</td>\n",
       "      <td>1</td>\n",
       "      <td>1</td>\n",
       "      <td>1</td>\n",
       "      <td>1</td>\n",
       "      <td>1</td>\n",
       "      <td>1</td>\n",
       "      <td>1</td>\n",
       "      <td>1</td>\n",
       "    </tr>\n",
       "  </tbody>\n",
       "</table>\n",
       "</div>"
      ],
      "text/plain": [
       "   Converted  Converted_Prob  Prospect ID  Predicted  0.0  0.1  0.2  0.3  0.4  \\\n",
       "0          0        0.067845          302          0    1    0    0    0    0   \n",
       "1          0        0.012379         6087          0    1    0    0    0    0   \n",
       "2          0        0.402602         1033          0    1    1    1    1    1   \n",
       "3          0        0.008788         7656          0    1    0    0    0    0   \n",
       "4          1        0.993990         3241          1    1    1    1    1    1   \n",
       "\n",
       "   0.5  0.6  0.7  0.8  0.9  \n",
       "0    0    0    0    0    0  \n",
       "1    0    0    0    0    0  \n",
       "2    0    0    0    0    0  \n",
       "3    0    0    0    0    0  \n",
       "4    1    1    1    1    1  "
      ]
     },
     "execution_count": 151,
     "metadata": {},
     "output_type": "execute_result"
    }
   ],
   "source": [
    "# creatING columns with different probability cutoffs:\n",
    "numbers = [float(x)/10 for x in range(10)]\n",
    "for i in numbers:\n",
    "    y_train_pred_final[i]= y_train_pred_final.Converted_Prob.map(lambda x: 1 if x > i else 0)\n",
    "y_train_pred_final.head()"
   ]
  },
  {
   "cell_type": "code",
   "execution_count": 152,
   "id": "183769a7",
   "metadata": {},
   "outputs": [
    {
     "name": "stdout",
     "output_type": "stream",
     "text": [
      "     prob  accuracy  sensitivity  specificity\n",
      "0.0   0.0  0.381581     1.000000     0.000000\n",
      "0.1   0.1  0.811567     0.958814     0.720712\n",
      "0.2   0.2  0.883388     0.933278     0.852605\n",
      "0.3   0.3  0.901776     0.908155     0.897840\n",
      "0.4   0.4  0.910577     0.879325     0.929860\n",
      "0.5   0.5  0.910734     0.841021     0.953748\n",
      "0.6   0.6  0.909634     0.818369     0.965947\n",
      "0.7   0.7  0.903819     0.788303     0.975095\n",
      "0.8   0.8  0.889989     0.740115     0.982465\n",
      "0.9   0.9  0.871601     0.677512     0.991360\n"
     ]
    }
   ],
   "source": [
    "# Calculating accuracy sensitivity and specificity for various probability cutoffs.\n",
    "cutoff_df = pd.DataFrame( columns = ['prob','accuracy','sensitivity','specificity'])\n",
    "from sklearn.metrics import confusion_matrix\n",
    "\n",
    "# TP = confusion[1,1] # true positive \n",
    "# TN = confusion[0,0] # true negatives\n",
    "# FP = confusion[0,1] # false positives\n",
    "# FN = confusion[1,0] # false negatives\n",
    "\n",
    "num = [0.0,0.1,0.2,0.3,0.4,0.5,0.6,0.7,0.8,0.9]\n",
    "for i in num:\n",
    "    cm1 = metrics.confusion_matrix(y_train_pred_final.Converted, y_train_pred_final[i] )\n",
    "    total1=sum(sum(cm1))\n",
    "    accuracy = (cm1[0,0]+cm1[1,1])/total1\n",
    "    \n",
    "    speci = cm1[0,0]/(cm1[0,0]+cm1[0,1])\n",
    "    sensi = cm1[1,1]/(cm1[1,0]+cm1[1,1])\n",
    "    cutoff_df.loc[i] =[ i ,accuracy,sensi,speci]\n",
    "print(cutoff_df)"
   ]
  },
  {
   "cell_type": "code",
   "execution_count": 153,
   "id": "47b85a2e",
   "metadata": {},
   "outputs": [
    {
     "data": {
      "image/png": "[encoded data removed]",
      "text/plain": [
       "<Figure size 640x480 with 1 Axes>"
      ]
     },
     "metadata": {},
     "output_type": "display_data"
    }
   ],
   "source": [
    "# Plotting accuracy sensitivity and specificity for various probabilities:\n",
    "cutoff_df.plot.line(x='prob', y=['accuracy','sensitivity','specificity'])\n",
    "plt.show()"
   ]
  },
  {
   "cell_type": "code",
   "execution_count": 154,
   "id": "8eb3bd6e",
   "metadata": {},
   "outputs": [
    {
     "data": {
      "text/html": [
       "<div>\n",
       "<style scoped>\n",
       "    .dataframe tbody tr th:only-of-type {\n",
       "        vertical-align: middle;\n",
       "    }\n",
       "\n",
       "    .dataframe tbody tr th {\n",
       "        vertical-align: top;\n",
       "    }\n",
       "\n",
       "    .dataframe thead th {\n",
       "        text-align: right;\n",
       "    }\n",
       "</style>\n",
       "<table border=\"1\" class=\"dataframe\">\n",
       "  <thead>\n",
       "    <tr style=\"text-align: right;\">\n",
       "      <th></th>\n",
       "      <th>Converted</th>\n",
       "      <th>Converted_Prob</th>\n",
       "      <th>Prospect ID</th>\n",
       "      <th>Predicted</th>\n",
       "      <th>0.0</th>\n",
       "      <th>0.1</th>\n",
       "      <th>0.2</th>\n",
       "      <th>0.3</th>\n",
       "      <th>0.4</th>\n",
       "      <th>0.5</th>\n",
       "      <th>0.6</th>\n",
       "      <th>0.7</th>\n",
       "      <th>0.8</th>\n",
       "      <th>0.9</th>\n",
       "      <th>Final_Predicted</th>\n",
       "    </tr>\n",
       "  </thead>\n",
       "  <tbody>\n",
       "    <tr>\n",
       "      <th>0</th>\n",
       "      <td>0</td>\n",
       "      <td>0.067845</td>\n",
       "      <td>302</td>\n",
       "      <td>0</td>\n",
       "      <td>1</td>\n",
       "      <td>0</td>\n",
       "      <td>0</td>\n",
       "      <td>0</td>\n",
       "      <td>0</td>\n",
       "      <td>0</td>\n",
       "      <td>0</td>\n",
       "      <td>0</td>\n",
       "      <td>0</td>\n",
       "      <td>0</td>\n",
       "      <td>0</td>\n",
       "    </tr>\n",
       "    <tr>\n",
       "      <th>1</th>\n",
       "      <td>0</td>\n",
       "      <td>0.012379</td>\n",
       "      <td>6087</td>\n",
       "      <td>0</td>\n",
       "      <td>1</td>\n",
       "      <td>0</td>\n",
       "      <td>0</td>\n",
       "      <td>0</td>\n",
       "      <td>0</td>\n",
       "      <td>0</td>\n",
       "      <td>0</td>\n",
       "      <td>0</td>\n",
       "      <td>0</td>\n",
       "      <td>0</td>\n",
       "      <td>0</td>\n",
       "    </tr>\n",
       "    <tr>\n",
       "      <th>2</th>\n",
       "      <td>0</td>\n",
       "      <td>0.402602</td>\n",
       "      <td>1033</td>\n",
       "      <td>0</td>\n",
       "      <td>1</td>\n",
       "      <td>1</td>\n",
       "      <td>1</td>\n",
       "      <td>1</td>\n",
       "      <td>1</td>\n",
       "      <td>0</td>\n",
       "      <td>0</td>\n",
       "      <td>0</td>\n",
       "      <td>0</td>\n",
       "      <td>0</td>\n",
       "      <td>1</td>\n",
       "    </tr>\n",
       "    <tr>\n",
       "      <th>3</th>\n",
       "      <td>0</td>\n",
       "      <td>0.008788</td>\n",
       "      <td>7656</td>\n",
       "      <td>0</td>\n",
       "      <td>1</td>\n",
       "      <td>0</td>\n",
       "      <td>0</td>\n",
       "      <td>0</td>\n",
       "      <td>0</td>\n",
       "      <td>0</td>\n",
       "      <td>0</td>\n",
       "      <td>0</td>\n",
       "      <td>0</td>\n",
       "      <td>0</td>\n",
       "      <td>0</td>\n",
       "    </tr>\n",
       "    <tr>\n",
       "      <th>4</th>\n",
       "      <td>1</td>\n",
       "      <td>0.993990</td>\n",
       "      <td>3241</td>\n",
       "      <td>1</td>\n",
       "      <td>1</td>\n",
       "      <td>1</td>\n",
       "      <td>1</td>\n",
       "      <td>1</td>\n",
       "      <td>1</td>\n",
       "      <td>1</td>\n",
       "      <td>1</td>\n",
       "      <td>1</td>\n",
       "      <td>1</td>\n",
       "      <td>1</td>\n",
       "      <td>1</td>\n",
       "    </tr>\n",
       "  </tbody>\n",
       "</table>\n",
       "</div>"
      ],
      "text/plain": [
       "   Converted  Converted_Prob  Prospect ID  Predicted  0.0  0.1  0.2  0.3  0.4  \\\n",
       "0          0        0.067845          302          0    1    0    0    0    0   \n",
       "1          0        0.012379         6087          0    1    0    0    0    0   \n",
       "2          0        0.402602         1033          0    1    1    1    1    1   \n",
       "3          0        0.008788         7656          0    1    0    0    0    0   \n",
       "4          1        0.993990         3241          1    1    1    1    1    1   \n",
       "\n",
       "   0.5  0.6  0.7  0.8  0.9  Final_Predicted  \n",
       "0    0    0    0    0    0                0  \n",
       "1    0    0    0    0    0                0  \n",
       "2    0    0    0    0    0                1  \n",
       "3    0    0    0    0    0                0  \n",
       "4    1    1    1    1    1                1  "
      ]
     },
     "execution_count": 154,
     "metadata": {},
     "output_type": "execute_result"
    }
   ],
   "source": [
    "y_train_pred_final['Final_Predicted'] = y_train_pred_final.Converted_Prob.map( lambda x: 1 if x > 0.3 else 0)\n",
    "\n",
    "y_train_pred_final.head()"
   ]
  },
  {
   "cell_type": "code",
   "execution_count": 155,
   "id": "27d4eeb9",
   "metadata": {},
   "outputs": [
    {
     "name": "stdout",
     "output_type": "stream",
     "text": [
      "0.9017758918749018\n"
     ]
    }
   ],
   "source": [
    "# Checking the overall accuracy:\n",
    "print(metrics.accuracy_score(y_true= y_train_pred_final.Converted, y_pred= y_train_pred_final.Final_Predicted))"
   ]
  },
  {
   "cell_type": "code",
   "execution_count": 156,
   "id": "91be035b",
   "metadata": {},
   "outputs": [
    {
     "data": {
      "text/plain": [
       "array([[3533,  402],\n",
       "       [ 223, 2205]], dtype=int64)"
      ]
     },
     "execution_count": 156,
     "metadata": {},
     "output_type": "execute_result"
    }
   ],
   "source": [
    "# Let's take a look at the confusion matrix again \n",
    "confusion = metrics.confusion_matrix(y_true= y_train_pred_final.Converted, y_pred= y_train_pred_final.Final_Predicted)\n",
    "confusion\n"
   ]
  },
  {
   "cell_type": "markdown",
   "id": "1ffe49ba",
   "metadata": {},
   "source": [
    "### Metrics beyond simple accuracy with 0.3 as optimal cutoff point:"
   ]
  },
  {
   "cell_type": "code",
   "execution_count": 158,
   "id": "bde72a3b",
   "metadata": {},
   "outputs": [],
   "source": [
    "TP = confusion[1,1] # true positive \n",
    "TN = confusion[0,0] # true negatives\n",
    "FP = confusion[0,1] # false positives\n",
    "FN = confusion[1,0] # false negatives"
   ]
  },
  {
   "cell_type": "code",
   "execution_count": 159,
   "id": "1128aade",
   "metadata": {},
   "outputs": [
    {
     "data": {
      "text/plain": [
       "0.908154859967051"
      ]
     },
     "execution_count": 159,
     "metadata": {},
     "output_type": "execute_result"
    }
   ],
   "source": [
    "# Sensitivity of our logistic regression model:\n",
    "TP / float(TP+FN)"
   ]
  },
  {
   "cell_type": "code",
   "execution_count": 160,
   "id": "196e545d",
   "metadata": {},
   "outputs": [
    {
     "data": {
      "text/plain": [
       "0.8978398983481576"
      ]
     },
     "execution_count": 160,
     "metadata": {},
     "output_type": "execute_result"
    }
   ],
   "source": [
    "# Specificity of our logistic regression model:\n",
    "TN / float(TN+FP)"
   ]
  },
  {
   "cell_type": "code",
   "execution_count": 161,
   "id": "22dfcdfc",
   "metadata": {},
   "outputs": [
    {
     "name": "stdout",
     "output_type": "stream",
     "text": [
      "0.10216010165184244\n"
     ]
    }
   ],
   "source": [
    "# Calculating false postive rate - \n",
    "print(FP/ float(TN+FP))"
   ]
  },
  {
   "cell_type": "code",
   "execution_count": 162,
   "id": "7c4b52b3",
   "metadata": {},
   "outputs": [
    {
     "name": "stdout",
     "output_type": "stream",
     "text": [
      "0.8457997698504027\n"
     ]
    }
   ],
   "source": [
    "# Positive predictive value \n",
    "print (TP / float(TP+FP))"
   ]
  },
  {
   "cell_type": "code",
   "execution_count": 163,
   "id": "47f25f8d",
   "metadata": {},
   "outputs": [
    {
     "name": "stdout",
     "output_type": "stream",
     "text": [
      "0.9406283280085197\n"
     ]
    }
   ],
   "source": [
    "# Negative predictive value\n",
    "print (TN / float(TN+ FN))\n"
   ]
  },
  {
   "cell_type": "markdown",
   "id": "ba7cd5ab",
   "metadata": {},
   "source": [
    "### Precision and Recall:"
   ]
  },
  {
   "cell_type": "code",
   "execution_count": 165,
   "id": "8cc2a60a",
   "metadata": {},
   "outputs": [
    {
     "data": {
      "text/plain": [
       "0.8457997698504027"
      ]
     },
     "execution_count": 165,
     "metadata": {},
     "output_type": "execute_result"
    }
   ],
   "source": [
    "# Precision Score:\n",
    "precision_score(y_train_pred_final.Converted, y_train_pred_final.Final_Predicted)"
   ]
  },
  {
   "cell_type": "code",
   "execution_count": 166,
   "id": "3c601874",
   "metadata": {},
   "outputs": [
    {
     "data": {
      "text/plain": [
       "0.908154859967051"
      ]
     },
     "execution_count": 166,
     "metadata": {},
     "output_type": "execute_result"
    }
   ],
   "source": [
    "# Recall Score\n",
    "recall_score(y_train_pred_final.Converted, y_train_pred_final.Final_Predicted)"
   ]
  },
  {
   "cell_type": "markdown",
   "id": "8bd9e210",
   "metadata": {},
   "source": [
    "### Precision and Recall Tradeoff:"
   ]
  },
  {
   "cell_type": "code",
   "execution_count": 168,
   "id": "99bb1f4c",
   "metadata": {},
   "outputs": [],
   "source": [
    "# Calculating the tradeoff between precision and recall:\n",
    "p, r, thresholds = precision_recall_curve(y_train_pred_final.Converted, y_train_pred_final.Converted_Prob)"
   ]
  },
  {
   "cell_type": "code",
   "execution_count": 169,
   "id": "babf3659",
   "metadata": {},
   "outputs": [
    {
     "data": {
      "image/png": "[encoded data removed]",
      "text/plain": [
       "<Figure size 640x480 with 1 Axes>"
      ]
     },
     "metadata": {},
     "output_type": "display_data"
    }
   ],
   "source": [
    "# Plotting precision and recall and finding the tradeoff:\n",
    "plt.plot(thresholds, p[:-1])\n",
    "plt.plot(thresholds, r[:-1])\n",
    "plt.show()"
   ]
  },
  {
   "cell_type": "markdown",
   "id": "76eadd04",
   "metadata": {},
   "source": [
    "### Make predictions on the test set:"
   ]
  },
  {
   "cell_type": "code",
   "execution_count": 171,
   "id": "4b3bb43f",
   "metadata": {},
   "outputs": [],
   "source": [
    "# Scaling the Numerical Variables\n",
    "X_test[num_cols] = scaler.transform(X_test[num_cols])"
   ]
  },
  {
   "cell_type": "code",
   "execution_count": 172,
   "id": "02e4bd28",
   "metadata": {},
   "outputs": [
    {
     "data": {
      "text/html": [
       "<div>\n",
       "<style scoped>\n",
       "    .dataframe tbody tr th:only-of-type {\n",
       "        vertical-align: middle;\n",
       "    }\n",
       "\n",
       "    .dataframe tbody tr th {\n",
       "        vertical-align: top;\n",
       "    }\n",
       "\n",
       "    .dataframe thead th {\n",
       "        text-align: right;\n",
       "    }\n",
       "</style>\n",
       "<table border=\"1\" class=\"dataframe\">\n",
       "  <thead>\n",
       "    <tr style=\"text-align: right;\">\n",
       "      <th></th>\n",
       "      <th>Do Not Email</th>\n",
       "      <th>Total Time Spent on Website</th>\n",
       "      <th>Lead_Origin_Lead Add Form</th>\n",
       "      <th>Lead_Source_Olark Chat</th>\n",
       "      <th>Lead_Source_Welingak Website</th>\n",
       "      <th>Last_Activity_SMS Sent</th>\n",
       "      <th>Specialization_Travel and Tourism</th>\n",
       "      <th>Occupation_Not Specified</th>\n",
       "      <th>Tags_Already a student</th>\n",
       "      <th>Tags_Closed by Horizzon</th>\n",
       "      <th>Tags_Interested in other courses</th>\n",
       "      <th>Tags_Other Tags</th>\n",
       "      <th>Tags_Ringing</th>\n",
       "      <th>Tags_Will revert after reading the email</th>\n",
       "      <th>Last_Notable_Activity_Modified</th>\n",
       "      <th>Last_Notable_Activity_Olark Chat Conversation</th>\n",
       "    </tr>\n",
       "  </thead>\n",
       "  <tbody>\n",
       "    <tr>\n",
       "      <th>6906</th>\n",
       "      <td>0</td>\n",
       "      <td>1.919395</td>\n",
       "      <td>0</td>\n",
       "      <td>0</td>\n",
       "      <td>0</td>\n",
       "      <td>1</td>\n",
       "      <td>0</td>\n",
       "      <td>0</td>\n",
       "      <td>0</td>\n",
       "      <td>0</td>\n",
       "      <td>0</td>\n",
       "      <td>0</td>\n",
       "      <td>0</td>\n",
       "      <td>1</td>\n",
       "      <td>0</td>\n",
       "      <td>0</td>\n",
       "    </tr>\n",
       "    <tr>\n",
       "      <th>1873</th>\n",
       "      <td>0</td>\n",
       "      <td>-0.546142</td>\n",
       "      <td>0</td>\n",
       "      <td>0</td>\n",
       "      <td>0</td>\n",
       "      <td>1</td>\n",
       "      <td>0</td>\n",
       "      <td>0</td>\n",
       "      <td>0</td>\n",
       "      <td>0</td>\n",
       "      <td>1</td>\n",
       "      <td>0</td>\n",
       "      <td>0</td>\n",
       "      <td>0</td>\n",
       "      <td>1</td>\n",
       "      <td>0</td>\n",
       "    </tr>\n",
       "    <tr>\n",
       "      <th>771</th>\n",
       "      <td>0</td>\n",
       "      <td>-0.797465</td>\n",
       "      <td>0</td>\n",
       "      <td>0</td>\n",
       "      <td>0</td>\n",
       "      <td>0</td>\n",
       "      <td>0</td>\n",
       "      <td>0</td>\n",
       "      <td>0</td>\n",
       "      <td>0</td>\n",
       "      <td>0</td>\n",
       "      <td>0</td>\n",
       "      <td>1</td>\n",
       "      <td>0</td>\n",
       "      <td>0</td>\n",
       "      <td>0</td>\n",
       "    </tr>\n",
       "    <tr>\n",
       "      <th>4495</th>\n",
       "      <td>0</td>\n",
       "      <td>-0.623190</td>\n",
       "      <td>0</td>\n",
       "      <td>0</td>\n",
       "      <td>0</td>\n",
       "      <td>0</td>\n",
       "      <td>0</td>\n",
       "      <td>0</td>\n",
       "      <td>0</td>\n",
       "      <td>0</td>\n",
       "      <td>0</td>\n",
       "      <td>0</td>\n",
       "      <td>1</td>\n",
       "      <td>0</td>\n",
       "      <td>0</td>\n",
       "      <td>0</td>\n",
       "    </tr>\n",
       "    <tr>\n",
       "      <th>9061</th>\n",
       "      <td>0</td>\n",
       "      <td>2.392690</td>\n",
       "      <td>0</td>\n",
       "      <td>0</td>\n",
       "      <td>0</td>\n",
       "      <td>0</td>\n",
       "      <td>0</td>\n",
       "      <td>1</td>\n",
       "      <td>0</td>\n",
       "      <td>0</td>\n",
       "      <td>0</td>\n",
       "      <td>1</td>\n",
       "      <td>0</td>\n",
       "      <td>0</td>\n",
       "      <td>1</td>\n",
       "      <td>0</td>\n",
       "    </tr>\n",
       "  </tbody>\n",
       "</table>\n",
       "</div>"
      ],
      "text/plain": [
       "      Do Not Email  Total Time Spent on Website  Lead_Origin_Lead Add Form  \\\n",
       "6906             0                     1.919395                          0   \n",
       "1873             0                    -0.546142                          0   \n",
       "771              0                    -0.797465                          0   \n",
       "4495             0                    -0.623190                          0   \n",
       "9061             0                     2.392690                          0   \n",
       "\n",
       "      Lead_Source_Olark Chat  Lead_Source_Welingak Website  \\\n",
       "6906                       0                             0   \n",
       "1873                       0                             0   \n",
       "771                        0                             0   \n",
       "4495                       0                             0   \n",
       "9061                       0                             0   \n",
       "\n",
       "      Last_Activity_SMS Sent  Specialization_Travel and Tourism  \\\n",
       "6906                       1                                  0   \n",
       "1873                       1                                  0   \n",
       "771                        0                                  0   \n",
       "4495                       0                                  0   \n",
       "9061                       0                                  0   \n",
       "\n",
       "      Occupation_Not Specified  Tags_Already a student  \\\n",
       "6906                         0                       0   \n",
       "1873                         0                       0   \n",
       "771                          0                       0   \n",
       "4495                         0                       0   \n",
       "9061                         1                       0   \n",
       "\n",
       "      Tags_Closed by Horizzon  Tags_Interested in other courses  \\\n",
       "6906                        0                                 0   \n",
       "1873                        0                                 1   \n",
       "771                         0                                 0   \n",
       "4495                        0                                 0   \n",
       "9061                        0                                 0   \n",
       "\n",
       "      Tags_Other Tags  Tags_Ringing  Tags_Will revert after reading the email  \\\n",
       "6906                0             0                                         1   \n",
       "1873                0             0                                         0   \n",
       "771                 0             1                                         0   \n",
       "4495                0             1                                         0   \n",
       "9061                1             0                                         0   \n",
       "\n",
       "      Last_Notable_Activity_Modified  \\\n",
       "6906                               0   \n",
       "1873                               1   \n",
       "771                                0   \n",
       "4495                               0   \n",
       "9061                               1   \n",
       "\n",
       "      Last_Notable_Activity_Olark Chat Conversation  \n",
       "6906                                              0  \n",
       "1873                                              0  \n",
       "771                                               0  \n",
       "4495                                              0  \n",
       "9061                                              0  "
      ]
     },
     "execution_count": 172,
     "metadata": {},
     "output_type": "execute_result"
    }
   ],
   "source": [
    "# Checking head of test set:\n",
    "X_test = X_test[col]\n",
    "X_test.head()"
   ]
  },
  {
   "cell_type": "code",
   "execution_count": 173,
   "id": "417ef850",
   "metadata": {},
   "outputs": [],
   "source": [
    "# Adding constant:\n",
    "X_test_sm = sm.add_constant(X_test)"
   ]
  },
  {
   "cell_type": "code",
   "execution_count": 174,
   "id": "d6211675",
   "metadata": {},
   "outputs": [
    {
     "data": {
      "text/plain": [
       "6906    0.998022\n",
       "1873    0.018726\n",
       "771     0.004199\n",
       "4495    0.005074\n",
       "9061    0.164814\n",
       "dtype: float64"
      ]
     },
     "execution_count": 174,
     "metadata": {},
     "output_type": "execute_result"
    }
   ],
   "source": [
    "# Predictions on test set:\n",
    "y_test_pred = res.predict(X_test_sm)\n",
    "y_test_pred.head()"
   ]
  },
  {
   "cell_type": "code",
   "execution_count": 175,
   "id": "1fcb9576",
   "metadata": {},
   "outputs": [
    {
     "data": {
      "text/html": [
       "<div>\n",
       "<style scoped>\n",
       "    .dataframe tbody tr th:only-of-type {\n",
       "        vertical-align: middle;\n",
       "    }\n",
       "\n",
       "    .dataframe tbody tr th {\n",
       "        vertical-align: top;\n",
       "    }\n",
       "\n",
       "    .dataframe thead th {\n",
       "        text-align: right;\n",
       "    }\n",
       "</style>\n",
       "<table border=\"1\" class=\"dataframe\">\n",
       "  <thead>\n",
       "    <tr style=\"text-align: right;\">\n",
       "      <th></th>\n",
       "      <th>0</th>\n",
       "    </tr>\n",
       "  </thead>\n",
       "  <tbody>\n",
       "    <tr>\n",
       "      <th>6906</th>\n",
       "      <td>0.998022</td>\n",
       "    </tr>\n",
       "    <tr>\n",
       "      <th>1873</th>\n",
       "      <td>0.018726</td>\n",
       "    </tr>\n",
       "    <tr>\n",
       "      <th>771</th>\n",
       "      <td>0.004199</td>\n",
       "    </tr>\n",
       "    <tr>\n",
       "      <th>4495</th>\n",
       "      <td>0.005074</td>\n",
       "    </tr>\n",
       "    <tr>\n",
       "      <th>9061</th>\n",
       "      <td>0.164814</td>\n",
       "    </tr>\n",
       "  </tbody>\n",
       "</table>\n",
       "</div>"
      ],
      "text/plain": [
       "             0\n",
       "6906  0.998022\n",
       "1873  0.018726\n",
       "771   0.004199\n",
       "4495  0.005074\n",
       "9061  0.164814"
      ]
     },
     "execution_count": 175,
     "metadata": {},
     "output_type": "execute_result"
    }
   ],
   "source": [
    "# Converting y_pred to a DataFrame\n",
    "y_pred_1 = pd.DataFrame(y_test_pred)\n",
    "y_pred_1.head()"
   ]
  },
  {
   "cell_type": "code",
   "execution_count": 176,
   "id": "98c2723d",
   "metadata": {},
   "outputs": [],
   "source": [
    "# Converting y_test to DataFrame:\n",
    "y_test_df = pd.DataFrame(y_test)"
   ]
  },
  {
   "cell_type": "code",
   "execution_count": 177,
   "id": "2411bf58",
   "metadata": {},
   "outputs": [],
   "source": [
    "# Putting 'Prospect ID' to index:\n",
    "y_test_df['Prospect ID'] = y_test_df.index"
   ]
  },
  {
   "cell_type": "code",
   "execution_count": 178,
   "id": "16f277bc",
   "metadata": {},
   "outputs": [],
   "source": [
    "# Removing index for both DataFrames to concatenate them side by side:\n",
    "y_pred_1.reset_index(drop= True, inplace= True)\n",
    "y_test_df.reset_index(drop= True, inplace= True)"
   ]
  },
  {
   "cell_type": "code",
   "execution_count": 179,
   "id": "4dc77151",
   "metadata": {},
   "outputs": [
    {
     "data": {
      "text/html": [
       "<div>\n",
       "<style scoped>\n",
       "    .dataframe tbody tr th:only-of-type {\n",
       "        vertical-align: middle;\n",
       "    }\n",
       "\n",
       "    .dataframe tbody tr th {\n",
       "        vertical-align: top;\n",
       "    }\n",
       "\n",
       "    .dataframe thead th {\n",
       "        text-align: right;\n",
       "    }\n",
       "</style>\n",
       "<table border=\"1\" class=\"dataframe\">\n",
       "  <thead>\n",
       "    <tr style=\"text-align: right;\">\n",
       "      <th></th>\n",
       "      <th>Converted</th>\n",
       "      <th>Prospect ID</th>\n",
       "      <th>0</th>\n",
       "    </tr>\n",
       "  </thead>\n",
       "  <tbody>\n",
       "    <tr>\n",
       "      <th>0</th>\n",
       "      <td>1</td>\n",
       "      <td>6906</td>\n",
       "      <td>0.998022</td>\n",
       "    </tr>\n",
       "    <tr>\n",
       "      <th>1</th>\n",
       "      <td>0</td>\n",
       "      <td>1873</td>\n",
       "      <td>0.018726</td>\n",
       "    </tr>\n",
       "    <tr>\n",
       "      <th>2</th>\n",
       "      <td>0</td>\n",
       "      <td>771</td>\n",
       "      <td>0.004199</td>\n",
       "    </tr>\n",
       "    <tr>\n",
       "      <th>3</th>\n",
       "      <td>0</td>\n",
       "      <td>4495</td>\n",
       "      <td>0.005074</td>\n",
       "    </tr>\n",
       "    <tr>\n",
       "      <th>4</th>\n",
       "      <td>1</td>\n",
       "      <td>9061</td>\n",
       "      <td>0.164814</td>\n",
       "    </tr>\n",
       "  </tbody>\n",
       "</table>\n",
       "</div>"
      ],
      "text/plain": [
       "   Converted  Prospect ID         0\n",
       "0          1         6906  0.998022\n",
       "1          0         1873  0.018726\n",
       "2          0          771  0.004199\n",
       "3          0         4495  0.005074\n",
       "4          1         9061  0.164814"
      ]
     },
     "execution_count": 179,
     "metadata": {},
     "output_type": "execute_result"
    }
   ],
   "source": [
    "# Concatenating y_test_df and y_pred_1:\n",
    "y_pred_final = pd.concat([y_test_df, y_pred_1], axis = 1)\n",
    "y_pred_final.head()"
   ]
  },
  {
   "cell_type": "code",
   "execution_count": 180,
   "id": "46b6c02a",
   "metadata": {},
   "outputs": [],
   "source": [
    "# Renaming the column:\n",
    "y_pred_final = y_pred_final.rename(columns = {0: 'Converted_Prob'})"
   ]
  },
  {
   "cell_type": "code",
   "execution_count": 181,
   "id": "b55ff24f",
   "metadata": {},
   "outputs": [
    {
     "data": {
      "text/html": [
       "<div>\n",
       "<style scoped>\n",
       "    .dataframe tbody tr th:only-of-type {\n",
       "        vertical-align: middle;\n",
       "    }\n",
       "\n",
       "    .dataframe tbody tr th {\n",
       "        vertical-align: top;\n",
       "    }\n",
       "\n",
       "    .dataframe thead th {\n",
       "        text-align: right;\n",
       "    }\n",
       "</style>\n",
       "<table border=\"1\" class=\"dataframe\">\n",
       "  <thead>\n",
       "    <tr style=\"text-align: right;\">\n",
       "      <th></th>\n",
       "      <th>Prospect ID</th>\n",
       "      <th>Converted</th>\n",
       "      <th>Converted_Prob</th>\n",
       "    </tr>\n",
       "  </thead>\n",
       "  <tbody>\n",
       "    <tr>\n",
       "      <th>0</th>\n",
       "      <td>6906</td>\n",
       "      <td>1</td>\n",
       "      <td>0.998022</td>\n",
       "    </tr>\n",
       "    <tr>\n",
       "      <th>1</th>\n",
       "      <td>1873</td>\n",
       "      <td>0</td>\n",
       "      <td>0.018726</td>\n",
       "    </tr>\n",
       "    <tr>\n",
       "      <th>2</th>\n",
       "      <td>771</td>\n",
       "      <td>0</td>\n",
       "      <td>0.004199</td>\n",
       "    </tr>\n",
       "    <tr>\n",
       "      <th>3</th>\n",
       "      <td>4495</td>\n",
       "      <td>0</td>\n",
       "      <td>0.005074</td>\n",
       "    </tr>\n",
       "    <tr>\n",
       "      <th>4</th>\n",
       "      <td>9061</td>\n",
       "      <td>1</td>\n",
       "      <td>0.164814</td>\n",
       "    </tr>\n",
       "  </tbody>\n",
       "</table>\n",
       "</div>"
      ],
      "text/plain": [
       "   Prospect ID  Converted  Converted_Prob\n",
       "0         6906          1        0.998022\n",
       "1         1873          0        0.018726\n",
       "2          771          0        0.004199\n",
       "3         4495          0        0.005074\n",
       "4         9061          1        0.164814"
      ]
     },
     "execution_count": 181,
     "metadata": {},
     "output_type": "execute_result"
    }
   ],
   "source": [
    "# Rearranging the columns:\n",
    "y_pred_final = y_pred_final[['Prospect ID', 'Converted', 'Converted_Prob']]\n",
    "y_pred_final.head()"
   ]
  },
  {
   "cell_type": "code",
   "execution_count": 182,
   "id": "c9eeb3e3",
   "metadata": {},
   "outputs": [
    {
     "data": {
      "text/html": [
       "<div>\n",
       "<style scoped>\n",
       "    .dataframe tbody tr th:only-of-type {\n",
       "        vertical-align: middle;\n",
       "    }\n",
       "\n",
       "    .dataframe tbody tr th {\n",
       "        vertical-align: top;\n",
       "    }\n",
       "\n",
       "    .dataframe thead th {\n",
       "        text-align: right;\n",
       "    }\n",
       "</style>\n",
       "<table border=\"1\" class=\"dataframe\">\n",
       "  <thead>\n",
       "    <tr style=\"text-align: right;\">\n",
       "      <th></th>\n",
       "      <th>Prospect ID</th>\n",
       "      <th>Converted</th>\n",
       "      <th>Converted_Prob</th>\n",
       "      <th>Final_Predicted</th>\n",
       "    </tr>\n",
       "  </thead>\n",
       "  <tbody>\n",
       "    <tr>\n",
       "      <th>0</th>\n",
       "      <td>6906</td>\n",
       "      <td>1</td>\n",
       "      <td>0.998022</td>\n",
       "      <td>1</td>\n",
       "    </tr>\n",
       "    <tr>\n",
       "      <th>1</th>\n",
       "      <td>1873</td>\n",
       "      <td>0</td>\n",
       "      <td>0.018726</td>\n",
       "      <td>0</td>\n",
       "    </tr>\n",
       "    <tr>\n",
       "      <th>2</th>\n",
       "      <td>771</td>\n",
       "      <td>0</td>\n",
       "      <td>0.004199</td>\n",
       "      <td>0</td>\n",
       "    </tr>\n",
       "    <tr>\n",
       "      <th>3</th>\n",
       "      <td>4495</td>\n",
       "      <td>0</td>\n",
       "      <td>0.005074</td>\n",
       "      <td>0</td>\n",
       "    </tr>\n",
       "    <tr>\n",
       "      <th>4</th>\n",
       "      <td>9061</td>\n",
       "      <td>1</td>\n",
       "      <td>0.164814</td>\n",
       "      <td>0</td>\n",
       "    </tr>\n",
       "  </tbody>\n",
       "</table>\n",
       "</div>"
      ],
      "text/plain": [
       "   Prospect ID  Converted  Converted_Prob  Final_Predicted\n",
       "0         6906          1        0.998022                1\n",
       "1         1873          0        0.018726                0\n",
       "2          771          0        0.004199                0\n",
       "3         4495          0        0.005074                0\n",
       "4         9061          1        0.164814                0"
      ]
     },
     "execution_count": 182,
     "metadata": {},
     "output_type": "execute_result"
    }
   ],
   "source": [
    "# Adding the final predicted column:\n",
    "y_pred_final['Final_Predicted'] = y_pred_final.Converted_Prob.map(lambda x: 1 if x > 0.3 else 0)\n",
    "y_pred_final.head()"
   ]
  },
  {
   "cell_type": "code",
   "execution_count": 183,
   "id": "ff3265ae",
   "metadata": {},
   "outputs": [
    {
     "data": {
      "text/plain": [
       "0.9094242757609095"
      ]
     },
     "execution_count": 183,
     "metadata": {},
     "output_type": "execute_result"
    }
   ],
   "source": [
    "# Overall Accuracy:\n",
    "metrics.accuracy_score(y_true= y_pred_final.Converted, y_pred= y_pred_final.Final_Predicted)"
   ]
  },
  {
   "cell_type": "code",
   "execution_count": 184,
   "id": "530b2084",
   "metadata": {},
   "outputs": [
    {
     "data": {
      "text/plain": [
       "array([[1505,  155],\n",
       "       [  92,  975]], dtype=int64)"
      ]
     },
     "execution_count": 184,
     "metadata": {},
     "output_type": "execute_result"
    }
   ],
   "source": [
    "# Confusion Matrix:\n",
    "confusion2 = metrics.confusion_matrix(y_true= y_pred_final.Converted, y_pred= y_pred_final.Final_Predicted)\n",
    "confusion2"
   ]
  },
  {
   "cell_type": "code",
   "execution_count": 185,
   "id": "d33dec51",
   "metadata": {},
   "outputs": [],
   "source": [
    "TP = confusion2[1,1]\n",
    "TN = confusion2[0,0]\n",
    "FP = confusion2[0,1]\n",
    "FN = confusion2[1,0]"
   ]
  },
  {
   "cell_type": "code",
   "execution_count": 186,
   "id": "835ed86a",
   "metadata": {},
   "outputs": [
    {
     "data": {
      "text/plain": [
       "0.9137769447047798"
      ]
     },
     "execution_count": 186,
     "metadata": {},
     "output_type": "execute_result"
    }
   ],
   "source": [
    "# Sensitivity of our logistic regression model:\n",
    "TP / float(TP+FN)"
   ]
  },
  {
   "cell_type": "code",
   "execution_count": 187,
   "id": "34a40b9a",
   "metadata": {},
   "outputs": [
    {
     "data": {
      "text/plain": [
       "0.9066265060240963"
      ]
     },
     "execution_count": 187,
     "metadata": {},
     "output_type": "execute_result"
    }
   ],
   "source": [
    "# Specificity of our logistic regression model:\n",
    "TN / float(TN+FP)"
   ]
  },
  {
   "cell_type": "code",
   "execution_count": 188,
   "id": "36fe9511",
   "metadata": {},
   "outputs": [
    {
     "name": "stdout",
     "output_type": "stream",
     "text": [
      "0.09337349397590361\n"
     ]
    }
   ],
   "source": [
    "# CalculatING false postive rate:\n",
    "print(FP/ float(TN+FP))"
   ]
  },
  {
   "cell_type": "code",
   "execution_count": 189,
   "id": "92c03444",
   "metadata": {},
   "outputs": [
    {
     "name": "stdout",
     "output_type": "stream",
     "text": [
      "0.8628318584070797\n"
     ]
    }
   ],
   "source": [
    "# Positive predictive value :\n",
    "print (TP / float(TP+FP))"
   ]
  },
  {
   "cell_type": "code",
   "execution_count": 190,
   "id": "845496db",
   "metadata": {},
   "outputs": [
    {
     "name": "stdout",
     "output_type": "stream",
     "text": [
      "0.9423919849718222\n"
     ]
    }
   ],
   "source": [
    "# Negative predictive value:\n",
    "print (TN / float(TN+ FN))"
   ]
  },
  {
   "cell_type": "code",
   "execution_count": 191,
   "id": "ad547328",
   "metadata": {},
   "outputs": [
    {
     "data": {
      "text/plain": [
       "0.8628318584070797"
      ]
     },
     "execution_count": 191,
     "metadata": {},
     "output_type": "execute_result"
    }
   ],
   "source": [
    "# Precision Score:\n",
    "precision_score(y_pred_final.Converted, y_pred_final.Final_Predicted)"
   ]
  },
  {
   "cell_type": "code",
   "execution_count": 192,
   "id": "c6eb9b2c",
   "metadata": {},
   "outputs": [
    {
     "data": {
      "text/plain": [
       "0.9137769447047798"
      ]
     },
     "execution_count": 192,
     "metadata": {},
     "output_type": "execute_result"
    }
   ],
   "source": [
    "# Recall Score\n",
    "recall_score(y_pred_final.Converted, y_pred_final.Final_Predicted)"
   ]
  },
  {
   "cell_type": "markdown",
   "id": "1722936b",
   "metadata": {},
   "source": [
    "### Assigned lead score to testing the data:"
   ]
  },
  {
   "cell_type": "code",
   "execution_count": 194,
   "id": "68642065",
   "metadata": {},
   "outputs": [
    {
     "data": {
      "text/html": [
       "<div>\n",
       "<style scoped>\n",
       "    .dataframe tbody tr th:only-of-type {\n",
       "        vertical-align: middle;\n",
       "    }\n",
       "\n",
       "    .dataframe tbody tr th {\n",
       "        vertical-align: top;\n",
       "    }\n",
       "\n",
       "    .dataframe thead th {\n",
       "        text-align: right;\n",
       "    }\n",
       "</style>\n",
       "<table border=\"1\" class=\"dataframe\">\n",
       "  <thead>\n",
       "    <tr style=\"text-align: right;\">\n",
       "      <th></th>\n",
       "      <th>Prospect ID</th>\n",
       "      <th>Converted</th>\n",
       "      <th>Converted_Prob</th>\n",
       "      <th>Final_Predicted</th>\n",
       "      <th>Lead_Score</th>\n",
       "    </tr>\n",
       "  </thead>\n",
       "  <tbody>\n",
       "    <tr>\n",
       "      <th>0</th>\n",
       "      <td>6906</td>\n",
       "      <td>1</td>\n",
       "      <td>0.998022</td>\n",
       "      <td>1</td>\n",
       "      <td>100</td>\n",
       "    </tr>\n",
       "    <tr>\n",
       "      <th>1</th>\n",
       "      <td>1873</td>\n",
       "      <td>0</td>\n",
       "      <td>0.018726</td>\n",
       "      <td>0</td>\n",
       "      <td>2</td>\n",
       "    </tr>\n",
       "    <tr>\n",
       "      <th>2</th>\n",
       "      <td>771</td>\n",
       "      <td>0</td>\n",
       "      <td>0.004199</td>\n",
       "      <td>0</td>\n",
       "      <td>0</td>\n",
       "    </tr>\n",
       "    <tr>\n",
       "      <th>3</th>\n",
       "      <td>4495</td>\n",
       "      <td>0</td>\n",
       "      <td>0.005074</td>\n",
       "      <td>0</td>\n",
       "      <td>1</td>\n",
       "    </tr>\n",
       "    <tr>\n",
       "      <th>4</th>\n",
       "      <td>9061</td>\n",
       "      <td>1</td>\n",
       "      <td>0.164814</td>\n",
       "      <td>0</td>\n",
       "      <td>16</td>\n",
       "    </tr>\n",
       "  </tbody>\n",
       "</table>\n",
       "</div>"
      ],
      "text/plain": [
       "   Prospect ID  Converted  Converted_Prob  Final_Predicted  Lead_Score\n",
       "0         6906          1        0.998022                1         100\n",
       "1         1873          0        0.018726                0           2\n",
       "2          771          0        0.004199                0           0\n",
       "3         4495          0        0.005074                0           1\n",
       "4         9061          1        0.164814                0          16"
      ]
     },
     "execution_count": 194,
     "metadata": {},
     "output_type": "execute_result"
    }
   ],
   "source": [
    "# Assigning lead scores:\n",
    "y_pred_final['Lead_Score'] = y_pred_final.Converted_Prob.map( lambda x: round(x*100))\n",
    "y_pred_final.head()"
   ]
  },
  {
   "cell_type": "markdown",
   "id": "590fca6e",
   "metadata": {},
   "source": [
    "-  <b>The customers whose lead score is equal to or more than 85 should be contacted. They are termed as Hot Leads<B>"
   ]
  },
  {
   "cell_type": "code",
   "execution_count": 196,
   "id": "18f221e1",
   "metadata": {},
   "outputs": [
    {
     "data": {
      "text/html": [
       "<div>\n",
       "<style scoped>\n",
       "    .dataframe tbody tr th:only-of-type {\n",
       "        vertical-align: middle;\n",
       "    }\n",
       "\n",
       "    .dataframe tbody tr th {\n",
       "        vertical-align: top;\n",
       "    }\n",
       "\n",
       "    .dataframe thead th {\n",
       "        text-align: right;\n",
       "    }\n",
       "</style>\n",
       "<table border=\"1\" class=\"dataframe\">\n",
       "  <thead>\n",
       "    <tr style=\"text-align: right;\">\n",
       "      <th></th>\n",
       "      <th>Prospect ID</th>\n",
       "      <th>Converted</th>\n",
       "      <th>Converted_Prob</th>\n",
       "      <th>Final_Predicted</th>\n",
       "      <th>Lead_Score</th>\n",
       "    </tr>\n",
       "  </thead>\n",
       "  <tbody>\n",
       "    <tr>\n",
       "      <th>0</th>\n",
       "      <td>6906</td>\n",
       "      <td>1</td>\n",
       "      <td>0.998022</td>\n",
       "      <td>1</td>\n",
       "      <td>100</td>\n",
       "    </tr>\n",
       "    <tr>\n",
       "      <th>9</th>\n",
       "      <td>7008</td>\n",
       "      <td>1</td>\n",
       "      <td>0.968745</td>\n",
       "      <td>1</td>\n",
       "      <td>97</td>\n",
       "    </tr>\n",
       "    <tr>\n",
       "      <th>11</th>\n",
       "      <td>3074</td>\n",
       "      <td>1</td>\n",
       "      <td>0.977028</td>\n",
       "      <td>1</td>\n",
       "      <td>98</td>\n",
       "    </tr>\n",
       "    <tr>\n",
       "      <th>13</th>\n",
       "      <td>6163</td>\n",
       "      <td>1</td>\n",
       "      <td>0.972033</td>\n",
       "      <td>1</td>\n",
       "      <td>97</td>\n",
       "    </tr>\n",
       "    <tr>\n",
       "      <th>16</th>\n",
       "      <td>6482</td>\n",
       "      <td>1</td>\n",
       "      <td>0.845816</td>\n",
       "      <td>1</td>\n",
       "      <td>85</td>\n",
       "    </tr>\n",
       "    <tr>\n",
       "      <th>...</th>\n",
       "      <td>...</td>\n",
       "      <td>...</td>\n",
       "      <td>...</td>\n",
       "      <td>...</td>\n",
       "      <td>...</td>\n",
       "    </tr>\n",
       "    <tr>\n",
       "      <th>2716</th>\n",
       "      <td>309</td>\n",
       "      <td>1</td>\n",
       "      <td>0.893479</td>\n",
       "      <td>1</td>\n",
       "      <td>89</td>\n",
       "    </tr>\n",
       "    <tr>\n",
       "      <th>2717</th>\n",
       "      <td>9234</td>\n",
       "      <td>1</td>\n",
       "      <td>0.931237</td>\n",
       "      <td>1</td>\n",
       "      <td>93</td>\n",
       "    </tr>\n",
       "    <tr>\n",
       "      <th>2718</th>\n",
       "      <td>8028</td>\n",
       "      <td>1</td>\n",
       "      <td>0.939947</td>\n",
       "      <td>1</td>\n",
       "      <td>94</td>\n",
       "    </tr>\n",
       "    <tr>\n",
       "      <th>2719</th>\n",
       "      <td>5807</td>\n",
       "      <td>1</td>\n",
       "      <td>0.994227</td>\n",
       "      <td>1</td>\n",
       "      <td>99</td>\n",
       "    </tr>\n",
       "    <tr>\n",
       "      <th>2723</th>\n",
       "      <td>1540</td>\n",
       "      <td>1</td>\n",
       "      <td>0.923401</td>\n",
       "      <td>1</td>\n",
       "      <td>92</td>\n",
       "    </tr>\n",
       "  </tbody>\n",
       "</table>\n",
       "<p>787 rows × 5 columns</p>\n",
       "</div>"
      ],
      "text/plain": [
       "      Prospect ID  Converted  Converted_Prob  Final_Predicted  Lead_Score\n",
       "0            6906          1        0.998022                1         100\n",
       "9            7008          1        0.968745                1          97\n",
       "11           3074          1        0.977028                1          98\n",
       "13           6163          1        0.972033                1          97\n",
       "16           6482          1        0.845816                1          85\n",
       "...           ...        ...             ...              ...         ...\n",
       "2716          309          1        0.893479                1          89\n",
       "2717         9234          1        0.931237                1          93\n",
       "2718         8028          1        0.939947                1          94\n",
       "2719         5807          1        0.994227                1          99\n",
       "2723         1540          1        0.923401                1          92\n",
       "\n",
       "[787 rows x 5 columns]"
      ]
     },
     "execution_count": 196,
     "metadata": {},
     "output_type": "execute_result"
    }
   ],
   "source": [
    "# Customers whose lead score is equal to or more than 85.\n",
    "hot_leads=y_pred_final.loc[y_pred_final[\"Lead_Score\"]>=85]\n",
    "hot_leads"
   ]
  },
  {
   "cell_type": "markdown",
   "id": "b79e5da9",
   "metadata": {},
   "source": [
    "-  <b>There are 787 leads which can be contacted and have a high chance of getting converted.<b>"
   ]
  },
  {
   "cell_type": "markdown",
   "id": "fdb4debc",
   "metadata": {},
   "source": [
    "### FINDING IMPORTANT FEATURES FROM OUR FINAL MODEL:"
   ]
  },
  {
   "cell_type": "code",
   "execution_count": 198,
   "id": "8882a3e9",
   "metadata": {},
   "outputs": [
    {
     "data": {
      "text/plain": [
       "Tags_Closed by Horizzon                          4.882959\n",
       "Lead_Source_Welingak Website                     3.547592\n",
       "Tags_Will revert after reading the email         2.935875\n",
       "Lead_Origin_Lead Add Form                        1.988597\n",
       "Last_Activity_SMS Sent                           1.559959\n",
       "Lead_Source_Olark Chat                           1.139687\n",
       "Total Time Spent on Website                      1.091437\n",
       "const                                           -0.367184\n",
       "Last_Notable_Activity_Modified                  -0.974779\n",
       "Specialization_Travel and Tourism               -1.037732\n",
       "Tags_Other Tags                                 -1.107197\n",
       "Do Not Email                                    -1.423380\n",
       "Last_Notable_Activity_Olark Chat Conversation   -1.445328\n",
       "Occupation_Not Specified                        -1.785150\n",
       "Tags_Interested in other courses                -3.580875\n",
       "Tags_Ringing                                    -4.231204\n",
       "Tags_Already a student                          -4.459881\n",
       "dtype: float64"
      ]
     },
     "execution_count": 198,
     "metadata": {},
     "output_type": "execute_result"
    }
   ],
   "source": [
    "# Important features from our final model:\n",
    "res.params.sort_values(ascending=False)"
   ]
  },
  {
   "cell_type": "markdown",
   "id": "ce205b8e",
   "metadata": {},
   "source": [
    "### CONCLUSION:"
   ]
  },
  {
   "cell_type": "markdown",
   "id": "1b3b87ee",
   "metadata": {},
   "source": [
    "<b>Logistic regression model is used to predict the probability of conversion of a customer<b>"
   ]
  },
  {
   "cell_type": "markdown",
   "id": "1177b1dd",
   "metadata": {},
   "source": [
    "-  <b> Top three variable are: Tags will revert after reading the mail<b>\n",
    "-  <b> Tags closed by horizon<b>\n",
    "-  <b> Last activity SMS sent<b>"
   ]
  },
  {
   "cell_type": "code",
   "execution_count": null,
   "id": "3c3f79e7",
   "metadata": {},
   "outputs": [],
   "source": []
  },
  {
   "cell_type": "code",
   "execution_count": null,
   "id": "ff0c6d66",
   "metadata": {},
   "outputs": [],
   "source": []
  },
  {
   "cell_type": "code",
   "execution_count": null,
   "id": "4c9d6a66",
   "metadata": {},
   "outputs": [],
   "source": []
  },
  {
   "cell_type": "code",
   "execution_count": null,
   "id": "6468485b",
   "metadata": {},
   "outputs": [],
   "source": []
  },
  {
   "cell_type": "code",
   "execution_count": null,
   "id": "cb2dc1be",
   "metadata": {},
   "outputs": [],
   "source": []
  },
  {
   "cell_type": "code",
   "execution_count": null,
   "id": "96915349",
   "metadata": {},
   "outputs": [],
   "source": []
  },
  {
   "cell_type": "code",
   "execution_count": null,
   "id": "071012dd",
   "metadata": {},
   "outputs": [],
   "source": []
  },
  {
   "cell_type": "code",
   "execution_count": null,
   "id": "e409a25d",
   "metadata": {},
   "outputs": [],
   "source": []
  },
  {
   "cell_type": "code",
   "execution_count": null,
   "id": "7c76616e",
   "metadata": {},
   "outputs": [],
   "source": []
  }
 ],
 "metadata": {
  "kernelspec": {
   "display_name": "Python 3 (ipykernel)",
   "language": "python",
   "name": "python3"
  },
  "language_info": {
   "codemirror_mode": {
    "name": "ipython",
    "version": 3
   },
   "file_extension": ".py",
   "mimetype": "text/x-python",
   "name": "python",
   "nbconvert_exporter": "python",
   "pygments_lexer": "ipython3",
   "version": "3.9.13"
  }
 },
 "nbformat": 4,
 "nbformat_minor": 5
}
